{
  "nbformat": 4,
  "nbformat_minor": 0,
  "metadata": {
    "colab": {
      "name": "nlp-ryhmä4.ipynb",
      "provenance": [],
      "collapsed_sections": [],
      "include_colab_link": true
    },
    "kernelspec": {
      "name": "python3",
      "display_name": "Python 3"
    }
  },
  "cells": [
    {
      "cell_type": "markdown",
      "metadata": {
        "id": "view-in-github",
        "colab_type": "text"
      },
      "source": [
        "<a href=\"https://colab.research.google.com/github/CoolCodeMan/intro2LT/blob/lauri/tfidf-ja-linearSVC.ipynb\" target=\"_parent\"><img src=\"https://colab.research.google.com/assets/colab-badge.svg\" alt=\"Open In Colab\"/></a>"
      ]
    },
    {
      "cell_type": "code",
      "metadata": {
        "colab": {
          "base_uri": "https://localhost:8080/"
        },
        "id": "-uHNyc4iglDJ",
        "outputId": "7fa82ef7-517d-447b-862c-88692d217e58"
      },
      "source": [
        "print(\"nlp4\")"
      ],
      "execution_count": 65,
      "outputs": [
        {
          "output_type": "stream",
          "text": [
            "nlp4\n"
          ],
          "name": "stdout"
        }
      ]
    },
    {
      "cell_type": "code",
      "metadata": {
        "id": "JEhZUFFYKBCe"
      },
      "source": [
        "import pandas as pd"
      ],
      "execution_count": 66,
      "outputs": []
    },
    {
      "cell_type": "code",
      "metadata": {
        "id": "u_eHo6ctLX77",
        "colab": {
          "base_uri": "https://localhost:8080/"
        },
        "outputId": "199bb5b8-3b62-480b-ed08-75df028ab990"
      },
      "source": [
        "!wget -O anger-train.tsv http://dl.turkunlp.org/TKO_8966_2021-projects/anger-annotation/train.tsv\n",
        "!wget -O anger-test.tsv http://dl.turkunlp.org/TKO_8966_2021-projects/anger-annotation/test.tsv"
      ],
      "execution_count": 67,
      "outputs": [
        {
          "output_type": "stream",
          "text": [
            "--2021-03-23 19:56:51--  http://dl.turkunlp.org/TKO_8966_2021-projects/anger-annotation/train.tsv\n",
            "Resolving dl.turkunlp.org (dl.turkunlp.org)... 195.148.30.23\n",
            "Connecting to dl.turkunlp.org (dl.turkunlp.org)|195.148.30.23|:80... connected.\n",
            "HTTP request sent, awaiting response... 200 OK\n",
            "Length: 94016 (92K) [application/octet-stream]\n",
            "Saving to: ‘anger-train.tsv’\n",
            "\n",
            "anger-train.tsv     100%[===================>]  91.81K   109KB/s    in 0.8s    \n",
            "\n",
            "2021-03-23 19:56:52 (109 KB/s) - ‘anger-train.tsv’ saved [94016/94016]\n",
            "\n",
            "--2021-03-23 19:56:52--  http://dl.turkunlp.org/TKO_8966_2021-projects/anger-annotation/test.tsv\n",
            "Resolving dl.turkunlp.org (dl.turkunlp.org)... 195.148.30.23\n",
            "Connecting to dl.turkunlp.org (dl.turkunlp.org)|195.148.30.23|:80... connected.\n",
            "HTTP request sent, awaiting response... 200 OK\n",
            "Length: 25667 (25K) [application/octet-stream]\n",
            "Saving to: ‘anger-test.tsv’\n",
            "\n",
            "anger-test.tsv      100%[===================>]  25.07K  83.6KB/s    in 0.3s    \n",
            "\n",
            "2021-03-23 19:56:53 (83.6 KB/s) - ‘anger-test.tsv’ saved [25667/25667]\n",
            "\n"
          ],
          "name": "stdout"
        }
      ]
    },
    {
      "cell_type": "code",
      "metadata": {
        "id": "FGXgkrnNKDXU",
        "colab": {
          "base_uri": "https://localhost:8080/",
          "height": 206
        },
        "outputId": "80a4263a-3ac0-4e3e-88b5-f4011c54db92"
      },
      "source": [
        "path = '/content/anger-train.tsv'\n",
        "df_anger_train = pd.read_csv(path, error_bad_lines=False, header=0, names=['emotion','text'], sep='\\t')\n",
        "df_anger_train.tail()"
      ],
      "execution_count": 68,
      "outputs": [
        {
          "output_type": "execute_result",
          "data": {
            "text/html": [
              "<div>\n",
              "<style scoped>\n",
              "    .dataframe tbody tr th:only-of-type {\n",
              "        vertical-align: middle;\n",
              "    }\n",
              "\n",
              "    .dataframe tbody tr th {\n",
              "        vertical-align: top;\n",
              "    }\n",
              "\n",
              "    .dataframe thead th {\n",
              "        text-align: right;\n",
              "    }\n",
              "</style>\n",
              "<table border=\"1\" class=\"dataframe\">\n",
              "  <thead>\n",
              "    <tr style=\"text-align: right;\">\n",
              "      <th></th>\n",
              "      <th>emotion</th>\n",
              "      <th>text</th>\n",
              "    </tr>\n",
              "  </thead>\n",
              "  <tbody>\n",
              "    <tr>\n",
              "      <th>1063</th>\n",
              "      <td>anger</td>\n",
              "      <td>Jos et lopeta, käytän loitsujani sinuun. Miksi...</td>\n",
              "    </tr>\n",
              "    <tr>\n",
              "      <th>1064</th>\n",
              "      <td>not-anger</td>\n",
              "      <td>42 prosenttia uskoo , että inflaatio on suurin...</td>\n",
              "    </tr>\n",
              "    <tr>\n",
              "      <th>1065</th>\n",
              "      <td>not-anger</td>\n",
              "      <td>SS : Kultakoruista ei makseta reilua hintaa</td>\n",
              "    </tr>\n",
              "    <tr>\n",
              "      <th>1066</th>\n",
              "      <td>not-anger</td>\n",
              "      <td>Hän ei ole hullu.</td>\n",
              "    </tr>\n",
              "    <tr>\n",
              "      <th>1067</th>\n",
              "      <td>not-anger</td>\n",
              "      <td>Lysähdin huohottaen lattialle istumaan .</td>\n",
              "    </tr>\n",
              "  </tbody>\n",
              "</table>\n",
              "</div>"
            ],
            "text/plain": [
              "        emotion                                               text\n",
              "1063      anger  Jos et lopeta, käytän loitsujani sinuun. Miksi...\n",
              "1064  not-anger  42 prosenttia uskoo , että inflaatio on suurin...\n",
              "1065  not-anger        SS : Kultakoruista ei makseta reilua hintaa\n",
              "1066  not-anger                                  Hän ei ole hullu.\n",
              "1067  not-anger           Lysähdin huohottaen lattialle istumaan ."
            ]
          },
          "metadata": {
            "tags": []
          },
          "execution_count": 68
        }
      ]
    },
    {
      "cell_type": "code",
      "metadata": {
        "id": "chD8LfbTT1cy",
        "colab": {
          "base_uri": "https://localhost:8080/",
          "height": 206
        },
        "outputId": "8a335d74-1668-4ce4-88e7-efcf09f3fb76"
      },
      "source": [
        "path = '/content/anger-test.tsv'\n",
        "df_anger_test = pd.read_csv(path, error_bad_lines=False, header=0, names=['emotion','text'], sep='\\t')\n",
        "df_anger_test.tail()"
      ],
      "execution_count": 69,
      "outputs": [
        {
          "output_type": "execute_result",
          "data": {
            "text/html": [
              "<div>\n",
              "<style scoped>\n",
              "    .dataframe tbody tr th:only-of-type {\n",
              "        vertical-align: middle;\n",
              "    }\n",
              "\n",
              "    .dataframe tbody tr th {\n",
              "        vertical-align: top;\n",
              "    }\n",
              "\n",
              "    .dataframe thead th {\n",
              "        text-align: right;\n",
              "    }\n",
              "</style>\n",
              "<table border=\"1\" class=\"dataframe\">\n",
              "  <thead>\n",
              "    <tr style=\"text-align: right;\">\n",
              "      <th></th>\n",
              "      <th>emotion</th>\n",
              "      <th>text</th>\n",
              "    </tr>\n",
              "  </thead>\n",
              "  <tbody>\n",
              "    <tr>\n",
              "      <th>310</th>\n",
              "      <td>not-anger</td>\n",
              "      <td>Oli ihan pakko jäädä kotiin ja kattoa häitä ;)</td>\n",
              "    </tr>\n",
              "    <tr>\n",
              "      <th>311</th>\n",
              "      <td>not-anger</td>\n",
              "      <td>Kuulostaa hieman hipsteriprojektilta jonka käy...</td>\n",
              "    </tr>\n",
              "    <tr>\n",
              "      <th>312</th>\n",
              "      <td>not-anger</td>\n",
              "      <td>Suonet anteeksi , jos epäilen sanojasi .</td>\n",
              "    </tr>\n",
              "    <tr>\n",
              "      <th>313</th>\n",
              "      <td>not-anger</td>\n",
              "      <td>Filosofin mukaan jokaisella on oikeus onnensa ...</td>\n",
              "    </tr>\n",
              "    <tr>\n",
              "      <th>314</th>\n",
              "      <td>not-anger</td>\n",
              "      <td>kun kertovat tuolta keskussairaalalta tosi huo...</td>\n",
              "    </tr>\n",
              "  </tbody>\n",
              "</table>\n",
              "</div>"
            ],
            "text/plain": [
              "       emotion                                               text\n",
              "310  not-anger     Oli ihan pakko jäädä kotiin ja kattoa häitä ;)\n",
              "311  not-anger  Kuulostaa hieman hipsteriprojektilta jonka käy...\n",
              "312  not-anger           Suonet anteeksi , jos epäilen sanojasi .\n",
              "313  not-anger  Filosofin mukaan jokaisella on oikeus onnensa ...\n",
              "314  not-anger  kun kertovat tuolta keskussairaalalta tosi huo..."
            ]
          },
          "metadata": {
            "tags": []
          },
          "execution_count": 69
        }
      ]
    },
    {
      "cell_type": "code",
      "metadata": {
        "id": "VkNlp3lvKStp",
        "colab": {
          "base_uri": "https://localhost:8080/"
        },
        "outputId": "275e323f-b6a5-4a08-e292-7027f1436dc2"
      },
      "source": [
        "!wget -O joy-train.tsv http://dl.turkunlp.org/TKO_8966_2021-projects/joy-annotation/train.tsv\n",
        "!wget -O joy-test.tsv http://dl.turkunlp.org/TKO_8966_2021-projects/joy-annotation/test.tsv"
      ],
      "execution_count": 70,
      "outputs": [
        {
          "output_type": "stream",
          "text": [
            "--2021-03-23 19:57:00--  http://dl.turkunlp.org/TKO_8966_2021-projects/joy-annotation/train.tsv\n",
            "Resolving dl.turkunlp.org (dl.turkunlp.org)... 195.148.30.23\n",
            "Connecting to dl.turkunlp.org (dl.turkunlp.org)|195.148.30.23|:80... connected.\n",
            "HTTP request sent, awaiting response... 200 OK\n",
            "Length: 71887 (70K) [application/octet-stream]\n",
            "Saving to: ‘joy-train.tsv’\n",
            "\n",
            "joy-train.tsv       100%[===================>]  70.20K   123KB/s    in 0.6s    \n",
            "\n",
            "2021-03-23 19:57:01 (123 KB/s) - ‘joy-train.tsv’ saved [71887/71887]\n",
            "\n",
            "--2021-03-23 19:57:01--  http://dl.turkunlp.org/TKO_8966_2021-projects/joy-annotation/test.tsv\n",
            "Resolving dl.turkunlp.org (dl.turkunlp.org)... 195.148.30.23\n",
            "Connecting to dl.turkunlp.org (dl.turkunlp.org)|195.148.30.23|:80... connected.\n",
            "HTTP request sent, awaiting response... 200 OK\n",
            "Length: 19663 (19K) [application/octet-stream]\n",
            "Saving to: ‘joy-test.tsv’\n",
            "\n",
            "joy-test.tsv        100%[===================>]  19.20K  68.6KB/s    in 0.3s    \n",
            "\n",
            "2021-03-23 19:57:02 (68.6 KB/s) - ‘joy-test.tsv’ saved [19663/19663]\n",
            "\n"
          ],
          "name": "stdout"
        }
      ]
    },
    {
      "cell_type": "code",
      "metadata": {
        "id": "N6ZYT5qeNuAn",
        "colab": {
          "base_uri": "https://localhost:8080/",
          "height": 206
        },
        "outputId": "5abaeb09-8e72-46f4-bb5c-64d6228353ab"
      },
      "source": [
        "path = '/content/joy-train.tsv'\n",
        "df_joy_train = pd.read_csv(path, error_bad_lines=False, header=0, names=['emotion','text'], sep='\\t')\n",
        "df_joy_train.tail()"
      ],
      "execution_count": 71,
      "outputs": [
        {
          "output_type": "execute_result",
          "data": {
            "text/html": [
              "<div>\n",
              "<style scoped>\n",
              "    .dataframe tbody tr th:only-of-type {\n",
              "        vertical-align: middle;\n",
              "    }\n",
              "\n",
              "    .dataframe tbody tr th {\n",
              "        vertical-align: top;\n",
              "    }\n",
              "\n",
              "    .dataframe thead th {\n",
              "        text-align: right;\n",
              "    }\n",
              "</style>\n",
              "<table border=\"1\" class=\"dataframe\">\n",
              "  <thead>\n",
              "    <tr style=\"text-align: right;\">\n",
              "      <th></th>\n",
              "      <th>emotion</th>\n",
              "      <th>text</th>\n",
              "    </tr>\n",
              "  </thead>\n",
              "  <tbody>\n",
              "    <tr>\n",
              "      <th>952</th>\n",
              "      <td>joy</td>\n",
              "      <td>Älä naurata, ihoni alkaa halkeilla.</td>\n",
              "    </tr>\n",
              "    <tr>\n",
              "      <th>953</th>\n",
              "      <td>joy</td>\n",
              "      <td>Ei ihme, että miehenne rakastaa teitä.</td>\n",
              "    </tr>\n",
              "    <tr>\n",
              "      <th>954</th>\n",
              "      <td>not-joy</td>\n",
              "      <td>Olette provisiopalkalla vai mitä?</td>\n",
              "    </tr>\n",
              "    <tr>\n",
              "      <th>955</th>\n",
              "      <td>not-joy</td>\n",
              "      <td>Et sinä ole mies.</td>\n",
              "    </tr>\n",
              "    <tr>\n",
              "      <th>956</th>\n",
              "      <td>not-joy</td>\n",
              "      <td>Hyvät hermot ovat tarpeen.</td>\n",
              "    </tr>\n",
              "  </tbody>\n",
              "</table>\n",
              "</div>"
            ],
            "text/plain": [
              "     emotion                                    text\n",
              "952      joy     Älä naurata, ihoni alkaa halkeilla.\n",
              "953      joy  Ei ihme, että miehenne rakastaa teitä.\n",
              "954  not-joy       Olette provisiopalkalla vai mitä?\n",
              "955  not-joy                       Et sinä ole mies.\n",
              "956  not-joy              Hyvät hermot ovat tarpeen."
            ]
          },
          "metadata": {
            "tags": []
          },
          "execution_count": 71
        }
      ]
    },
    {
      "cell_type": "code",
      "metadata": {
        "id": "tF81aBX_UVmA",
        "colab": {
          "base_uri": "https://localhost:8080/",
          "height": 206
        },
        "outputId": "3544d21e-62f5-4825-c3cd-f3e20b3cb2a7"
      },
      "source": [
        "path = '/content/joy-test.tsv'\n",
        "df_joy_test = pd.read_csv(path, error_bad_lines=False, header=0, names=['emotion','text'], sep='\\t')\n",
        "df_joy_test.tail()"
      ],
      "execution_count": 72,
      "outputs": [
        {
          "output_type": "execute_result",
          "data": {
            "text/html": [
              "<div>\n",
              "<style scoped>\n",
              "    .dataframe tbody tr th:only-of-type {\n",
              "        vertical-align: middle;\n",
              "    }\n",
              "\n",
              "    .dataframe tbody tr th {\n",
              "        vertical-align: top;\n",
              "    }\n",
              "\n",
              "    .dataframe thead th {\n",
              "        text-align: right;\n",
              "    }\n",
              "</style>\n",
              "<table border=\"1\" class=\"dataframe\">\n",
              "  <thead>\n",
              "    <tr style=\"text-align: right;\">\n",
              "      <th></th>\n",
              "      <th>emotion</th>\n",
              "      <th>text</th>\n",
              "    </tr>\n",
              "  </thead>\n",
              "  <tbody>\n",
              "    <tr>\n",
              "      <th>272</th>\n",
              "      <td>not-joy</td>\n",
              "      <td>Tämä nimittäin teettää palokunnalle töitä huom...</td>\n",
              "    </tr>\n",
              "    <tr>\n",
              "      <th>273</th>\n",
              "      <td>joy</td>\n",
              "      <td>Hän on ihana lapsi.</td>\n",
              "    </tr>\n",
              "    <tr>\n",
              "      <th>274</th>\n",
              "      <td>not-joy</td>\n",
              "      <td>Emme ole varmoja onko mitään tapahtunut vielä.</td>\n",
              "    </tr>\n",
              "    <tr>\n",
              "      <th>275</th>\n",
              "      <td>joy</td>\n",
              "      <td>Hän on hyvä mies.</td>\n",
              "    </tr>\n",
              "    <tr>\n",
              "      <th>276</th>\n",
              "      <td>joy</td>\n",
              "      <td>Tästä tulee hieno sankariruno.</td>\n",
              "    </tr>\n",
              "  </tbody>\n",
              "</table>\n",
              "</div>"
            ],
            "text/plain": [
              "     emotion                                               text\n",
              "272  not-joy  Tämä nimittäin teettää palokunnalle töitä huom...\n",
              "273      joy                                Hän on ihana lapsi.\n",
              "274  not-joy     Emme ole varmoja onko mitään tapahtunut vielä.\n",
              "275      joy                                  Hän on hyvä mies.\n",
              "276      joy                     Tästä tulee hieno sankariruno."
            ]
          },
          "metadata": {
            "tags": []
          },
          "execution_count": 72
        }
      ]
    },
    {
      "cell_type": "code",
      "metadata": {
        "id": "GNDwpVd0PrXY"
      },
      "source": [
        "from sklearn.utils import shuffle"
      ],
      "execution_count": 73,
      "outputs": []
    },
    {
      "cell_type": "code",
      "metadata": {
        "id": "9nOt-d9JOvLU",
        "colab": {
          "base_uri": "https://localhost:8080/",
          "height": 206
        },
        "outputId": "ae79d01a-711c-4570-8884-fb272236a960"
      },
      "source": [
        "df = pd.concat([df_joy_train, df_anger_train, df_joy_test, df_anger_test])\n",
        "df['emotion'].replace({'not-joy':'neutral', 'not-anger':'neutral'}, inplace=True)\n",
        "df = shuffle(df)\n",
        "df.reset_index(inplace=True, drop=True) \n",
        "df.tail()"
      ],
      "execution_count": 86,
      "outputs": [
        {
          "output_type": "execute_result",
          "data": {
            "text/html": [
              "<div>\n",
              "<style scoped>\n",
              "    .dataframe tbody tr th:only-of-type {\n",
              "        vertical-align: middle;\n",
              "    }\n",
              "\n",
              "    .dataframe tbody tr th {\n",
              "        vertical-align: top;\n",
              "    }\n",
              "\n",
              "    .dataframe thead th {\n",
              "        text-align: right;\n",
              "    }\n",
              "</style>\n",
              "<table border=\"1\" class=\"dataframe\">\n",
              "  <thead>\n",
              "    <tr style=\"text-align: right;\">\n",
              "      <th></th>\n",
              "      <th>emotion</th>\n",
              "      <th>text</th>\n",
              "    </tr>\n",
              "  </thead>\n",
              "  <tbody>\n",
              "    <tr>\n",
              "      <th>2612</th>\n",
              "      <td>joy</td>\n",
              "      <td>Nautin sen nostamasta lumipöllystä , se tunkeu...</td>\n",
              "    </tr>\n",
              "    <tr>\n",
              "      <th>2613</th>\n",
              "      <td>neutral</td>\n",
              "      <td>Toinen puoliaika täytyy hoitaa tehokkaammin. #...</td>\n",
              "    </tr>\n",
              "    <tr>\n",
              "      <th>2614</th>\n",
              "      <td>neutral</td>\n",
              "      <td>Minulla on vielä reilut 400 euroa tämän vuoden...</td>\n",
              "    </tr>\n",
              "    <tr>\n",
              "      <th>2615</th>\n",
              "      <td>neutral</td>\n",
              "      <td>Joskus biisin loppupuolella he ovat keränneet ...</td>\n",
              "    </tr>\n",
              "    <tr>\n",
              "      <th>2616</th>\n",
              "      <td>neutral</td>\n",
              "      <td>Kaikki muu kellarissa oli pölyistä.</td>\n",
              "    </tr>\n",
              "  </tbody>\n",
              "</table>\n",
              "</div>"
            ],
            "text/plain": [
              "      emotion                                               text\n",
              "2612      joy  Nautin sen nostamasta lumipöllystä , se tunkeu...\n",
              "2613  neutral  Toinen puoliaika täytyy hoitaa tehokkaammin. #...\n",
              "2614  neutral  Minulla on vielä reilut 400 euroa tämän vuoden...\n",
              "2615  neutral  Joskus biisin loppupuolella he ovat keränneet ...\n",
              "2616  neutral                Kaikki muu kellarissa oli pölyistä."
            ]
          },
          "metadata": {
            "tags": []
          },
          "execution_count": 86
        }
      ]
    },
    {
      "cell_type": "code",
      "metadata": {
        "id": "ypGdKd1ARTud"
      },
      "source": [
        "labels = df['emotion']\n",
        "dataset = df['text']"
      ],
      "execution_count": 87,
      "outputs": []
    },
    {
      "cell_type": "code",
      "metadata": {
        "id": "bAALXUcpN16h"
      },
      "source": [
        "from sklearn.feature_extraction.text import CountVectorizer\n",
        "from sklearn.feature_extraction.text import TfidfVectorizer"
      ],
      "execution_count": 88,
      "outputs": []
    },
    {
      "cell_type": "code",
      "metadata": {
        "id": "GUC62D42RoqW",
        "colab": {
          "base_uri": "https://localhost:8080/"
        },
        "outputId": "9f9fab92-6df2-4086-8b71-3b835932f90f"
      },
      "source": [
        "# vectorizer=CountVectorizer(analyzer='word', ngram_range=(1,3))\n",
        "vectorizer=TfidfVectorizer(analyzer='word', ngram_range=(1,3))\n",
        "feature_matrix=vectorizer.fit_transform(dataset)\n",
        "print(\"shape=\",feature_matrix.shape)\n",
        "print(feature_matrix)"
      ],
      "execution_count": 96,
      "outputs": [
        {
          "output_type": "stream",
          "text": [
            "shape= (2617, 44491)\n",
            "  (0, 31823)\t0.22077723122521006\n",
            "  (0, 40936)\t0.22077723122521006\n",
            "  (0, 25769)\t0.22077723122521006\n",
            "  (0, 33979)\t0.22077723122521006\n",
            "  (0, 30120)\t0.22077723122521006\n",
            "  (0, 11898)\t0.22077723122521006\n",
            "  (0, 11402)\t0.22077723122521006\n",
            "  (0, 33445)\t0.22077723122521006\n",
            "  (0, 31822)\t0.22077723122521006\n",
            "  (0, 40935)\t0.22077723122521006\n",
            "  (0, 25768)\t0.22077723122521006\n",
            "  (0, 33978)\t0.22077723122521006\n",
            "  (0, 30119)\t0.22077723122521006\n",
            "  (0, 11897)\t0.22077723122521006\n",
            "  (0, 11401)\t0.22077723122521006\n",
            "  (0, 29726)\t0.15729075360915282\n",
            "  (0, 33444)\t0.20982978613681788\n",
            "  (0, 31797)\t0.15258326067431452\n",
            "  (0, 40925)\t0.18334766924509716\n",
            "  (0, 25666)\t0.12556647835615964\n",
            "  (0, 33966)\t0.15050533397992064\n",
            "  (0, 30118)\t0.20982978613681788\n",
            "  (0, 11896)\t0.22077723122521006\n",
            "  (0, 11342)\t0.10956437372755252\n",
            "  (1, 21226)\t0.22848605682312378\n",
            "  :\t:\n",
            "  (2615, 33252)\t0.11845657149000076\n",
            "  (2615, 8901)\t0.1300563346303462\n",
            "  (2615, 6389)\t0.11587687207829007\n",
            "  (2615, 31837)\t0.12524199794435031\n",
            "  (2615, 42153)\t0.11364223480400489\n",
            "  (2615, 11541)\t0.10007138189530577\n",
            "  (2615, 6362)\t0.09044270852331404\n",
            "  (2615, 33126)\t0.07223275530213218\n",
            "  (2615, 20850)\t0.09457389236582736\n",
            "  (2615, 27866)\t0.07734329300833774\n",
            "  (2615, 4936)\t0.054506270159780955\n",
            "  (2615, 9483)\t0.04378419462883473\n",
            "  (2615, 29726)\t0.09749168248359509\n",
            "  (2616, 13886)\t0.3136188697599151\n",
            "  (2616, 22306)\t0.3136188697599151\n",
            "  (2616, 12760)\t0.3136188697599151\n",
            "  (2616, 25518)\t0.3136188697599151\n",
            "  (2616, 13885)\t0.3136188697599151\n",
            "  (2616, 22305)\t0.3136188697599151\n",
            "  (2616, 30851)\t0.3136188697599151\n",
            "  (2616, 13884)\t0.3136188697599151\n",
            "  (2616, 12759)\t0.29806778536445033\n",
            "  (2616, 22298)\t0.2604493610263021\n",
            "  (2616, 12715)\t0.18010045511079853\n",
            "  (2616, 25350)\t0.15501995994681916\n"
          ],
          "name": "stdout"
        }
      ]
    },
    {
      "cell_type": "code",
      "metadata": {
        "id": "lBAOIYgSbxy9"
      },
      "source": [
        "from sklearn.model_selection import train_test_split"
      ],
      "execution_count": 97,
      "outputs": []
    },
    {
      "cell_type": "code",
      "metadata": {
        "id": "uu3Kgl2raOne"
      },
      "source": [
        "X_train, X_test,  y_train, y_test = train_test_split(\n",
        "               feature_matrix, labels, test_size=0.3)"
      ],
      "execution_count": 98,
      "outputs": []
    },
    {
      "cell_type": "code",
      "metadata": {
        "id": "PPvl7qciSM1v"
      },
      "source": [
        "import sklearn.svm"
      ],
      "execution_count": 99,
      "outputs": []
    },
    {
      "cell_type": "code",
      "metadata": {
        "id": "gNTBg_DMSXkf",
        "colab": {
          "base_uri": "https://localhost:8080/"
        },
        "outputId": "8ba6f0a0-9d01-43cb-e12f-076872bc4a53"
      },
      "source": [
        "classifier=sklearn.svm.LinearSVC(C=0.5)\n",
        "classifier.fit(X_train, y_train)"
      ],
      "execution_count": 100,
      "outputs": [
        {
          "output_type": "execute_result",
          "data": {
            "text/plain": [
              "LinearSVC(C=0.5, class_weight=None, dual=True, fit_intercept=True,\n",
              "          intercept_scaling=1, loss='squared_hinge', max_iter=1000,\n",
              "          multi_class='ovr', penalty='l2', random_state=None, tol=0.0001,\n",
              "          verbose=0)"
            ]
          },
          "metadata": {
            "tags": []
          },
          "execution_count": 100
        }
      ]
    },
    {
      "cell_type": "code",
      "metadata": {
        "id": "k08OMVTKSuMY",
        "colab": {
          "base_uri": "https://localhost:8080/"
        },
        "outputId": "d2cc18a8-a0a2-4954-c9db-31a0188925bc"
      },
      "source": [
        "print(\"TRAIN\", classifier.score(X_train, y_train))\n",
        "print(\"TEST \", classifier.score(X_test, y_test))"
      ],
      "execution_count": 101,
      "outputs": [
        {
          "output_type": "stream",
          "text": [
            "TRAIN 0.9945385035499726\n",
            "TEST  0.7251908396946565\n"
          ],
          "name": "stdout"
        }
      ]
    },
    {
      "cell_type": "code",
      "metadata": {
        "id": "XAt92zxhrCoc"
      },
      "source": [
        ""
      ],
      "execution_count": null,
      "outputs": []
    }
  ]
}