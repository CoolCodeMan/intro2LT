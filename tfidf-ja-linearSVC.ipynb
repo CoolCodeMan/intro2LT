{
  "nbformat": 4,
  "nbformat_minor": 0,
  "metadata": {
    "colab": {
      "name": "nlp-ryhmä4.ipynb",
      "provenance": [],
      "collapsed_sections": [],
      "include_colab_link": true
    },
    "kernelspec": {
      "name": "python3",
      "display_name": "Python 3"
    }
  },
  "cells": [
    {
      "cell_type": "markdown",
      "metadata": {
        "id": "view-in-github",
        "colab_type": "text"
      },
      "source": [
        "<a href=\"https://colab.research.google.com/github/CoolCodeMan/intro2LT/blob/lauri/tfidf-ja-linearSVC.ipynb\" target=\"_parent\"><img src=\"https://colab.research.google.com/assets/colab-badge.svg\" alt=\"Open In Colab\"/></a>"
      ]
    },
    {
      "cell_type": "code",
      "metadata": {
        "colab": {
          "base_uri": "https://localhost:8080/"
        },
        "id": "-uHNyc4iglDJ",
        "outputId": "3397d634-2a65-4f26-adf1-25b5a45c71bc"
      },
      "source": [
        "print(\"nlp4\")"
      ],
      "execution_count": 55,
      "outputs": [
        {
          "output_type": "stream",
          "text": [
            "nlp4\n"
          ],
          "name": "stdout"
        }
      ]
    },
    {
      "cell_type": "code",
      "metadata": {
        "id": "JEhZUFFYKBCe"
      },
      "source": [
        "import pandas as pd"
      ],
      "execution_count": 56,
      "outputs": []
    },
    {
      "cell_type": "code",
      "metadata": {
        "id": "u_eHo6ctLX77",
        "colab": {
          "base_uri": "https://localhost:8080/"
        },
        "outputId": "41873b6b-581d-4a5d-8d0b-080863f5540b"
      },
      "source": [
        "!wget -O anger-train.tsv http://dl.turkunlp.org/TKO_8966_2021-projects/anger-annotation/train.tsv\n",
        "!wget -O anger-test.tsv http://dl.turkunlp.org/TKO_8966_2021-projects/anger-annotation/test.tsv"
      ],
      "execution_count": 57,
      "outputs": [
        {
          "output_type": "stream",
          "text": [
            "--2021-03-23 18:37:16--  http://dl.turkunlp.org/TKO_8966_2021-projects/anger-annotation/train.tsv\n",
            "Resolving dl.turkunlp.org (dl.turkunlp.org)... 195.148.30.23\n",
            "Connecting to dl.turkunlp.org (dl.turkunlp.org)|195.148.30.23|:80... connected.\n",
            "HTTP request sent, awaiting response... 200 OK\n",
            "Length: 94016 (92K) [application/octet-stream]\n",
            "Saving to: ‘anger-train.tsv’\n",
            "\n",
            "anger-train.tsv     100%[===================>]  91.81K   233KB/s    in 0.4s    \n",
            "\n",
            "2021-03-23 18:37:17 (233 KB/s) - ‘anger-train.tsv’ saved [94016/94016]\n",
            "\n",
            "--2021-03-23 18:37:17--  http://dl.turkunlp.org/TKO_8966_2021-projects/anger-annotation/test.tsv\n",
            "Resolving dl.turkunlp.org (dl.turkunlp.org)... 195.148.30.23\n",
            "Connecting to dl.turkunlp.org (dl.turkunlp.org)|195.148.30.23|:80... connected.\n",
            "HTTP request sent, awaiting response... 200 OK\n",
            "Length: 25667 (25K) [application/octet-stream]\n",
            "Saving to: ‘anger-test.tsv’\n",
            "\n",
            "anger-test.tsv      100%[===================>]  25.07K  --.-KB/s    in 0.1s    \n",
            "\n",
            "2021-03-23 18:37:17 (171 KB/s) - ‘anger-test.tsv’ saved [25667/25667]\n",
            "\n"
          ],
          "name": "stdout"
        }
      ]
    },
    {
      "cell_type": "code",
      "metadata": {
        "id": "FGXgkrnNKDXU",
        "colab": {
          "base_uri": "https://localhost:8080/",
          "height": 206
        },
        "outputId": "42fd3b63-ab5e-4d68-e914-7d5d649b3fba"
      },
      "source": [
        "path = '/content/anger-train.tsv'\n",
        "df_anger_train = pd.read_csv(path, error_bad_lines=False, header=0, names=['emotion','text'], sep='\\t')\n",
        "df_anger_train.tail()"
      ],
      "execution_count": 58,
      "outputs": [
        {
          "output_type": "execute_result",
          "data": {
            "text/html": [
              "<div>\n",
              "<style scoped>\n",
              "    .dataframe tbody tr th:only-of-type {\n",
              "        vertical-align: middle;\n",
              "    }\n",
              "\n",
              "    .dataframe tbody tr th {\n",
              "        vertical-align: top;\n",
              "    }\n",
              "\n",
              "    .dataframe thead th {\n",
              "        text-align: right;\n",
              "    }\n",
              "</style>\n",
              "<table border=\"1\" class=\"dataframe\">\n",
              "  <thead>\n",
              "    <tr style=\"text-align: right;\">\n",
              "      <th></th>\n",
              "      <th>emotion</th>\n",
              "      <th>text</th>\n",
              "    </tr>\n",
              "  </thead>\n",
              "  <tbody>\n",
              "    <tr>\n",
              "      <th>1063</th>\n",
              "      <td>anger</td>\n",
              "      <td>Jos et lopeta, käytän loitsujani sinuun. Miksi...</td>\n",
              "    </tr>\n",
              "    <tr>\n",
              "      <th>1064</th>\n",
              "      <td>not-anger</td>\n",
              "      <td>42 prosenttia uskoo , että inflaatio on suurin...</td>\n",
              "    </tr>\n",
              "    <tr>\n",
              "      <th>1065</th>\n",
              "      <td>not-anger</td>\n",
              "      <td>SS : Kultakoruista ei makseta reilua hintaa</td>\n",
              "    </tr>\n",
              "    <tr>\n",
              "      <th>1066</th>\n",
              "      <td>not-anger</td>\n",
              "      <td>Hän ei ole hullu.</td>\n",
              "    </tr>\n",
              "    <tr>\n",
              "      <th>1067</th>\n",
              "      <td>not-anger</td>\n",
              "      <td>Lysähdin huohottaen lattialle istumaan .</td>\n",
              "    </tr>\n",
              "  </tbody>\n",
              "</table>\n",
              "</div>"
            ],
            "text/plain": [
              "        emotion                                               text\n",
              "1063      anger  Jos et lopeta, käytän loitsujani sinuun. Miksi...\n",
              "1064  not-anger  42 prosenttia uskoo , että inflaatio on suurin...\n",
              "1065  not-anger        SS : Kultakoruista ei makseta reilua hintaa\n",
              "1066  not-anger                                  Hän ei ole hullu.\n",
              "1067  not-anger           Lysähdin huohottaen lattialle istumaan ."
            ]
          },
          "metadata": {
            "tags": []
          },
          "execution_count": 58
        }
      ]
    },
    {
      "cell_type": "code",
      "metadata": {
        "id": "chD8LfbTT1cy",
        "outputId": "0b5a3dc5-ec5a-48ac-c3d1-4ca9a0dd7289",
        "colab": {
          "base_uri": "https://localhost:8080/",
          "height": 206
        }
      },
      "source": [
        "path = '/content/anger-test.tsv'\n",
        "df_anger_test = pd.read_csv(path, error_bad_lines=False, header=0, names=['emotion','text'], sep='\\t')\n",
        "df_anger_test.tail()"
      ],
      "execution_count": 59,
      "outputs": [
        {
          "output_type": "execute_result",
          "data": {
            "text/html": [
              "<div>\n",
              "<style scoped>\n",
              "    .dataframe tbody tr th:only-of-type {\n",
              "        vertical-align: middle;\n",
              "    }\n",
              "\n",
              "    .dataframe tbody tr th {\n",
              "        vertical-align: top;\n",
              "    }\n",
              "\n",
              "    .dataframe thead th {\n",
              "        text-align: right;\n",
              "    }\n",
              "</style>\n",
              "<table border=\"1\" class=\"dataframe\">\n",
              "  <thead>\n",
              "    <tr style=\"text-align: right;\">\n",
              "      <th></th>\n",
              "      <th>emotion</th>\n",
              "      <th>text</th>\n",
              "    </tr>\n",
              "  </thead>\n",
              "  <tbody>\n",
              "    <tr>\n",
              "      <th>310</th>\n",
              "      <td>not-anger</td>\n",
              "      <td>Oli ihan pakko jäädä kotiin ja kattoa häitä ;)</td>\n",
              "    </tr>\n",
              "    <tr>\n",
              "      <th>311</th>\n",
              "      <td>not-anger</td>\n",
              "      <td>Kuulostaa hieman hipsteriprojektilta jonka käy...</td>\n",
              "    </tr>\n",
              "    <tr>\n",
              "      <th>312</th>\n",
              "      <td>not-anger</td>\n",
              "      <td>Suonet anteeksi , jos epäilen sanojasi .</td>\n",
              "    </tr>\n",
              "    <tr>\n",
              "      <th>313</th>\n",
              "      <td>not-anger</td>\n",
              "      <td>Filosofin mukaan jokaisella on oikeus onnensa ...</td>\n",
              "    </tr>\n",
              "    <tr>\n",
              "      <th>314</th>\n",
              "      <td>not-anger</td>\n",
              "      <td>kun kertovat tuolta keskussairaalalta tosi huo...</td>\n",
              "    </tr>\n",
              "  </tbody>\n",
              "</table>\n",
              "</div>"
            ],
            "text/plain": [
              "       emotion                                               text\n",
              "310  not-anger     Oli ihan pakko jäädä kotiin ja kattoa häitä ;)\n",
              "311  not-anger  Kuulostaa hieman hipsteriprojektilta jonka käy...\n",
              "312  not-anger           Suonet anteeksi , jos epäilen sanojasi .\n",
              "313  not-anger  Filosofin mukaan jokaisella on oikeus onnensa ...\n",
              "314  not-anger  kun kertovat tuolta keskussairaalalta tosi huo..."
            ]
          },
          "metadata": {
            "tags": []
          },
          "execution_count": 59
        }
      ]
    },
    {
      "cell_type": "code",
      "metadata": {
        "id": "VkNlp3lvKStp",
        "colab": {
          "base_uri": "https://localhost:8080/"
        },
        "outputId": "0136cb4e-e0b8-4b67-e5a4-5853caef10e3"
      },
      "source": [
        "!wget -O joy-train.tsv http://dl.turkunlp.org/TKO_8966_2021-projects/joy-annotation/train.tsv\n",
        "!wget -O joy-test.tsv http://dl.turkunlp.org/TKO_8966_2021-projects/joy-annotation/test.tsv"
      ],
      "execution_count": 60,
      "outputs": [
        {
          "output_type": "stream",
          "text": [
            "--2021-03-23 18:37:22--  http://dl.turkunlp.org/TKO_8966_2021-projects/joy-annotation/train.tsv\n",
            "Resolving dl.turkunlp.org (dl.turkunlp.org)... 195.148.30.23\n",
            "Connecting to dl.turkunlp.org (dl.turkunlp.org)|195.148.30.23|:80... connected.\n",
            "HTTP request sent, awaiting response... 200 OK\n",
            "Length: 71887 (70K) [application/octet-stream]\n",
            "Saving to: ‘joy-train.tsv’\n",
            "\n",
            "joy-train.tsv       100%[===================>]  70.20K   257KB/s    in 0.3s    \n",
            "\n",
            "2021-03-23 18:37:23 (257 KB/s) - ‘joy-train.tsv’ saved [71887/71887]\n",
            "\n",
            "--2021-03-23 18:37:23--  http://dl.turkunlp.org/TKO_8966_2021-projects/joy-annotation/test.tsv\n",
            "Resolving dl.turkunlp.org (dl.turkunlp.org)... 195.148.30.23\n",
            "Connecting to dl.turkunlp.org (dl.turkunlp.org)|195.148.30.23|:80... connected.\n",
            "HTTP request sent, awaiting response... 200 OK\n",
            "Length: 19663 (19K) [application/octet-stream]\n",
            "Saving to: ‘joy-test.tsv’\n",
            "\n",
            "joy-test.tsv        100%[===================>]  19.20K  --.-KB/s    in 0.1s    \n",
            "\n",
            "2021-03-23 18:37:23 (131 KB/s) - ‘joy-test.tsv’ saved [19663/19663]\n",
            "\n"
          ],
          "name": "stdout"
        }
      ]
    },
    {
      "cell_type": "code",
      "metadata": {
        "id": "N6ZYT5qeNuAn",
        "colab": {
          "base_uri": "https://localhost:8080/",
          "height": 206
        },
        "outputId": "2772d506-7b88-4a79-f1f2-290ce0920f52"
      },
      "source": [
        "path = '/content/joy-train.tsv'\n",
        "df_joy_train = pd.read_csv(path, error_bad_lines=False, header=0, names=['emotion','text'], sep='\\t')\n",
        "df_joy_train.tail()"
      ],
      "execution_count": 61,
      "outputs": [
        {
          "output_type": "execute_result",
          "data": {
            "text/html": [
              "<div>\n",
              "<style scoped>\n",
              "    .dataframe tbody tr th:only-of-type {\n",
              "        vertical-align: middle;\n",
              "    }\n",
              "\n",
              "    .dataframe tbody tr th {\n",
              "        vertical-align: top;\n",
              "    }\n",
              "\n",
              "    .dataframe thead th {\n",
              "        text-align: right;\n",
              "    }\n",
              "</style>\n",
              "<table border=\"1\" class=\"dataframe\">\n",
              "  <thead>\n",
              "    <tr style=\"text-align: right;\">\n",
              "      <th></th>\n",
              "      <th>emotion</th>\n",
              "      <th>text</th>\n",
              "    </tr>\n",
              "  </thead>\n",
              "  <tbody>\n",
              "    <tr>\n",
              "      <th>952</th>\n",
              "      <td>joy</td>\n",
              "      <td>Älä naurata, ihoni alkaa halkeilla.</td>\n",
              "    </tr>\n",
              "    <tr>\n",
              "      <th>953</th>\n",
              "      <td>joy</td>\n",
              "      <td>Ei ihme, että miehenne rakastaa teitä.</td>\n",
              "    </tr>\n",
              "    <tr>\n",
              "      <th>954</th>\n",
              "      <td>not-joy</td>\n",
              "      <td>Olette provisiopalkalla vai mitä?</td>\n",
              "    </tr>\n",
              "    <tr>\n",
              "      <th>955</th>\n",
              "      <td>not-joy</td>\n",
              "      <td>Et sinä ole mies.</td>\n",
              "    </tr>\n",
              "    <tr>\n",
              "      <th>956</th>\n",
              "      <td>not-joy</td>\n",
              "      <td>Hyvät hermot ovat tarpeen.</td>\n",
              "    </tr>\n",
              "  </tbody>\n",
              "</table>\n",
              "</div>"
            ],
            "text/plain": [
              "     emotion                                    text\n",
              "952      joy     Älä naurata, ihoni alkaa halkeilla.\n",
              "953      joy  Ei ihme, että miehenne rakastaa teitä.\n",
              "954  not-joy       Olette provisiopalkalla vai mitä?\n",
              "955  not-joy                       Et sinä ole mies.\n",
              "956  not-joy              Hyvät hermot ovat tarpeen."
            ]
          },
          "metadata": {
            "tags": []
          },
          "execution_count": 61
        }
      ]
    },
    {
      "cell_type": "code",
      "metadata": {
        "id": "tF81aBX_UVmA",
        "outputId": "d32b4c7a-0b74-43f1-cb27-e0d12182b451",
        "colab": {
          "base_uri": "https://localhost:8080/",
          "height": 206
        }
      },
      "source": [
        "path = '/content/joy-test.tsv'\n",
        "df_joy_test = pd.read_csv(path, error_bad_lines=False, header=0, names=['emotion','text'], sep='\\t')\n",
        "df_joy_test.tail()"
      ],
      "execution_count": 259,
      "outputs": [
        {
          "output_type": "execute_result",
          "data": {
            "text/html": [
              "<div>\n",
              "<style scoped>\n",
              "    .dataframe tbody tr th:only-of-type {\n",
              "        vertical-align: middle;\n",
              "    }\n",
              "\n",
              "    .dataframe tbody tr th {\n",
              "        vertical-align: top;\n",
              "    }\n",
              "\n",
              "    .dataframe thead th {\n",
              "        text-align: right;\n",
              "    }\n",
              "</style>\n",
              "<table border=\"1\" class=\"dataframe\">\n",
              "  <thead>\n",
              "    <tr style=\"text-align: right;\">\n",
              "      <th></th>\n",
              "      <th>emotion</th>\n",
              "      <th>text</th>\n",
              "    </tr>\n",
              "  </thead>\n",
              "  <tbody>\n",
              "    <tr>\n",
              "      <th>272</th>\n",
              "      <td>not-joy</td>\n",
              "      <td>Tämä nimittäin teettää palokunnalle töitä huom...</td>\n",
              "    </tr>\n",
              "    <tr>\n",
              "      <th>273</th>\n",
              "      <td>joy</td>\n",
              "      <td>Hän on ihana lapsi.</td>\n",
              "    </tr>\n",
              "    <tr>\n",
              "      <th>274</th>\n",
              "      <td>not-joy</td>\n",
              "      <td>Emme ole varmoja onko mitään tapahtunut vielä.</td>\n",
              "    </tr>\n",
              "    <tr>\n",
              "      <th>275</th>\n",
              "      <td>joy</td>\n",
              "      <td>Hän on hyvä mies.</td>\n",
              "    </tr>\n",
              "    <tr>\n",
              "      <th>276</th>\n",
              "      <td>joy</td>\n",
              "      <td>Tästä tulee hieno sankariruno.</td>\n",
              "    </tr>\n",
              "  </tbody>\n",
              "</table>\n",
              "</div>"
            ],
            "text/plain": [
              "     emotion                                               text\n",
              "272  not-joy  Tämä nimittäin teettää palokunnalle töitä huom...\n",
              "273      joy                                Hän on ihana lapsi.\n",
              "274  not-joy     Emme ole varmoja onko mitään tapahtunut vielä.\n",
              "275      joy                                  Hän on hyvä mies.\n",
              "276      joy                     Tästä tulee hieno sankariruno."
            ]
          },
          "metadata": {
            "tags": []
          },
          "execution_count": 259
        }
      ]
    },
    {
      "cell_type": "code",
      "metadata": {
        "id": "GNDwpVd0PrXY"
      },
      "source": [
        "from sklearn.utils import shuffle"
      ],
      "execution_count": 260,
      "outputs": []
    },
    {
      "cell_type": "code",
      "metadata": {
        "id": "9nOt-d9JOvLU",
        "colab": {
          "base_uri": "https://localhost:8080/",
          "height": 206
        },
        "outputId": "11a0c15c-98e6-4d90-a15b-3db36f3eb9a6"
      },
      "source": [
        "df = pd.concat([df_joy_train, df_anger_train, df_joy_test, df_anger_test])\n",
        "df = shuffle(df)\n",
        "df.reset_index(inplace=True, drop=True) \n",
        "df.tail()"
      ],
      "execution_count": 261,
      "outputs": [
        {
          "output_type": "execute_result",
          "data": {
            "text/html": [
              "<div>\n",
              "<style scoped>\n",
              "    .dataframe tbody tr th:only-of-type {\n",
              "        vertical-align: middle;\n",
              "    }\n",
              "\n",
              "    .dataframe tbody tr th {\n",
              "        vertical-align: top;\n",
              "    }\n",
              "\n",
              "    .dataframe thead th {\n",
              "        text-align: right;\n",
              "    }\n",
              "</style>\n",
              "<table border=\"1\" class=\"dataframe\">\n",
              "  <thead>\n",
              "    <tr style=\"text-align: right;\">\n",
              "      <th></th>\n",
              "      <th>emotion</th>\n",
              "      <th>text</th>\n",
              "    </tr>\n",
              "  </thead>\n",
              "  <tbody>\n",
              "    <tr>\n",
              "      <th>4914</th>\n",
              "      <td>not-anger</td>\n",
              "      <td>En voi uskoa, että oksensin rehtori Wormerin e...</td>\n",
              "    </tr>\n",
              "    <tr>\n",
              "      <th>4915</th>\n",
              "      <td>not-anger</td>\n",
              "      <td>Mary Pat, Mary Kate, Mary Frances, vauhtia!</td>\n",
              "    </tr>\n",
              "    <tr>\n",
              "      <th>4916</th>\n",
              "      <td>joy</td>\n",
              "      <td>Ihan totta, mukava nähdä sinua.</td>\n",
              "    </tr>\n",
              "    <tr>\n",
              "      <th>4917</th>\n",
              "      <td>anger</td>\n",
              "      <td>Sano sille, että vihaan häntä.</td>\n",
              "    </tr>\n",
              "    <tr>\n",
              "      <th>4918</th>\n",
              "      <td>not-joy</td>\n",
              "      <td>Jos ammut, joudut hirteen murhasta.</td>\n",
              "    </tr>\n",
              "  </tbody>\n",
              "</table>\n",
              "</div>"
            ],
            "text/plain": [
              "        emotion                                               text\n",
              "4914  not-anger  En voi uskoa, että oksensin rehtori Wormerin e...\n",
              "4915  not-anger        Mary Pat, Mary Kate, Mary Frances, vauhtia!\n",
              "4916        joy                    Ihan totta, mukava nähdä sinua.\n",
              "4917      anger                     Sano sille, että vihaan häntä.\n",
              "4918    not-joy                Jos ammut, joudut hirteen murhasta."
            ]
          },
          "metadata": {
            "tags": []
          },
          "execution_count": 261
        }
      ]
    },
    {
      "cell_type": "code",
      "metadata": {
        "id": "ypGdKd1ARTud"
      },
      "source": [
        "labels = df['emotion']\n",
        "dataset = df['text']"
      ],
      "execution_count": 262,
      "outputs": []
    },
    {
      "cell_type": "code",
      "metadata": {
        "id": "bAALXUcpN16h"
      },
      "source": [
        "from sklearn.feature_extraction.text import CountVectorizer\n",
        "from sklearn.feature_extraction.text import TfidfVectorizer"
      ],
      "execution_count": 263,
      "outputs": []
    },
    {
      "cell_type": "code",
      "metadata": {
        "id": "GUC62D42RoqW",
        "colab": {
          "base_uri": "https://localhost:8080/"
        },
        "outputId": "1ed641f0-7b0a-4c61-f694-159dfe1c5632"
      },
      "source": [
        "# vectorizer=CountVectorizer(analyzer='word', ngram_range=(1,3))\n",
        "vectorizer=TfidfVectorizer(analyzer='word', ngram_range=(1,3))\n",
        "feature_matrix=vectorizer.fit_transform(dataset)\n",
        "print(\"shape=\",feature_matrix.shape)\n",
        "print(feature_matrix)"
      ],
      "execution_count": 271,
      "outputs": [
        {
          "output_type": "stream",
          "text": [
            "shape= (4919, 44491)\n",
            "  (0, 39360)\t0.14951068232515757\n",
            "  (0, 13395)\t0.14951068232515757\n",
            "  (0, 31151)\t0.14951068232515757\n",
            "  (0, 27928)\t0.14951068232515757\n",
            "  (0, 27814)\t0.14951068232515757\n",
            "  (0, 17374)\t0.14951068232515757\n",
            "  (0, 7775)\t0.14951068232515757\n",
            "  (0, 31054)\t0.14951068232515757\n",
            "  (0, 10239)\t0.14951068232515757\n",
            "  (0, 35651)\t0.14951068232515757\n",
            "  (0, 24683)\t0.14951068232515757\n",
            "  (0, 15272)\t0.14951068232515757\n",
            "  (0, 39372)\t0.14951068232515757\n",
            "  (0, 21962)\t0.14951068232515757\n",
            "  (0, 42140)\t0.14951068232515757\n",
            "  (0, 9825)\t0.14951068232515757\n",
            "  (0, 39359)\t0.14951068232515757\n",
            "  (0, 13394)\t0.14951068232515757\n",
            "  (0, 31150)\t0.14951068232515757\n",
            "  (0, 27927)\t0.14951068232515757\n",
            "  (0, 27813)\t0.14951068232515757\n",
            "  (0, 17373)\t0.14951068232515757\n",
            "  (0, 7774)\t0.14951068232515757\n",
            "  (0, 31053)\t0.14951068232515757\n",
            "  (0, 10238)\t0.14951068232515757\n",
            "  :\t:\n",
            "  (4916, 33966)\t0.22404638953181855\n",
            "  (4917, 5392)\t0.32391735373753705\n",
            "  (4917, 33762)\t0.32391735373753705\n",
            "  (4917, 32372)\t0.32391735373753705\n",
            "  (4917, 42407)\t0.291253734068432\n",
            "  (4917, 5391)\t0.32391735373753705\n",
            "  (4917, 33761)\t0.32391735373753705\n",
            "  (4917, 32371)\t0.32391735373753705\n",
            "  (4917, 42404)\t0.2548444189674229\n",
            "  (4917, 33760)\t0.27382955436934736\n",
            "  (4917, 32365)\t0.291253734068432\n",
            "  (4917, 8412)\t0.2124925429170557\n",
            "  (4917, 4936)\t0.12540505949961686\n",
            "  (4918, 11830)\t0.2999146218069462\n",
            "  (4918, 1309)\t0.2999146218069462\n",
            "  (4918, 11347)\t0.2999146218069462\n",
            "  (4918, 7068)\t0.2999146218069462\n",
            "  (4918, 11829)\t0.2999146218069462\n",
            "  (4918, 1308)\t0.2999146218069462\n",
            "  (4918, 11346)\t0.2999146218069462\n",
            "  (4918, 21979)\t0.2999146218069462\n",
            "  (4918, 7067)\t0.2999146218069462\n",
            "  (4918, 1307)\t0.2999146218069462\n",
            "  (4918, 11828)\t0.28168136293226065\n",
            "  (4918, 11342)\t0.14549160127164829\n"
          ],
          "name": "stdout"
        }
      ]
    },
    {
      "cell_type": "code",
      "metadata": {
        "id": "lBAOIYgSbxy9"
      },
      "source": [
        "from sklearn.model_selection import train_test_split"
      ],
      "execution_count": 272,
      "outputs": []
    },
    {
      "cell_type": "code",
      "metadata": {
        "id": "uu3Kgl2raOne"
      },
      "source": [
        "X_train, X_test,  y_train, y_test = train_test_split(\n",
        "               feature_matrix, labels, test_size=0.3)"
      ],
      "execution_count": 273,
      "outputs": []
    },
    {
      "cell_type": "code",
      "metadata": {
        "id": "PPvl7qciSM1v"
      },
      "source": [
        "import sklearn.svm"
      ],
      "execution_count": 274,
      "outputs": []
    },
    {
      "cell_type": "code",
      "metadata": {
        "id": "gNTBg_DMSXkf",
        "colab": {
          "base_uri": "https://localhost:8080/"
        },
        "outputId": "ee547665-cac6-4b9c-9dc2-90ec54502e85"
      },
      "source": [
        "classifier=sklearn.svm.LinearSVC(C=0.5)\n",
        "classifier.fit(X_train, y_train)"
      ],
      "execution_count": 275,
      "outputs": [
        {
          "output_type": "execute_result",
          "data": {
            "text/plain": [
              "LinearSVC(C=0.5, class_weight=None, dual=True, fit_intercept=True,\n",
              "          intercept_scaling=1, loss='squared_hinge', max_iter=1000,\n",
              "          multi_class='ovr', penalty='l2', random_state=None, tol=0.0001,\n",
              "          verbose=0)"
            ]
          },
          "metadata": {
            "tags": []
          },
          "execution_count": 275
        }
      ]
    },
    {
      "cell_type": "code",
      "metadata": {
        "id": "k08OMVTKSuMY",
        "colab": {
          "base_uri": "https://localhost:8080/"
        },
        "outputId": "f5931db8-0cf2-4996-96b6-1a8175147373"
      },
      "source": [
        "print(\"TRAIN\", classifier.score(X_train, y_train))\n",
        "print(\"TEST \", classifier.score(X_test, y_test))"
      ],
      "execution_count": 276,
      "outputs": [
        {
          "output_type": "stream",
          "text": [
            "TRAIN 0.9564333430148126\n",
            "TEST  0.7655826558265583\n"
          ],
          "name": "stdout"
        }
      ]
    }
  ]
}