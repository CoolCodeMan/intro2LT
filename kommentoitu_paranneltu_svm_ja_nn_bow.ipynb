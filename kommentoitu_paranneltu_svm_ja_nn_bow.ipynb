{
  "nbformat": 4,
  "nbformat_minor": 0,
  "metadata": {
    "colab": {
      "name": "Kopio tiedostosta intro2nlp_projekti_anger.ipynb",
      "provenance": [],
      "collapsed_sections": []
    },
    "kernelspec": {
      "name": "python3",
      "display_name": "Python 3"
    },
    "language_info": {
      "name": "python"
    }
  },
  "cells": [
    {
      "cell_type": "code",
      "metadata": {
        "colab": {
          "base_uri": "https://localhost:8080/"
        },
        "id": "An-fbT9ceNRo",
        "outputId": "b4378406-0975-41e4-ef12-0782f5afec66"
      },
      "source": [
        "import pandas as pd\n",
        "import sklearn\n",
        "from sklearn.feature_extraction.text import TfidfVectorizer\n",
        "from sklearn.preprocessing import LabelEncoder\n",
        "import sklearn.svm\n",
        "import sklearn.metrics\n",
        "from sklearn.metrics import classification_report, confusion_matrix\n",
        "import tensorflow as tf\n",
        "import numpy as np\n",
        "from keras.models import Model\n",
        "from keras.layers import Input, Dense\n",
        "from keras.callbacks import ModelCheckpoint, EarlyStopping\n",
        "from keras import optimizers\n",
        "import os\n",
        "import pickle\n",
        "\n",
        "!wget -nc -O anger-train.tsv http://dl.turkunlp.org/TKO_8966_2021-projects/anger-annotation/train.tsv\n",
        "!wget -nc -O anger-dev.tsv http://dl.turkunlp.org/TKO_8966_2021-projects/anger-annotation/dev.tsv\n",
        "!wget -nc -O anger-test.tsv http://dl.turkunlp.org/TKO_8966_2021-projects/anger-annotation/test.tsv"
      ],
      "execution_count": 145,
      "outputs": [
        {
          "output_type": "stream",
          "text": [
            "File ‘anger-train.tsv’ already there; not retrieving.\n",
            "File ‘anger-dev.tsv’ already there; not retrieving.\n",
            "File ‘anger-test.tsv’ already there; not retrieving.\n"
          ],
          "name": "stdout"
        }
      ]
    },
    {
      "cell_type": "code",
      "metadata": {
        "id": "SmWkKdAvlsKi"
      },
      "source": [
        "with open(\"anger-train.tsv\", \"r\") as f:\n",
        "  anger_train = pd.read_csv((\"anger-train.tsv\"), header=0, names=['annotation','text'], sep='\\t') # eli tässä luen .tsv-filun ja tallennan sen tuonne anger_trainiin, käyttäen pandas-kirjastoa (importattu as pd)\n",
        "\n",
        "# tässä voi kattoa miltä nyt näyttää toi anger_train\n",
        "# print(anger_train[:10])\n",
        "# print(type(anger_train))\n",
        "\n",
        "with open(\"anger-dev.tsv\", \"r\") as f:\n",
        "  anger_dev = pd.read_csv((\"anger-dev.tsv\"), header=0, names=['annotation','text'], sep='\\t') # sama dev-teksteille\n",
        "\n",
        "# seuraavaksi luen tekstit ja niiden annotationit omiin listoihinsa molempien (train ja dev) osalta. Tässä vois käyttää tietysti list comprehensionia mut hlökoht pidän tätä \"auki kirjoitettua\" for-loopia\n",
        "# helpompana ymmärtää!\n",
        "\n",
        "train_texts = []\n",
        "for i in anger_train[\"text\"]:\n",
        "  train_texts.append(i)\n",
        "train_labels = []\n",
        "for i in anger_train[\"annotation\"]:\n",
        "  train_labels.append(i)\n",
        "\n",
        "dev_texts = []\n",
        "for i in anger_dev[\"text\"]:\n",
        "  dev_texts.append(i)\n",
        "dev_labels = []\n",
        "for i in anger_dev[\"annotation\"]:\n",
        "  dev_labels.append(i)\n",
        "\n",
        "# tarkistetaan että molemmissa on tekstejä yhtä paljon kuin labeleitä\n",
        "# assert on nopeampi/lyhyempi tapa tehdä käytännössä if True, continue / if False, raise exception -tyyppinen tarkastus\n",
        "\n",
        "\n",
        "assert len(train_texts) == len(train_labels)\n",
        "assert len(dev_texts) == len(dev_labels)\n",
        "\n",
        "#tässä voi kattella mitä nyt nuo listat pitää sisällään\n",
        "\n",
        "#for label, text in list(zip(train_labels, train_texts))[:20]:\n",
        "  #print(label,text)\n",
        "#for label, text in list(zip(dev_labels, dev_texts))[:20]:\n",
        "  #print(label,text)\n",
        "\n",
        "# en näitä nyt shufflaa missään välissä, pitäisikö? luentovideolla perusteltiin datan shufflausta silloin, kun siitä datasta aiotaan erottaa train/dev/test -data (jotta ei käy niin et esim kun ottaa ekat\n",
        "# 30 % trainiin niin ne on kaikki yhtä luokkaa jne) mutta meillä on tässä valmiiksi erotellut train/dev/test, joten onko tarpeen shufflata?"
      ],
      "execution_count": 146,
      "outputs": []
    },
    {
      "cell_type": "code",
      "metadata": {
        "colab": {
          "base_uri": "https://localhost:8080/"
        },
        "id": "zwYtjSntGc8p",
        "outputId": "d2c472d2-5c03-4b0a-efc9-da82ff40e164"
      },
      "source": [
        "# laskeskelen tässä, minkä verran train datassa on kumpaakin labelia\n",
        "not_angers = train_labels.count(\"not-anger\")\n",
        "angers = len(train_labels)-not_angers\n",
        "percent_anger = (angers/len(train_labels))*100\n",
        "percent_not = 100-percent_anger\n",
        "\n",
        "print(not_angers,angers)\n",
        "print(percent_not, percent_anger)"
      ],
      "execution_count": 147,
      "outputs": [
        {
          "output_type": "stream",
          "text": [
            "854 214\n",
            "79.9625468164794 20.037453183520597\n"
          ],
          "name": "stdout"
        }
      ]
    },
    {
      "cell_type": "code",
      "metadata": {
        "colab": {
          "base_uri": "https://localhost:8080/"
        },
        "id": "JP3Qw8MAtCaL",
        "outputId": "935579fd-26c0-47f5-8d49-d0f9fab66b40"
      },
      "source": [
        "vectorizer=TfidfVectorizer(binary=True) # määritellään vectorizeriksi sklearnin TfidVectorizer näillä parametreillä. binary=True tekee sen, että kaikki term frequencyt jotka on yli 0 on 1, eli\n",
        "                                        # ei oteta huomioon sitä, kuinka monta kertaa termi on dokumentissa, vaan sillä on väliä, onko se vai eikö se ole -> eli binäärinen systeemi.\n",
        "\n",
        "# sitten tehdään sekä train että dev teksteistä omat feature matrixit käyttäen tätä vectorizeria (featureiden ollessa nyt siis käytännössä sanoja).\n",
        "# train-teksteihin käytetään fit_transformia, jonka avulla vectorizer oppii sanaston ja idf:t ja palauttaa document-term matriisin.\n",
        "# koska train-tekstien avulla on tehty jo fit eli opetus, deviin riittää pelkkä transform (joka palauttaa document-term matriisin)\n",
        "\n",
        "feature_matrix_train=vectorizer.fit_transform(train_texts)\n",
        "feature_matrix_dev=vectorizer.transform(dev_texts)\n",
        "\n",
        "# print(\"train shape: \", feature_matrix_train.shape)\n",
        "# print(\"dev shape: \", feature_matrix_dev.shape)\n",
        "\n",
        "# testiin ensin linear SVM classifier. Ensin määritellään se ja sitten annetaan sille \"opetusmateriaali\" eli tässä tilanteessa train-tekstien feature matrix ja train-tekstien labelit.\n",
        "# C-arvo: määrittelee käytännössä sen, minkä verran virheitä sallitaan, \"Regularization parameter\"\n",
        "# verbose = 1 tarkoittaa sitä että verbose on \"päällä\" eli tässä yhteydessä se tulostaa tuon LibLinear rimpsun\n",
        "\n",
        "classifier=sklearn.svm.LinearSVC(C=0.25, verbose=1)\n",
        "classifier.fit(feature_matrix_train, train_labels)"
      ],
      "execution_count": 148,
      "outputs": [
        {
          "output_type": "stream",
          "text": [
            "[LibLinear]"
          ],
          "name": "stdout"
        },
        {
          "output_type": "execute_result",
          "data": {
            "text/plain": [
              "LinearSVC(C=0.25, class_weight=None, dual=True, fit_intercept=True,\n",
              "          intercept_scaling=1, loss='squared_hinge', max_iter=1000,\n",
              "          multi_class='ovr', penalty='l2', random_state=None, tol=0.0001,\n",
              "          verbose=1)"
            ]
          },
          "metadata": {
            "tags": []
          },
          "execution_count": 148
        }
      ]
    },
    {
      "cell_type": "code",
      "metadata": {
        "colab": {
          "base_uri": "https://localhost:8080/"
        },
        "id": "tombmLiGDnvC",
        "outputId": "5a58867b-d959-474f-dd06-6e6cde8afae8"
      },
      "source": [
        "# arvioidaan classifieria .scorella. Testailin eri C-arvoja, ja tuo 0.25 näytti ihan mukavalta.\n",
        "print(\"Train score\",classifier.score(feature_matrix_train, train_labels))\n",
        "print(\"Dev score\",classifier.score(feature_matrix_dev, dev_labels))\n",
        "\n",
        "# ja vielä arviointia confusion matriisilla ja accuracy scorella, käyttäen dev-dataa:\n",
        "\n",
        "predictions_dev=classifier.predict(feature_matrix_dev)\n",
        "print(\"\\nArviontia:\")\n",
        "print(sklearn.metrics.confusion_matrix(dev_labels,predictions_dev))\n",
        "print(sklearn.metrics.accuracy_score(dev_labels,predictions_dev))\n",
        "\n",
        "# yli on ~85 % accuracyn ei tällä tahdo päästä"
      ],
      "execution_count": 149,
      "outputs": [
        {
          "output_type": "stream",
          "text": [
            "Train score 0.8932584269662921\n",
            "Dev score 0.8525641025641025\n",
            "\n",
            "Arviontia:\n",
            "[[  9  23]\n",
            " [  0 124]]\n",
            "0.8525641025641025\n"
          ],
          "name": "stdout"
        }
      ]
    },
    {
      "cell_type": "code",
      "metadata": {
        "id": "3gCUlM_7vImy"
      },
      "source": [
        "# sitten ois vuorossa NN-based BoW classifier\n",
        "\n",
        "# keras ei hyväksy numpy matriiseja, joten ne pitää muuttaa tensor-matriiseiksi, luennolla opet selitti löytäneensä\n",
        "# ja kopioineensa tän stack overflowsta ja hyvin näyttää toimivan\n",
        "\n",
        "def convert_sparse_matrix_to_sparse_tensor(X):\n",
        "    coo = X.tocoo()\n",
        "    indices = np.mat([coo.row, coo.col]).transpose()\n",
        "    return tf.sparse.reorder(tf.SparseTensor(indices, coo.data, coo.shape))\n",
        "\n",
        "feature_matrix_train_tf=convert_sparse_matrix_to_sparse_tensor(feature_matrix_train)\n",
        "feature_matrix_dev_tf=convert_sparse_matrix_to_sparse_tensor(feature_matrix_dev)"
      ],
      "execution_count": 150,
      "outputs": []
    },
    {
      "cell_type": "code",
      "metadata": {
        "colab": {
          "base_uri": "https://localhost:8080/"
        },
        "id": "2elhhBDPvRb0",
        "outputId": "61d66381-02d6-41a4-f19b-e0a5c5948848"
      },
      "source": [
        "# sitten muutetaan labelit numeroiksi label_encoderin avulla. Ensin train labeleihin fit_transform joka sovittaa labelit numeoriksi ja palauttaa muutetut,\n",
        "# dev-labeleille ei tarvitse taas fittiä enää tehdä vaan transform riittää\n",
        "\n",
        "label_encoder=LabelEncoder() \n",
        "class_numbers_train=label_encoder.fit_transform(train_labels)\n",
        "class_numbers_dev=label_encoder.transform(dev_labels)\n",
        "\n",
        "print(\"class_numbers shape=\",class_numbers_train.shape)\n",
        "print(\"class labels\",label_encoder.classes_) #this will let us translate back from indices to labels"
      ],
      "execution_count": 151,
      "outputs": [
        {
          "output_type": "stream",
          "text": [
            "class_numbers shape= (1068,)\n",
            "class labels ['anger' 'not-anger']\n"
          ],
          "name": "stdout"
        }
      ]
    },
    {
      "cell_type": "code",
      "metadata": {
        "colab": {
          "base_uri": "https://localhost:8080/"
        },
        "id": "06B9ns0wvaQ0",
        "outputId": "9936a46a-6e5c-4cb1-d3a9-19f9db9574de"
      },
      "source": [
        "example_count,feature_count=feature_matrix_train.shape\n",
        "example_count2=class_numbers_train.shape[0]\n",
        "assert example_count==example_count2  # sanity check\n",
        "\n",
        "class_count=len(label_encoder.classes_) # luokkien määrä, tässä vois olla kaksi, mutta näin voidaan käyttää samaa koodia muuallakin\n",
        "\n",
        "# rakennetaan neuraaliverkko:\n",
        "\n",
        "inp=Input(shape=(feature_count,)) # Input layer\n",
        "hidden=Dense(200,activation=\"tanh\")(inp) # Hidden layer\n",
        "outp=Dense(class_count,activation=\"softmax\")(hidden) # Output layer\n",
        "model=Model(inputs=[inp], outputs=[outp])\n",
        "\n",
        "model.compile(optimizer=\"adam\",loss=\"sparse_categorical_crossentropy\",metrics=[\"accuracy\"])\n",
        "\n",
        "hist=model.fit(feature_matrix_train_tf,class_numbers_train,\\\n",
        "               validation_data=(feature_matrix_dev_tf,class_numbers_dev),\\\n",
        "               batch_size=100,verbose=1,epochs=10)"
      ],
      "execution_count": 154,
      "outputs": [
        {
          "output_type": "stream",
          "text": [
            "Epoch 1/10\n",
            "11/11 [==============================] - 1s 19ms/step - loss: 0.6652 - accuracy: 0.6941 - val_loss: 0.5601 - val_accuracy: 0.7949\n",
            "Epoch 2/10\n",
            "11/11 [==============================] - 0s 8ms/step - loss: 0.4967 - accuracy: 0.8006 - val_loss: 0.4749 - val_accuracy: 0.7949\n",
            "Epoch 3/10\n",
            "11/11 [==============================] - 0s 7ms/step - loss: 0.3896 - accuracy: 0.7899 - val_loss: 0.4456 - val_accuracy: 0.7949\n",
            "Epoch 4/10\n",
            "11/11 [==============================] - 0s 8ms/step - loss: 0.3181 - accuracy: 0.8068 - val_loss: 0.4328 - val_accuracy: 0.8013\n",
            "Epoch 5/10\n",
            "11/11 [==============================] - 0s 8ms/step - loss: 0.2521 - accuracy: 0.8468 - val_loss: 0.4202 - val_accuracy: 0.8397\n",
            "Epoch 6/10\n",
            "11/11 [==============================] - 0s 8ms/step - loss: 0.1948 - accuracy: 0.9331 - val_loss: 0.4181 - val_accuracy: 0.8397\n",
            "Epoch 7/10\n",
            "11/11 [==============================] - 0s 9ms/step - loss: 0.1284 - accuracy: 0.9839 - val_loss: 0.4231 - val_accuracy: 0.8590\n",
            "Epoch 8/10\n",
            "11/11 [==============================] - 0s 10ms/step - loss: 0.1089 - accuracy: 0.9884 - val_loss: 0.4345 - val_accuracy: 0.8526\n",
            "Epoch 9/10\n",
            "11/11 [==============================] - 0s 8ms/step - loss: 0.0814 - accuracy: 0.9972 - val_loss: 0.4474 - val_accuracy: 0.8462\n",
            "Epoch 10/10\n",
            "11/11 [==============================] - 0s 8ms/step - loss: 0.0572 - accuracy: 0.9994 - val_loss: 0.4585 - val_accuracy: 0.8397\n"
          ],
          "name": "stdout"
        }
      ]
    },
    {
      "cell_type": "code",
      "metadata": {
        "colab": {
          "base_uri": "https://localhost:8080/"
        },
        "id": "G80jCATwv9N9",
        "outputId": "b607b982-f46c-4ed1-eec6-8af2fcdbc0ea"
      },
      "source": [
        "print(hist.history[\"val_accuracy\"])\n"
      ],
      "execution_count": 155,
      "outputs": [
        {
          "output_type": "stream",
          "text": [
            "[0.7948718070983887, 0.7948718070983887, 0.7948718070983887, 0.8012820482254028, 0.8397436141967773, 0.8397436141967773, 0.8589743375778198, 0.8525640964508057, 0.8461538553237915, 0.8397436141967773]\n"
          ],
          "name": "stdout"
        }
      ]
    },
    {
      "cell_type": "code",
      "metadata": {
        "colab": {
          "base_uri": "https://localhost:8080/"
        },
        "id": "IJFRYdHdwPzT",
        "outputId": "d5ea6a4e-4a9f-4c14-ca5a-326ca638847c"
      },
      "source": [
        "\n",
        "\n",
        "\n",
        "#Validation data used during training:\n",
        "val_instances,val_labels=feature_matrix_dev_tf,class_numbers_dev\n",
        "\n",
        "print(\"Network output=\",model.predict(val_instances))\n",
        "predictions=np.argmax(model.predict(val_instances),axis=1)\n",
        "print(\"Maximum class for each example=\",predictions)\n",
        "gold=val_labels\n",
        "conf_matrix=confusion_matrix(list(gold),list(predictions))\n",
        "print(\"Confusion matrix=\\n\",conf_matrix)\n",
        "\n",
        "gold_labels=label_encoder.inverse_transform(list(gold))\n",
        "predicted_labels=label_encoder.inverse_transform(list(predictions))\n",
        "#print(\"Gold labels=\",gold_labels)\n",
        "#print(\"Predicted labels=\",predicted_labels)\n",
        "print(classification_report(gold_labels,predicted_labels))"
      ],
      "execution_count": 156,
      "outputs": [
        {
          "output_type": "stream",
          "text": [
            "Network output= [[0.06965445 0.9303456 ]\n",
            " [0.09969206 0.900308  ]\n",
            " [0.5320362  0.4679638 ]\n",
            " [0.92821616 0.07178386]\n",
            " [0.08036856 0.9196315 ]\n",
            " [0.27529618 0.72470385]\n",
            " [0.47713003 0.5228699 ]\n",
            " [0.02813396 0.971866  ]\n",
            " [0.1206928  0.87930715]\n",
            " [0.10549998 0.8945    ]\n",
            " [0.2901077  0.70989233]\n",
            " [0.01868788 0.9813121 ]\n",
            " [0.074943   0.92505693]\n",
            " [0.2102923  0.7897077 ]\n",
            " [0.00920619 0.99079376]\n",
            " [0.15427074 0.8457293 ]\n",
            " [0.19538105 0.80461895]\n",
            " [0.00606156 0.99393845]\n",
            " [0.15477581 0.84522414]\n",
            " [0.07746341 0.9225366 ]\n",
            " [0.14453043 0.8554696 ]\n",
            " [0.02044707 0.9795529 ]\n",
            " [0.09412652 0.90587354]\n",
            " [0.02029138 0.9797086 ]\n",
            " [0.05844579 0.94155425]\n",
            " [0.1531501  0.8468499 ]\n",
            " [0.49683413 0.50316584]\n",
            " [0.01805968 0.9819403 ]\n",
            " [0.04981268 0.9501873 ]\n",
            " [0.03553954 0.96446043]\n",
            " [0.10512902 0.89487094]\n",
            " [0.06188243 0.93811756]\n",
            " [0.3249976  0.67500234]\n",
            " [0.70411736 0.29588264]\n",
            " [0.03828159 0.9617184 ]\n",
            " [0.2987915  0.70120853]\n",
            " [0.02845602 0.97154397]\n",
            " [0.01435256 0.98564744]\n",
            " [0.02784266 0.97215736]\n",
            " [0.06768437 0.93231565]\n",
            " [0.5025315  0.49746844]\n",
            " [0.41401297 0.58598703]\n",
            " [0.15616646 0.8438335 ]\n",
            " [0.0444213  0.95557874]\n",
            " [0.13737394 0.8626261 ]\n",
            " [0.13032712 0.8696729 ]\n",
            " [0.19449483 0.80550516]\n",
            " [0.10144212 0.89855796]\n",
            " [0.04908312 0.9509168 ]\n",
            " [0.27529618 0.72470385]\n",
            " [0.7030405  0.29695955]\n",
            " [0.03287307 0.96712697]\n",
            " [0.25086144 0.7491386 ]\n",
            " [0.28890172 0.71109825]\n",
            " [0.1850513  0.81494874]\n",
            " [0.14446943 0.85553056]\n",
            " [0.8955842  0.10441577]\n",
            " [0.94272876 0.05727123]\n",
            " [0.0232087  0.97679126]\n",
            " [0.1360462  0.8639538 ]\n",
            " [0.0182539  0.9817461 ]\n",
            " [0.07582737 0.92417264]\n",
            " [0.06754903 0.932451  ]\n",
            " [0.05106893 0.9489311 ]\n",
            " [0.13592382 0.8640762 ]\n",
            " [0.02191781 0.9780822 ]\n",
            " [0.65198326 0.3480167 ]\n",
            " [0.15388885 0.8461111 ]\n",
            " [0.06250886 0.9374912 ]\n",
            " [0.17534424 0.8246558 ]\n",
            " [0.21064557 0.7893544 ]\n",
            " [0.05335062 0.94664943]\n",
            " [0.11970156 0.8802984 ]\n",
            " [0.0218684  0.9781316 ]\n",
            " [0.03724647 0.96275353]\n",
            " [0.63852    0.36148   ]\n",
            " [0.97176796 0.02823202]\n",
            " [0.12033613 0.8796638 ]\n",
            " [0.01936646 0.98063356]\n",
            " [0.14413778 0.85586214]\n",
            " [0.14408904 0.85591096]\n",
            " [0.20187856 0.7981215 ]\n",
            " [0.03395215 0.9660479 ]\n",
            " [0.33421212 0.6657879 ]\n",
            " [0.09189326 0.90810674]\n",
            " [0.06644616 0.9335539 ]\n",
            " [0.02857922 0.97142076]\n",
            " [0.8350935  0.16490652]\n",
            " [0.06104566 0.93895435]\n",
            " [0.27529618 0.72470385]\n",
            " [0.08398364 0.9160163 ]\n",
            " [0.20462455 0.7953754 ]\n",
            " [0.2512889  0.7487111 ]\n",
            " [0.19645174 0.8035482 ]\n",
            " [0.32419032 0.6758097 ]\n",
            " [0.26977912 0.73022085]\n",
            " [0.93952817 0.0604719 ]\n",
            " [0.2474339  0.75256616]\n",
            " [0.02156225 0.9784378 ]\n",
            " [0.02764681 0.9723532 ]\n",
            " [0.10975832 0.89024174]\n",
            " [0.33238912 0.6676109 ]\n",
            " [0.5687679  0.43123204]\n",
            " [0.08946466 0.91053534]\n",
            " [0.06944995 0.93055004]\n",
            " [0.14524604 0.8547539 ]\n",
            " [0.17640112 0.82359886]\n",
            " [0.1805617  0.81943834]\n",
            " [0.7793718  0.22062822]\n",
            " [0.2841256  0.7158744 ]\n",
            " [0.07181464 0.92818534]\n",
            " [0.06208685 0.9379132 ]\n",
            " [0.07857921 0.92142075]\n",
            " [0.25567427 0.74432576]\n",
            " [0.05434773 0.94565225]\n",
            " [0.3454593  0.6545407 ]\n",
            " [0.02215614 0.9778439 ]\n",
            " [0.02108813 0.9789119 ]\n",
            " [0.32107595 0.678924  ]\n",
            " [0.8890231  0.11097687]\n",
            " [0.13510762 0.8648923 ]\n",
            " [0.32858804 0.67141193]\n",
            " [0.03526871 0.96473134]\n",
            " [0.9014022  0.09859788]\n",
            " [0.20927861 0.79072136]\n",
            " [0.27529618 0.72470385]\n",
            " [0.00367143 0.99632853]\n",
            " [0.00661715 0.99338293]\n",
            " [0.43197858 0.56802136]\n",
            " [0.59852284 0.40147707]\n",
            " [0.03151212 0.96848786]\n",
            " [0.5333288  0.46667117]\n",
            " [0.07705594 0.92294407]\n",
            " [0.06737284 0.93262714]\n",
            " [0.02569923 0.9743008 ]\n",
            " [0.26714057 0.73285943]\n",
            " [0.18870176 0.81129825]\n",
            " [0.4292871  0.57071286]\n",
            " [0.05597255 0.9440274 ]\n",
            " [0.20268561 0.79731435]\n",
            " [0.01911161 0.9808883 ]\n",
            " [0.02592218 0.9740778 ]\n",
            " [0.82571876 0.17428124]\n",
            " [0.06241467 0.93758535]\n",
            " [0.14896314 0.85103685]\n",
            " [0.10773446 0.89226556]\n",
            " [0.03284125 0.96715873]\n",
            " [0.01949663 0.9805033 ]\n",
            " [0.08967214 0.9103278 ]\n",
            " [0.89082986 0.1091701 ]\n",
            " [0.85667884 0.14332113]\n",
            " [0.00760833 0.99239165]\n",
            " [0.07730255 0.9226975 ]\n",
            " [0.00950584 0.9904942 ]\n",
            " [0.07683692 0.9231631 ]\n",
            " [0.08486203 0.9151379 ]]\n",
            "Maximum class for each example= [1 1 0 0 1 1 1 1 1 1 1 1 1 1 1 1 1 1 1 1 1 1 1 1 1 1 1 1 1 1 1 1 1 0 1 1 1\n",
            " 1 1 1 0 1 1 1 1 1 1 1 1 1 0 1 1 1 1 1 0 0 1 1 1 1 1 1 1 1 0 1 1 1 1 1 1 1\n",
            " 1 0 0 1 1 1 1 1 1 1 1 1 1 0 1 1 1 1 1 1 1 1 0 1 1 1 1 1 0 1 1 1 1 1 0 1 1\n",
            " 1 1 1 1 1 1 1 1 0 1 1 1 0 1 1 1 1 1 0 1 0 1 1 1 1 1 1 1 1 1 1 0 1 1 1 1 1\n",
            " 1 0 0 1 1 1 1 1]\n",
            "Confusion matrix=\n",
            " [[ 14  18]\n",
            " [  7 117]]\n",
            "              precision    recall  f1-score   support\n",
            "\n",
            "       anger       0.67      0.44      0.53        32\n",
            "   not-anger       0.87      0.94      0.90       124\n",
            "\n",
            "    accuracy                           0.84       156\n",
            "   macro avg       0.77      0.69      0.72       156\n",
            "weighted avg       0.83      0.84      0.83       156\n",
            "\n"
          ],
          "name": "stdout"
        }
      ]
    },
    {
      "cell_type": "code",
      "metadata": {
        "colab": {
          "base_uri": "https://localhost:8080/",
          "height": 269
        },
        "id": "T9fDU4_iwStx",
        "outputId": "661017b1-1dd8-4eae-cf6e-170d81515199"
      },
      "source": [
        "%matplotlib inline\n",
        "import matplotlib.pyplot as plt\n",
        "\n",
        "plt.ylim(0.55,1.0)\n",
        "plt.plot(hist.history[\"val_accuracy\"],label=\"Validation set accuracy\")\n",
        "plt.plot(hist.history[\"accuracy\"],label=\"Training set accuracy\")\n",
        "plt.legend()\n",
        "plt.show()"
      ],
      "execution_count": 157,
      "outputs": [
        {
          "output_type": "display_data",
          "data": {
            "image/png": "[encoded data removed]",
            "text/plain": [
              "<Figure size 432x288 with 1 Axes>"
            ]
          },
          "metadata": {
            "tags": [],
            "needs_background": "light"
          }
        }
      ]
    }
  ]
}