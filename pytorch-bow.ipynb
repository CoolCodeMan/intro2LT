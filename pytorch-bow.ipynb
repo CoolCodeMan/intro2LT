{
  "nbformat": 4,
  "nbformat_minor": 0,
  "metadata": {
    "colab": {
      "name": "Untitled0.ipynb",
      "provenance": [],
      "authorship_tag": "ABX9TyNnHYMIYL6SnCoTJbpYEsIS",
      "include_colab_link": true
    },
    "kernelspec": {
      "name": "python3",
      "display_name": "Python 3"
    },
    "language_info": {
      "name": "python"
    }
  },
  "cells": [
    {
      "cell_type": "markdown",
      "metadata": {
        "id": "view-in-github",
        "colab_type": "text"
      },
      "source": [
        "<a href=\"https://colab.research.google.com/github/CoolCodeMan/intro2LT/blob/lauri/pytorch-bow.ipynb\" target=\"_parent\"><img src=\"https://colab.research.google.com/assets/colab-badge.svg\" alt=\"Open In Colab\"/></a>"
      ]
    },
    {
      "cell_type": "code",
      "metadata": {
        "id": "e5aIokor8rWI"
      },
      "source": [
        "import warnings\n",
        "warnings.filterwarnings('ignore')"
      ],
      "execution_count": 2,
      "outputs": []
    },
    {
      "cell_type": "markdown",
      "metadata": {
        "id": "v4ESgswqNAtz"
      },
      "source": [
        "# **Links**\n",
        "\n",
        "* https://github.com/CoolCodeMan/intro2LT/blob/lauri/tfidf-bow-ja-linearSVC.ipynb\n",
        "* https://github.com/graykode/nlp-tutorial\n",
        "* https://colab.research.google.com/github/graykode/nlp-tutorial/blob/master/1-1.NNLM/NNLM.ipynb\n",
        "* https://pytorch.org/tutorials/beginner/nlp/word_embeddings_tutorial.html#sphx-glr-beginner-nlp-word-embeddings-tutorial-py\n",
        "* https://pytorch.org/tutorials/intermediate/seq2seq_translation_tutorial.html\n",
        "* https://pytorch.org/docs/stable/generated/torch.nn.Embedding.html#torch.nn.Embedding\n",
        "* https://stackoverflow.com/questions/50747947/embedding-in-pytorch"
      ]
    },
    {
      "cell_type": "code",
      "metadata": {
        "id": "7aU7tKv6D7n0"
      },
      "source": [
        "!wget -q -O anger-train.tsv http://dl.turkunlp.org/TKO_8966_2021-projects/anger-annotation/train.tsv\n",
        "!wget -q -O anger-test.tsv http://dl.turkunlp.org/TKO_8966_2021-projects/anger-annotation/test.tsv\n",
        "!wget -q -O anger-dev.tsv http://dl.turkunlp.org/TKO_8966_2021-projects/anger-annotation/dev.tsv\n",
        "\n",
        "!wget -q -O joy-train.tsv http://dl.turkunlp.org/TKO_8966_2021-projects/joy-annotation/train.tsv\n",
        "!wget -q -O joy-test.tsv http://dl.turkunlp.org/TKO_8966_2021-projects/joy-annotation/test.tsv\n",
        "!wget -q -O joy-dev.tsv http://dl.turkunlp.org/TKO_8966_2021-projects/joy-annotation/dev.tsv"
      ],
      "execution_count": 1,
      "outputs": []
    },
    {
      "cell_type": "code",
      "metadata": {
        "id": "xSGf6jQeIH8j"
      },
      "source": [
        "import pandas as pd"
      ],
      "execution_count": 3,
      "outputs": []
    },
    {
      "cell_type": "code",
      "metadata": {
        "id": "FKAgpNSBJTi0"
      },
      "source": [
        "joy = pd.read_csv('/content/joy-train.tsv', error_bad_lines=False, header=0, names=['emotion','text'], sep='\\t')\n",
        "anger = pd.read_csv('/content/anger-train.tsv', error_bad_lines=False, header=0, names=['emotion','text'], sep='\\t')"
      ],
      "execution_count": 4,
      "outputs": []
    },
    {
      "cell_type": "code",
      "metadata": {
        "id": "4e-MlENsJtse"
      },
      "source": [
        "dataframe = pd.concat([joy, anger])\n",
        "dataframe['emotion'].replace({'not-joy':'neutral', 'not-anger':'neutral'}, inplace=True)\n",
        "# dataframe['emotion'].replace({'not-joy':0, 'not-anger':0, 'joy':1, 'anger':2}, inplace=True)"
      ],
      "execution_count": 5,
      "outputs": []
    },
    {
      "cell_type": "code",
      "metadata": {
        "id": "QZJxQOWjKFcl"
      },
      "source": [
        "import sklearn.utils\n",
        "\n",
        "def shuffle(data):\n",
        "  data = sklearn.utils.shuffle(data)\n",
        "  data.reset_index(inplace=True, drop=True)\n",
        "  return data"
      ],
      "execution_count": 6,
      "outputs": []
    },
    {
      "cell_type": "code",
      "metadata": {
        "colab": {
          "base_uri": "https://localhost:8080/",
          "height": 206
        },
        "id": "PLs3XAnLKZRQ",
        "outputId": "6a9e7fee-0bf9-4bfa-ec33-10b3dd0cfb0e"
      },
      "source": [
        "dataframe = shuffle(dataframe)\n",
        "dataframe.tail()"
      ],
      "execution_count": 7,
      "outputs": [
        {
          "output_type": "execute_result",
          "data": {
            "text/html": [
              "<div>\n",
              "<style scoped>\n",
              "    .dataframe tbody tr th:only-of-type {\n",
              "        vertical-align: middle;\n",
              "    }\n",
              "\n",
              "    .dataframe tbody tr th {\n",
              "        vertical-align: top;\n",
              "    }\n",
              "\n",
              "    .dataframe thead th {\n",
              "        text-align: right;\n",
              "    }\n",
              "</style>\n",
              "<table border=\"1\" class=\"dataframe\">\n",
              "  <thead>\n",
              "    <tr style=\"text-align: right;\">\n",
              "      <th></th>\n",
              "      <th>emotion</th>\n",
              "      <th>text</th>\n",
              "    </tr>\n",
              "  </thead>\n",
              "  <tbody>\n",
              "    <tr>\n",
              "      <th>2020</th>\n",
              "      <td>joy</td>\n",
              "      <td>Onpa mukava , että sait taas viran .</td>\n",
              "    </tr>\n",
              "    <tr>\n",
              "      <th>2021</th>\n",
              "      <td>anger</td>\n",
              "      <td>Ovi auki - kusipää!</td>\n",
              "    </tr>\n",
              "    <tr>\n",
              "      <th>2022</th>\n",
              "      <td>joy</td>\n",
              "      <td>Ihanaa , arki koitti ! :)</td>\n",
              "    </tr>\n",
              "    <tr>\n",
              "      <th>2023</th>\n",
              "      <td>anger</td>\n",
              "      <td>Sanakin vielä, ja olet mennyttä!</td>\n",
              "    </tr>\n",
              "    <tr>\n",
              "      <th>2024</th>\n",
              "      <td>neutral</td>\n",
              "      <td>Se on liian kallis, Leslie!</td>\n",
              "    </tr>\n",
              "  </tbody>\n",
              "</table>\n",
              "</div>"
            ],
            "text/plain": [
              "      emotion                                  text\n",
              "2020      joy  Onpa mukava , että sait taas viran .\n",
              "2021    anger                   Ovi auki - kusipää!\n",
              "2022      joy             Ihanaa , arki koitti ! :)\n",
              "2023    anger      Sanakin vielä, ja olet mennyttä!\n",
              "2024  neutral           Se on liian kallis, Leslie!"
            ]
          },
          "metadata": {
            "tags": []
          },
          "execution_count": 7
        }
      ]
    },
    {
      "cell_type": "code",
      "metadata": {
        "id": "gAA3WvqYN-6N"
      },
      "source": [
        "from sklearn.feature_extraction.text import CountVectorizer"
      ],
      "execution_count": 8,
      "outputs": []
    },
    {
      "cell_type": "code",
      "metadata": {
        "id": "9AhC1h7ppXTB"
      },
      "source": [
        "import numpy as np"
      ],
      "execution_count": 9,
      "outputs": []
    },
    {
      "cell_type": "code",
      "metadata": {
        "id": "6k0RJWTkOMiF",
        "colab": {
          "base_uri": "https://localhost:8080/"
        },
        "outputId": "66ff8b29-00f8-4d5f-f51d-c1ebca10568b"
      },
      "source": [
        "vectorizer=CountVectorizer(analyzer='word', ngram_range=(1,2))\n",
        "\n",
        "vectorizer.fit(dataframe['text'])\n",
        "feature_matrix = vectorizer.transform(dataframe['text'])\n",
        "\n",
        "print(\"shape=\",feature_matrix.shape)"
      ],
      "execution_count": 10,
      "outputs": [
        {
          "output_type": "stream",
          "text": [
            "shape= (2025, 22785)\n"
          ],
          "name": "stdout"
        }
      ]
    },
    {
      "cell_type": "code",
      "metadata": {
        "id": "DfEJgpWHEl4e"
      },
      "source": [
        "import torch\n",
        "import torch.nn as nn\n",
        "import torch.nn.functional as functional\n",
        "import torch.optim as optim"
      ],
      "execution_count": 11,
      "outputs": []
    },
    {
      "cell_type": "code",
      "metadata": {
        "id": "YiGH-e1SSDdV"
      },
      "source": [
        "from scipy.sparse import *"
      ],
      "execution_count": 12,
      "outputs": []
    },
    {
      "cell_type": "code",
      "metadata": {
        "id": "-js3xuNeRANu",
        "colab": {
          "base_uri": "https://localhost:8080/"
        },
        "outputId": "b0ede6ea-42a3-43fc-af2b-66e83a29446e"
      },
      "source": [
        "mat = feature_matrix.astype('float').toarray()\n",
        "dataset = torch.from_numpy(mat)\n",
        "# dataset.requires_grad = True\n",
        "dataset"
      ],
      "execution_count": 13,
      "outputs": [
        {
          "output_type": "execute_result",
          "data": {
            "text/plain": [
              "tensor([[0., 0., 0.,  ..., 0., 0., 0.],\n",
              "        [0., 0., 0.,  ..., 0., 0., 0.],\n",
              "        [0., 0., 0.,  ..., 0., 0., 0.],\n",
              "        ...,\n",
              "        [0., 0., 0.,  ..., 0., 0., 0.],\n",
              "        [0., 0., 0.,  ..., 0., 0., 0.],\n",
              "        [0., 0., 0.,  ..., 0., 0., 0.]], dtype=torch.float64)"
            ]
          },
          "metadata": {
            "tags": []
          },
          "execution_count": 13
        }
      ]
    },
    {
      "cell_type": "code",
      "metadata": {
        "id": "wn8NWyHbl0cM"
      },
      "source": [
        "def make_labels(labels):\n",
        "  y = []\n",
        "  for i in labels:\n",
        "    if i == 'joy':\n",
        "      y.append([1,0,0])\n",
        "    elif i == 'anger':\n",
        "      y.append([0,1,0])\n",
        "    elif i == 'neutral':\n",
        "      y.append([0,0,1])\n",
        "  y = torch.tensor(y).float()\n",
        "  return y"
      ],
      "execution_count": 14,
      "outputs": []
    },
    {
      "cell_type": "code",
      "metadata": {
        "id": "kAvRcSJvPssg"
      },
      "source": [
        "y = make_labels(dataframe['emotion'])"
      ],
      "execution_count": 15,
      "outputs": []
    },
    {
      "cell_type": "code",
      "metadata": {
        "id": "fcuRNS_LSh7n"
      },
      "source": [
        "def score(model, dataset, labels, dataset_size=2024):\n",
        "  total = 0\n",
        "  for i in range(dataset_size):\n",
        "    pred = model(dataset[i].float())\n",
        "    n1 = pred.detach().numpy().argmax()\n",
        "    n2 = y[i].detach().numpy().argmax()\n",
        "    if n2 == n1:\n",
        "      total += 1\n",
        "    \n",
        "  print(\"TRAIN {:.2f}\".format(total/dataset_size*100), '%')"
      ],
      "execution_count": 16,
      "outputs": []
    },
    {
      "cell_type": "code",
      "metadata": {
        "id": "RIkl71kcE13l"
      },
      "source": [
        "class Net(nn.Module):\n",
        "  def __init__(self):\n",
        "    super(Net, self).__init__()\n",
        "\n",
        "    self.fc1 = nn.Linear(22785, 10)\n",
        "    self.fc2 = nn.Linear(10, 3)\n",
        "\n",
        "  def forward(self, X):\n",
        "\n",
        "    out = self.fc1(X)\n",
        "    out = torch.sigmoid(out)\n",
        "\n",
        "    out = self.fc2(out)\n",
        "    # out = torch.sigmoid(out)\n",
        "\n",
        "    return out"
      ],
      "execution_count": 17,
      "outputs": []
    },
    {
      "cell_type": "code",
      "metadata": {
        "id": "60fZcI2hO6NA"
      },
      "source": [
        "model = Net()\n",
        "loss_function = nn.MSELoss(reduction='mean')\n",
        "optimizer = optim.SGD(model.parameters(), lr=0.1, momentum=0.2)"
      ],
      "execution_count": 18,
      "outputs": []
    },
    {
      "cell_type": "code",
      "metadata": {
        "id": "i81hENo5P79s",
        "colab": {
          "base_uri": "https://localhost:8080/"
        },
        "outputId": "7462f775-c5d9-48d4-f6a3-d387e9c4a68e"
      },
      "source": [
        "for i in range(4):\n",
        "  for epoch in range(2025):\n",
        "    model.zero_grad()\n",
        "\n",
        "    out = model(dataset[epoch].float())\n",
        "    loss = loss_function(out, y[epoch])\n",
        "\n",
        "    loss.backward()\n",
        "    optimizer.step()\n",
        "\n",
        "    if epoch % 100 == 99:\n",
        "      print('[%d, %5d] loss: %.3f' % (epoch + 1, i + 1, loss.item()))"
      ],
      "execution_count": 19,
      "outputs": [
        {
          "output_type": "stream",
          "text": [
            "[100,     1] loss: 0.448\n",
            "[200,     1] loss: 0.042\n",
            "[300,     1] loss: 0.548\n",
            "[400,     1] loss: 0.041\n",
            "[500,     1] loss: 0.019\n",
            "[600,     1] loss: 0.249\n",
            "[700,     1] loss: 0.239\n",
            "[800,     1] loss: 0.058\n",
            "[900,     1] loss: 0.103\n",
            "[1000,     1] loss: 0.417\n",
            "[1100,     1] loss: 0.020\n",
            "[1200,     1] loss: 0.299\n",
            "[1300,     1] loss: 0.164\n",
            "[1400,     1] loss: 0.039\n",
            "[1500,     1] loss: 0.054\n",
            "[1600,     1] loss: 0.476\n",
            "[1700,     1] loss: 0.066\n",
            "[1800,     1] loss: 0.004\n",
            "[1900,     1] loss: 0.040\n",
            "[2000,     1] loss: 0.042\n",
            "[100,     2] loss: 0.419\n",
            "[200,     2] loss: 0.019\n",
            "[300,     2] loss: 0.529\n",
            "[400,     2] loss: 0.066\n",
            "[500,     2] loss: 0.002\n",
            "[600,     2] loss: 0.137\n",
            "[700,     2] loss: 0.042\n",
            "[800,     2] loss: 0.037\n",
            "[900,     2] loss: 0.111\n",
            "[1000,     2] loss: 0.355\n",
            "[1100,     2] loss: 0.013\n",
            "[1200,     2] loss: 0.279\n",
            "[1300,     2] loss: 0.036\n",
            "[1400,     2] loss: 0.048\n",
            "[1500,     2] loss: 0.115\n",
            "[1600,     2] loss: 0.421\n",
            "[1700,     2] loss: 0.021\n",
            "[1800,     2] loss: 0.019\n",
            "[1900,     2] loss: 0.022\n",
            "[2000,     2] loss: 0.016\n",
            "[100,     3] loss: 0.317\n",
            "[200,     3] loss: 0.004\n",
            "[300,     3] loss: 0.523\n",
            "[400,     3] loss: 0.046\n",
            "[500,     3] loss: 0.012\n",
            "[600,     3] loss: 0.041\n",
            "[700,     3] loss: 0.001\n",
            "[800,     3] loss: 0.024\n",
            "[900,     3] loss: 0.087\n",
            "[1000,     3] loss: 0.263\n",
            "[1100,     3] loss: 0.044\n",
            "[1200,     3] loss: 0.216\n",
            "[1300,     3] loss: 0.038\n",
            "[1400,     3] loss: 0.026\n",
            "[1500,     3] loss: 0.034\n",
            "[1600,     3] loss: 0.306\n",
            "[1700,     3] loss: 0.005\n",
            "[1800,     3] loss: 0.013\n",
            "[1900,     3] loss: 0.007\n",
            "[2000,     3] loss: 0.014\n",
            "[100,     4] loss: 0.119\n",
            "[200,     4] loss: 0.002\n",
            "[300,     4] loss: 0.392\n",
            "[400,     4] loss: 0.011\n",
            "[500,     4] loss: 0.011\n",
            "[600,     4] loss: 0.010\n",
            "[700,     4] loss: 0.002\n",
            "[800,     4] loss: 0.012\n",
            "[900,     4] loss: 0.068\n",
            "[1000,     4] loss: 0.221\n",
            "[1100,     4] loss: 0.019\n",
            "[1200,     4] loss: 0.077\n",
            "[1300,     4] loss: 0.015\n",
            "[1400,     4] loss: 0.002\n",
            "[1500,     4] loss: 0.014\n",
            "[1600,     4] loss: 0.073\n",
            "[1700,     4] loss: 0.010\n",
            "[1800,     4] loss: 0.004\n",
            "[1900,     4] loss: 0.001\n",
            "[2000,     4] loss: 0.025\n"
          ],
          "name": "stdout"
        }
      ]
    },
    {
      "cell_type": "code",
      "metadata": {
        "id": "Qreu-uWStnTi",
        "colab": {
          "base_uri": "https://localhost:8080/"
        },
        "outputId": "e3a80948-e77a-49ba-d333-efdc78edeac3"
      },
      "source": [
        "score(model, dataset, y, dataset_size=2025)"
      ],
      "execution_count": 20,
      "outputs": [
        {
          "output_type": "stream",
          "text": [
            "TRAIN 98.17 %\n"
          ],
          "name": "stdout"
        }
      ]
    },
    {
      "cell_type": "code",
      "metadata": {
        "id": "EwpjwJCxgCnl"
      },
      "source": [
        "j_test = pd.read_csv('/content/joy-test.tsv', error_bad_lines=False, header=0, names=['emotion','text'], sep='\\t')\n",
        "a_test= pd.read_csv('/content/anger-test.tsv', error_bad_lines=False, header=0, names=['emotion','text'], sep='\\t')\n",
        "df = pd.concat([j_test, a_test])\n",
        "df['emotion'].replace({'not-joy':'neutral', 'not-anger':'neutral'}, inplace=True)\n",
        "df = shuffle(df)\n",
        "feature_mat_test = vectorizer.transform(df['text'])\n",
        "mat_test = feature_mat_test.astype('float').toarray()\n",
        "X_test = torch.from_numpy(mat_test)\n",
        "y_test = make_labels(df['emotion'])"
      ],
      "execution_count": 21,
      "outputs": []
    },
    {
      "cell_type": "code",
      "metadata": {
        "id": "wOFNxNM8lbg3",
        "colab": {
          "base_uri": "https://localhost:8080/"
        },
        "outputId": "103ac4d2-8087-46ff-bd70-b48a8ca501d6"
      },
      "source": [
        "print(\"test\")\n",
        "score(model, X_test, y_test, dataset_size=len(df.index))"
      ],
      "execution_count": 22,
      "outputs": [
        {
          "output_type": "stream",
          "text": [
            "test\n",
            "TRAIN 50.34 %\n"
          ],
          "name": "stdout"
        }
      ]
    },
    {
      "cell_type": "code",
      "metadata": {
        "id": "rxI3sbmumjxp"
      },
      "source": [
        ""
      ],
      "execution_count": null,
      "outputs": []
    }
  ]
}