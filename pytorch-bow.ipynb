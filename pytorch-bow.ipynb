{
  "nbformat": 4,
  "nbformat_minor": 0,
  "metadata": {
    "colab": {
      "name": "Untitled0.ipynb",
      "provenance": [],
      "authorship_tag": "ABX9TyOIQ95ICw0wB/H7cymuQ+uu",
      "include_colab_link": true
    },
    "kernelspec": {
      "name": "python3",
      "display_name": "Python 3"
    },
    "language_info": {
      "name": "python"
    }
  },
  "cells": [
    {
      "cell_type": "markdown",
      "metadata": {
        "id": "view-in-github",
        "colab_type": "text"
      },
      "source": [
        "<a href=\"https://colab.research.google.com/github/CoolCodeMan/intro2LT/blob/lauri/pytorch-bow.ipynb\" target=\"_parent\"><img src=\"https://colab.research.google.com/assets/colab-badge.svg\" alt=\"Open In Colab\"/></a>"
      ]
    },
    {
      "cell_type": "code",
      "metadata": {
        "id": "e5aIokor8rWI"
      },
      "source": [
        "import warnings\n",
        "warnings.filterwarnings('ignore')"
      ],
      "execution_count": 36,
      "outputs": []
    },
    {
      "cell_type": "markdown",
      "metadata": {
        "id": "v4ESgswqNAtz"
      },
      "source": [
        "# **Links**\n",
        "\n",
        "* https://github.com/CoolCodeMan/intro2LT/blob/lauri/tfidf-bow-ja-linearSVC.ipynb\n",
        "* https://github.com/graykode/nlp-tutorial\n",
        "* https://colab.research.google.com/github/graykode/nlp-tutorial/blob/master/1-1.NNLM/NNLM.ipynb\n",
        "* https://pytorch.org/tutorials/beginner/nlp/word_embeddings_tutorial.html#sphx-glr-beginner-nlp-word-embeddings-tutorial-py\n",
        "* https://pytorch.org/tutorials/intermediate/seq2seq_translation_tutorial.html\n",
        "* https://pytorch.org/docs/stable/generated/torch.nn.Embedding.html#torch.nn.Embedding\n",
        "* https://stackoverflow.com/questions/50747947/embedding-in-pytorch"
      ]
    },
    {
      "cell_type": "code",
      "metadata": {
        "id": "7aU7tKv6D7n0"
      },
      "source": [
        "!wget -q -O anger-train.tsv http://dl.turkunlp.org/TKO_8966_2021-projects/anger-annotation/train.tsv\n",
        "!wget -q -O anger-test.tsv http://dl.turkunlp.org/TKO_8966_2021-projects/anger-annotation/test.tsv\n",
        "!wget -q -O anger-dev.tsv http://dl.turkunlp.org/TKO_8966_2021-projects/anger-annotation/dev.tsv\n",
        "\n",
        "!wget -q -O joy-train.tsv http://dl.turkunlp.org/TKO_8966_2021-projects/joy-annotation/train.tsv\n",
        "!wget -q -O joy-test.tsv http://dl.turkunlp.org/TKO_8966_2021-projects/joy-annotation/test.tsv\n",
        "!wget -q -O joy-dev.tsv http://dl.turkunlp.org/TKO_8966_2021-projects/joy-annotation/dev.tsv"
      ],
      "execution_count": 37,
      "outputs": []
    },
    {
      "cell_type": "code",
      "metadata": {
        "id": "xSGf6jQeIH8j"
      },
      "source": [
        "import pandas as pd"
      ],
      "execution_count": 38,
      "outputs": []
    },
    {
      "cell_type": "code",
      "metadata": {
        "id": "FKAgpNSBJTi0"
      },
      "source": [
        "joy = pd.read_csv('/content/joy-train.tsv', error_bad_lines=False, header=0, names=['emotion','text'], sep='\\t')\n",
        "anger = pd.read_csv('/content/anger-train.tsv', error_bad_lines=False, header=0, names=['emotion','text'], sep='\\t')"
      ],
      "execution_count": 39,
      "outputs": []
    },
    {
      "cell_type": "code",
      "metadata": {
        "id": "4e-MlENsJtse"
      },
      "source": [
        "dataframe = pd.concat([joy, anger])\n",
        "dataframe['emotion'].replace({'not-joy':'neutral', 'not-anger':'neutral'}, inplace=True)\n",
        "# dataframe['emotion'].replace({'not-joy':0, 'not-anger':0, 'joy':1, 'anger':2}, inplace=True)"
      ],
      "execution_count": 40,
      "outputs": []
    },
    {
      "cell_type": "code",
      "metadata": {
        "id": "QZJxQOWjKFcl"
      },
      "source": [
        "import sklearn.utils\n",
        "\n",
        "def shuffle(data):\n",
        "  data = sklearn.utils.shuffle(data)\n",
        "  data.reset_index(inplace=True, drop=True)\n",
        "  return data"
      ],
      "execution_count": 41,
      "outputs": []
    },
    {
      "cell_type": "code",
      "metadata": {
        "colab": {
          "base_uri": "https://localhost:8080/",
          "height": 206
        },
        "id": "PLs3XAnLKZRQ",
        "outputId": "fb518d01-84dd-4511-c46d-8006867bbe66"
      },
      "source": [
        "dataframe = shuffle(dataframe)\n",
        "dataframe.tail()"
      ],
      "execution_count": 42,
      "outputs": [
        {
          "output_type": "execute_result",
          "data": {
            "text/html": [
              "<div>\n",
              "<style scoped>\n",
              "    .dataframe tbody tr th:only-of-type {\n",
              "        vertical-align: middle;\n",
              "    }\n",
              "\n",
              "    .dataframe tbody tr th {\n",
              "        vertical-align: top;\n",
              "    }\n",
              "\n",
              "    .dataframe thead th {\n",
              "        text-align: right;\n",
              "    }\n",
              "</style>\n",
              "<table border=\"1\" class=\"dataframe\">\n",
              "  <thead>\n",
              "    <tr style=\"text-align: right;\">\n",
              "      <th></th>\n",
              "      <th>emotion</th>\n",
              "      <th>text</th>\n",
              "    </tr>\n",
              "  </thead>\n",
              "  <tbody>\n",
              "    <tr>\n",
              "      <th>2020</th>\n",
              "      <td>joy</td>\n",
              "      <td>Itsellä on kaikki lätyt WD:tä ja hitachista en...</td>\n",
              "    </tr>\n",
              "    <tr>\n",
              "      <th>2021</th>\n",
              "      <td>neutral</td>\n",
              "      <td>En minäkään sinua. Miksi veit hevoseni?</td>\n",
              "    </tr>\n",
              "    <tr>\n",
              "      <th>2022</th>\n",
              "      <td>joy</td>\n",
              "      <td>Ihanaa , arki koitti ! :)</td>\n",
              "    </tr>\n",
              "    <tr>\n",
              "      <th>2023</th>\n",
              "      <td>neutral</td>\n",
              "      <td>Lopputuloksena sitten sattuu tälläistä.</td>\n",
              "    </tr>\n",
              "    <tr>\n",
              "      <th>2024</th>\n",
              "      <td>neutral</td>\n",
              "      <td>Lähden ajelemaan ja kurkin peilistä , kuinka v...</td>\n",
              "    </tr>\n",
              "  </tbody>\n",
              "</table>\n",
              "</div>"
            ],
            "text/plain": [
              "      emotion                                               text\n",
              "2020      joy  Itsellä on kaikki lätyt WD:tä ja hitachista en...\n",
              "2021  neutral            En minäkään sinua. Miksi veit hevoseni?\n",
              "2022      joy                          Ihanaa , arki koitti ! :)\n",
              "2023  neutral            Lopputuloksena sitten sattuu tälläistä.\n",
              "2024  neutral  Lähden ajelemaan ja kurkin peilistä , kuinka v..."
            ]
          },
          "metadata": {
            "tags": []
          },
          "execution_count": 42
        }
      ]
    },
    {
      "cell_type": "code",
      "metadata": {
        "id": "gAA3WvqYN-6N"
      },
      "source": [
        "from sklearn.feature_extraction.text import CountVectorizer"
      ],
      "execution_count": 43,
      "outputs": []
    },
    {
      "cell_type": "code",
      "metadata": {
        "id": "9AhC1h7ppXTB"
      },
      "source": [
        "import numpy as np"
      ],
      "execution_count": 56,
      "outputs": []
    },
    {
      "cell_type": "code",
      "metadata": {
        "id": "6k0RJWTkOMiF",
        "outputId": "9e8219e3-f355-4cd5-a70a-55003faa785c",
        "colab": {
          "base_uri": "https://localhost:8080/"
        }
      },
      "source": [
        "vectorizer=CountVectorizer(analyzer='word', ngram_range=(1,2))\n",
        "\n",
        "vectorizer.fit(dataframe['text'])\n",
        "feature_matrix = vectorizer.transform(dataframe['text'])\n",
        "\n",
        "print(\"shape=\",feature_matrix.shape)"
      ],
      "execution_count": 103,
      "outputs": [
        {
          "output_type": "stream",
          "text": [
            "shape= (2025, 22785)\n"
          ],
          "name": "stdout"
        }
      ]
    },
    {
      "cell_type": "code",
      "metadata": {
        "id": "DfEJgpWHEl4e"
      },
      "source": [
        "import torch\n",
        "import torch.nn as nn\n",
        "import torch.nn.functional as functional\n",
        "import torch.optim as optim"
      ],
      "execution_count": 104,
      "outputs": []
    },
    {
      "cell_type": "code",
      "metadata": {
        "id": "YiGH-e1SSDdV"
      },
      "source": [
        "from scipy.sparse import *"
      ],
      "execution_count": 105,
      "outputs": []
    },
    {
      "cell_type": "code",
      "metadata": {
        "id": "-js3xuNeRANu",
        "outputId": "622c5c33-bf22-4dec-ace4-b5d12db99287",
        "colab": {
          "base_uri": "https://localhost:8080/"
        }
      },
      "source": [
        "mat = feature_matrix.astype('float').toarray()\n",
        "dataset = torch.from_numpy(mat)\n",
        "# dataset.requires_grad = True\n",
        "dataset"
      ],
      "execution_count": 177,
      "outputs": [
        {
          "output_type": "execute_result",
          "data": {
            "text/plain": [
              "tensor([[0., 0., 0.,  ..., 0., 0., 0.],\n",
              "        [0., 0., 0.,  ..., 0., 0., 0.],\n",
              "        [0., 0., 0.,  ..., 0., 0., 0.],\n",
              "        ...,\n",
              "        [0., 0., 0.,  ..., 0., 0., 0.],\n",
              "        [0., 0., 0.,  ..., 0., 0., 0.],\n",
              "        [0., 0., 0.,  ..., 0., 0., 0.]], dtype=torch.float64)"
            ]
          },
          "metadata": {
            "tags": []
          },
          "execution_count": 177
        }
      ]
    },
    {
      "cell_type": "code",
      "metadata": {
        "id": "wn8NWyHbl0cM"
      },
      "source": [
        "def make_labels(labels):\n",
        "  y = []\n",
        "  for i in labels:\n",
        "    if i == 'joy':\n",
        "      y.append([1,0,0])\n",
        "    elif i == 'anger':\n",
        "      y.append([0,1,0])\n",
        "    elif i == 'neutral':\n",
        "      y.append([0,0,1])\n",
        "  y = torch.tensor(y).float()\n",
        "  return y"
      ],
      "execution_count": 366,
      "outputs": []
    },
    {
      "cell_type": "code",
      "metadata": {
        "id": "kAvRcSJvPssg"
      },
      "source": [
        "y = make_labels(dataframe['emotion'])"
      ],
      "execution_count": 367,
      "outputs": []
    },
    {
      "cell_type": "code",
      "metadata": {
        "id": "fcuRNS_LSh7n"
      },
      "source": [
        "def score(model, dataset, labels, dataset_size=2024):\n",
        "  total = 0\n",
        "  for i in range(dataset_size):\n",
        "    pred = model(dataset[i].float())\n",
        "    n1 = pred.detach().numpy().argmax()\n",
        "    n2 = y[i].detach().numpy().argmax()\n",
        "    if n2 == n1:\n",
        "      total += 1\n",
        "    \n",
        "  print(\"TRAIN {:.2f}\".format(total/dataset_size*100), '%')"
      ],
      "execution_count": 213,
      "outputs": []
    },
    {
      "cell_type": "code",
      "metadata": {
        "id": "RIkl71kcE13l"
      },
      "source": [
        "class Net(nn.Module):\n",
        "  def __init__(self):\n",
        "    super(Net, self).__init__()\n",
        "\n",
        "    self.fc1 = nn.Linear(22785, 10)\n",
        "    self.fc2 = nn.Linear(10, 3)\n",
        "\n",
        "  def forward(self, X):\n",
        "\n",
        "    out = self.fc1(X)\n",
        "    out = torch.sigmoid(out)\n",
        "\n",
        "    out = self.fc2(out)\n",
        "    # out = torch.sigmoid(out)\n",
        "\n",
        "    return out"
      ],
      "execution_count": 355,
      "outputs": []
    },
    {
      "cell_type": "code",
      "metadata": {
        "id": "60fZcI2hO6NA"
      },
      "source": [
        "model = Net()\n",
        "loss_function = nn.MSELoss(reduction='mean')\n",
        "optimizer = optim.SGD(model.parameters(), lr=0.1, momentum=0.2)"
      ],
      "execution_count": 372,
      "outputs": []
    },
    {
      "cell_type": "code",
      "metadata": {
        "id": "i81hENo5P79s",
        "colab": {
          "base_uri": "https://localhost:8080/"
        },
        "outputId": "b298375e-214d-41c7-a3bc-5b1768927e20"
      },
      "source": [
        "sentences = dataframe['text']\n",
        "for i in range(4):\n",
        "  for epoch in range(2025):\n",
        "    model.zero_grad()\n",
        "\n",
        "    out = model(dataset[epoch].float())\n",
        "    loss = loss_function(out, y[epoch])\n",
        "\n",
        "    loss.backward()\n",
        "    optimizer.step()\n",
        "\n",
        "    if epoch % 100 == 99:\n",
        "      print('[%d, %5d] loss: %.3f' % (epoch + 1, i + 1, loss.item()))"
      ],
      "execution_count": 373,
      "outputs": [
        {
          "output_type": "stream",
          "text": [
            "[100,     1] loss: 0.046\n",
            "[200,     1] loss: 0.486\n",
            "[300,     1] loss: 0.219\n",
            "[400,     1] loss: 0.518\n",
            "[500,     1] loss: 0.075\n",
            "[600,     1] loss: 0.000\n",
            "[700,     1] loss: 0.128\n",
            "[800,     1] loss: 0.000\n",
            "[900,     1] loss: 0.062\n",
            "[1000,     1] loss: 0.002\n",
            "[1100,     1] loss: 0.002\n",
            "[1200,     1] loss: 0.120\n",
            "[1300,     1] loss: 0.393\n",
            "[1400,     1] loss: 0.529\n",
            "[1500,     1] loss: 0.442\n",
            "[1600,     1] loss: 0.231\n",
            "[1700,     1] loss: 0.060\n",
            "[1800,     1] loss: 0.143\n",
            "[1900,     1] loss: 0.499\n",
            "[2000,     1] loss: 0.042\n",
            "[100,     2] loss: 0.075\n",
            "[200,     2] loss: 0.290\n",
            "[300,     2] loss: 0.080\n",
            "[400,     2] loss: 0.418\n",
            "[500,     2] loss: 0.030\n",
            "[600,     2] loss: 0.016\n",
            "[700,     2] loss: 0.078\n",
            "[800,     2] loss: 0.004\n",
            "[900,     2] loss: 0.111\n",
            "[1000,     2] loss: 0.015\n",
            "[1100,     2] loss: 0.006\n",
            "[1200,     2] loss: 0.109\n",
            "[1300,     2] loss: 0.303\n",
            "[1400,     2] loss: 0.460\n",
            "[1500,     2] loss: 0.372\n",
            "[1600,     2] loss: 0.084\n",
            "[1700,     2] loss: 0.045\n",
            "[1800,     2] loss: 0.050\n",
            "[1900,     2] loss: 0.161\n",
            "[2000,     2] loss: 0.015\n",
            "[100,     3] loss: 0.010\n",
            "[200,     3] loss: 0.062\n",
            "[300,     3] loss: 0.003\n",
            "[400,     3] loss: 0.242\n",
            "[500,     3] loss: 0.009\n",
            "[600,     3] loss: 0.005\n",
            "[700,     3] loss: 0.017\n",
            "[800,     3] loss: 0.036\n",
            "[900,     3] loss: 0.014\n",
            "[1000,     3] loss: 0.010\n",
            "[1100,     3] loss: 0.015\n",
            "[1200,     3] loss: 0.023\n",
            "[1300,     3] loss: 0.148\n",
            "[1400,     3] loss: 0.313\n",
            "[1500,     3] loss: 0.224\n",
            "[1600,     3] loss: 0.041\n",
            "[1700,     3] loss: 0.002\n",
            "[1800,     3] loss: 0.010\n",
            "[1900,     3] loss: 0.032\n",
            "[2000,     3] loss: 0.008\n",
            "[100,     4] loss: 0.028\n",
            "[200,     4] loss: 0.008\n",
            "[300,     4] loss: 0.034\n",
            "[400,     4] loss: 0.085\n",
            "[500,     4] loss: 0.010\n",
            "[600,     4] loss: 0.023\n",
            "[700,     4] loss: 0.004\n",
            "[800,     4] loss: 0.022\n",
            "[900,     4] loss: 0.010\n",
            "[1000,     4] loss: 0.042\n",
            "[1100,     4] loss: 0.017\n",
            "[1200,     4] loss: 0.017\n",
            "[1300,     4] loss: 0.063\n",
            "[1400,     4] loss: 0.197\n",
            "[1500,     4] loss: 0.045\n",
            "[1600,     4] loss: 0.042\n",
            "[1700,     4] loss: 0.006\n",
            "[1800,     4] loss: 0.005\n",
            "[1900,     4] loss: 0.017\n",
            "[2000,     4] loss: 0.000\n"
          ],
          "name": "stdout"
        }
      ]
    },
    {
      "cell_type": "code",
      "metadata": {
        "id": "Qreu-uWStnTi",
        "colab": {
          "base_uri": "https://localhost:8080/"
        },
        "outputId": "b5aca1f7-4242-4670-c8c6-acec6daf50b9"
      },
      "source": [
        "score(model, dataset, y, dataset_size=2025)"
      ],
      "execution_count": 374,
      "outputs": [
        {
          "output_type": "stream",
          "text": [
            "TRAIN 98.57 %\n"
          ],
          "name": "stdout"
        }
      ]
    },
    {
      "cell_type": "code",
      "metadata": {
        "id": "EwpjwJCxgCnl"
      },
      "source": [
        "j_test = pd.read_csv('/content/joy-test.tsv', error_bad_lines=False, header=0, names=['emotion','text'], sep='\\t')\n",
        "a_test= pd.read_csv('/content/anger-test.tsv', error_bad_lines=False, header=0, names=['emotion','text'], sep='\\t')\n",
        "df = pd.concat([j_test, a_test])\n",
        "df['emotion'].replace({'not-joy':'neutral', 'not-anger':'neutral'}, inplace=True)\n",
        "df = shuffle(df)\n",
        "feature_mat_test = vectorizer.transform(df['text'])\n",
        "mat_test = feature_mat_test.astype('float').toarray()\n",
        "X_test = torch.from_numpy(mat_test)\n",
        "y_test = make_labels(df['emotion'])"
      ],
      "execution_count": 375,
      "outputs": []
    },
    {
      "cell_type": "code",
      "metadata": {
        "id": "wOFNxNM8lbg3",
        "outputId": "bddcf49f-80b0-45fa-c43b-4260e63ec73d",
        "colab": {
          "base_uri": "https://localhost:8080/"
        }
      },
      "source": [
        "print(\"test\")\n",
        "score(model, X_test, y_test, dataset_size=len(df.index))"
      ],
      "execution_count": 376,
      "outputs": [
        {
          "output_type": "stream",
          "text": [
            "test\n",
            "TRAIN 57.09 %\n"
          ],
          "name": "stdout"
        }
      ]
    },
    {
      "cell_type": "code",
      "metadata": {
        "id": "rxI3sbmumjxp"
      },
      "source": [
        ""
      ],
      "execution_count": null,
      "outputs": []
    }
  ]
}