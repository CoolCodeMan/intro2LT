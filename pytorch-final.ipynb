{
  "nbformat": 4,
  "nbformat_minor": 0,
  "metadata": {
    "colab": {
      "name": "Untitled0.ipynb",
      "provenance": [],
      "authorship_tag": "ABX9TyOjghzBn0aDlT/3aDMk46mD",
      "include_colab_link": true
    },
    "kernelspec": {
      "name": "python3",
      "display_name": "Python 3"
    },
    "language_info": {
      "name": "python"
    },
    "accelerator": "GPU"
  },
  "cells": [
    {
      "cell_type": "markdown",
      "metadata": {
        "id": "view-in-github",
        "colab_type": "text"
      },
      "source": [
        "<a href=\"https://colab.research.google.com/github/CoolCodeMan/intro2LT/blob/lauri/pytorch-final.ipynb\" target=\"_parent\"><img src=\"https://colab.research.google.com/assets/colab-badge.svg\" alt=\"Open In Colab\"/></a>"
      ]
    },
    {
      "cell_type": "code",
      "metadata": {
        "id": "e5aIokor8rWI"
      },
      "source": [
        "import warnings\n",
        "warnings.filterwarnings('ignore')"
      ],
      "execution_count": 2,
      "outputs": []
    },
    {
      "cell_type": "markdown",
      "metadata": {
        "id": "zlQswpO-NcKL"
      },
      "source": [
        "# Download data"
      ]
    },
    {
      "cell_type": "code",
      "metadata": {
        "id": "7aU7tKv6D7n0"
      },
      "source": [
        "!wget -q -O anger-train.tsv http://dl.turkunlp.org/TKO_8966_2021-projects/anger-annotation/train.tsv\n",
        "!wget -q -O anger-test.tsv http://dl.turkunlp.org/TKO_8966_2021-projects/anger-annotation/test.tsv\n",
        "!wget -q -O anger-dev.tsv http://dl.turkunlp.org/TKO_8966_2021-projects/anger-annotation/dev.tsv\n",
        "\n",
        "!wget -q -O joy-train.tsv http://dl.turkunlp.org/TKO_8966_2021-projects/joy-annotation/train.tsv\n",
        "!wget -q -O joy-test.tsv http://dl.turkunlp.org/TKO_8966_2021-projects/joy-annotation/test.tsv\n",
        "!wget -q -O joy-dev.tsv http://dl.turkunlp.org/TKO_8966_2021-projects/joy-annotation/dev.tsv"
      ],
      "execution_count": 3,
      "outputs": []
    },
    {
      "cell_type": "markdown",
      "metadata": {
        "id": "sr6VeXPjNhiK"
      },
      "source": [
        "# import python libraries\n",
        "\n",
        "- numpy\n",
        "- pandas\n",
        "- pytorch\n",
        "- scikit\n",
        "- matplotlib"
      ]
    },
    {
      "cell_type": "code",
      "metadata": {
        "id": "xSGf6jQeIH8j"
      },
      "source": [
        "import pandas as pd\n",
        "from sklearn.feature_extraction.text import CountVectorizer\n",
        "import numpy as np\n",
        "import torch\n",
        "import torch.nn as nn\n",
        "import torch.nn.functional as functional\n",
        "import torch.optim as optim\n",
        "from scipy.sparse import *\n",
        "import sklearn.utils\n",
        "import matplotlib.pyplot as plt"
      ],
      "execution_count": 4,
      "outputs": []
    },
    {
      "cell_type": "markdown",
      "metadata": {
        "id": "QvDlwaJWNydR"
      },
      "source": [
        "# Set up functions\n",
        "\n",
        "- **shuffle** shuffles pandas dataframe\n",
        "- **make_labels** takes in pandas dataframe and transforms it into tensor\n",
        "- **create_dataset** takes anger and joy files, opens them into pandas dataframe and changing labels not-joy and not-anger into neutral\n",
        "- **create_dataset_and_testset** takes in pandas dataframes and tranforms them into pytorch tensor\n",
        "- **score** takes in model and tensors, scoring them\n",
        "- **torch_shuffle** -- incomplete"
      ]
    },
    {
      "cell_type": "code",
      "metadata": {
        "id": "QZJxQOWjKFcl"
      },
      "source": [
        "def shuffle(data):\n",
        "  data = sklearn.utils.shuffle(data)\n",
        "  data.reset_index(inplace=True, drop=True)\n",
        "  return data"
      ],
      "execution_count": 5,
      "outputs": []
    },
    {
      "cell_type": "code",
      "metadata": {
        "id": "wn8NWyHbl0cM"
      },
      "source": [
        "def make_labels(labels):\n",
        "  y = []\n",
        "  for i in labels:\n",
        "    if i == 'joy':\n",
        "      y.append([1,0,0])\n",
        "    elif i == 'anger':\n",
        "      y.append([0,1,0])\n",
        "    elif i == 'neutral':\n",
        "      y.append([0,0,1])\n",
        "  y = torch.tensor(y).float()\n",
        "  return y"
      ],
      "execution_count": 6,
      "outputs": []
    },
    {
      "cell_type": "code",
      "metadata": {
        "id": "WmE7Vuudlk5l"
      },
      "source": [
        "def create_dataset(angerpath, joypath):\n",
        "  anger = pd.read_csv(angerpath, error_bad_lines=False, header=0, names=['emotion','text'], sep='\\t')\n",
        "  joy= pd.read_csv(joypath, error_bad_lines=False, header=0, names=['emotion','text'], sep='\\t')\n",
        "\n",
        "  df = pd.concat([joy, anger])\n",
        "  df['emotion'].replace({'not-joy':'neutral', 'not-anger':'neutral'}, inplace=True)\n",
        "  df = shuffle(df)\n",
        "\n",
        "  return df"
      ],
      "execution_count": 7,
      "outputs": []
    },
    {
      "cell_type": "code",
      "metadata": {
        "id": "xK7GDQfrjppm"
      },
      "source": [
        "def create_dataset_and_testset(pandas_dataset, vectorizer):\n",
        "\n",
        "  feature_matrix = vectorizer.transform(pandas_dataset['text'])\n",
        "  mat = feature_matrix.astype('float').toarray()\n",
        "  X = torch.from_numpy(mat)\n",
        "  y = make_labels(pandas_dataset['emotion'])\n",
        "\n",
        "  return X, y"
      ],
      "execution_count": 8,
      "outputs": []
    },
    {
      "cell_type": "code",
      "metadata": {
        "id": "r1k9cQYkmu09"
      },
      "source": [
        "def score(model, dataset, labels, dataset_size=2024):\n",
        "  total = 0\n",
        "  for i in range(dataset_size):\n",
        "    pred = model(dataset[i].float())\n",
        "    n1 = pred.detach().cpu().numpy().argmax()\n",
        "    n2 = labels[i].detach().cpu().numpy().argmax()\n",
        "    if n2 == n1:\n",
        "      total += 1\n",
        "    \n",
        "  return total/dataset_size*100"
      ],
      "execution_count": 9,
      "outputs": []
    },
    {
      "cell_type": "code",
      "metadata": {
        "id": "10dnYdq1q6A0"
      },
      "source": [
        "def torch_shuffle(df, vectorizer):\n",
        "  df = shuffle(df)\n",
        "  X, y = create_dataset_and_testset(df, vectorizer)\n",
        "  return X, y"
      ],
      "execution_count": 123,
      "outputs": []
    },
    {
      "cell_type": "markdown",
      "metadata": {
        "id": "gW4Rk65APNwa"
      },
      "source": [
        "# Initialize data"
      ]
    },
    {
      "cell_type": "code",
      "metadata": {
        "id": "ODdVjF8BlIsl"
      },
      "source": [
        "dataset = create_dataset('/content/anger-train.tsv', '/content/joy-train.tsv')\n",
        "vectorizer=CountVectorizer(analyzer='word', ngram_range=(1,1))\n",
        "vectorizer.fit(dataset['text'])\n",
        "dataset_train, labels_train = create_dataset_and_testset(dataset, vectorizer)"
      ],
      "execution_count": 11,
      "outputs": []
    },
    {
      "cell_type": "code",
      "metadata": {
        "id": "Ho_feKMgP-Jc"
      },
      "source": [
        "dataframe_dev = create_dataset('/content/anger-dev.tsv', '/content/joy-dev.tsv')\n",
        "dataset_dev, labels_dev = create_dataset_and_testset(dataframe_dev, vectorizer)"
      ],
      "execution_count": 12,
      "outputs": []
    },
    {
      "cell_type": "code",
      "metadata": {
        "id": "jTGNp8612Zmb"
      },
      "source": [
        "dataframe_test = create_dataset('/content/anger-test.tsv', '/content/joy-test.tsv')\n",
        "dataset_test, labels_test = create_dataset_and_testset(dataframe_test, vectorizer)"
      ],
      "execution_count": 13,
      "outputs": []
    },
    {
      "cell_type": "markdown",
      "metadata": {
        "id": "wtdYy2TUPXaC"
      },
      "source": [
        "# Setup pytorch device"
      ]
    },
    {
      "cell_type": "code",
      "metadata": {
        "id": "NSARdVu7_1Ws"
      },
      "source": [
        "device = torch.device('cuda' if torch.cuda.is_available() else 'cpu')"
      ],
      "execution_count": 14,
      "outputs": []
    },
    {
      "cell_type": "code",
      "metadata": {
        "id": "5qwEdCE7CDGD"
      },
      "source": [
        "dataset_train = dataset_train.to(device)\n",
        "labels_train = labels_train.to(device)\n",
        "\n",
        "dataset_dev = dataset_dev.to(device)\n",
        "labels_dev = labels_dev.to(device)\n",
        "\n",
        "dataset_test = dataset_test.to(device)\n",
        "labels_test = labels_test.to(device)"
      ],
      "execution_count": 15,
      "outputs": []
    },
    {
      "cell_type": "markdown",
      "metadata": {
        "id": "TMPg27K3QjCs"
      },
      "source": [
        "# Init neural network"
      ]
    },
    {
      "cell_type": "code",
      "metadata": {
        "id": "RIkl71kcE13l"
      },
      "source": [
        "class Net(nn.Module):\n",
        "  def __init__(self, size):\n",
        "    super(Net, self).__init__()\n",
        "\n",
        "    self.fc1 = nn.Linear(size, 100)\n",
        "    self.fc2 = nn.Linear(100, 3)\n",
        "\n",
        "  def forward(self, X):\n",
        "\n",
        "    out = self.fc1(X)\n",
        "    out = torch.relu(out)\n",
        "\n",
        "    out = self.fc2(out)\n",
        "\n",
        "    return out"
      ],
      "execution_count": 127,
      "outputs": []
    },
    {
      "cell_type": "markdown",
      "metadata": {
        "id": "wG1yPt6vQnKr"
      },
      "source": [
        "# Setup neural network, loss function and optimizer"
      ]
    },
    {
      "cell_type": "code",
      "metadata": {
        "id": "60fZcI2hO6NA"
      },
      "source": [
        "vocab_size = dataset_train.shape[1]\n",
        "\n",
        "model = Net(vocab_size)\n",
        "loss_function = nn.MSELoss(reduction='mean')\n",
        "optimizer = optim.Adadelta(model.parameters())\n",
        "\n",
        "accuracy = []\n",
        "losses = []\n",
        "\n",
        "model = model.to(device)\n",
        "loss_function = loss_function.to(device)"
      ],
      "execution_count": 128,
      "outputs": []
    },
    {
      "cell_type": "markdown",
      "metadata": {
        "id": "oWnhNrnNRjli"
      },
      "source": [
        "# Train model"
      ]
    },
    {
      "cell_type": "code",
      "metadata": {
        "cellView": "code",
        "id": "Nh5W8L9W4Yfm",
        "colab": {
          "base_uri": "https://localhost:8080/"
        },
        "outputId": "6b13e87d-7ef2-410e-f358-b428f04c1688"
      },
      "source": [
        "for epoch in range(50):\n",
        "  print('epoch ', epoch, ' loss ', round(running_loss,3))\n",
        "  running_loss = 0.0\n",
        "\n",
        "  for i in range(2025):    \n",
        "    optimizer.zero_grad()\n",
        "\n",
        "    out = model(dataset_train[i].float())\n",
        "    loss = loss_function(out, labels_train[i])\n",
        "    loss.backward()\n",
        "    optimizer.step()\n",
        "\n",
        "    running_loss += loss.item()\n",
        "    if i % 100 == 99:\n",
        "        accuracy.append(score(model, dataset_train[:50], labels_train[:50], 50))\n",
        "        losses.append(running_loss/100)\n",
        "        running_loss = 0.0"
      ],
      "execution_count": 129,
      "outputs": [
        {
          "output_type": "stream",
          "text": [
            "epoch  0  loss  0.0\n",
            "epoch  1  loss  3.493\n",
            "epoch  2  loss  2.594\n",
            "epoch  3  loss  1.739\n",
            "epoch  4  loss  1.45\n",
            "epoch  5  loss  1.062\n",
            "epoch  6  loss  1.033\n",
            "epoch  7  loss  0.782\n",
            "epoch  8  loss  0.863\n",
            "epoch  9  loss  0.644\n",
            "epoch  10  loss  0.559\n",
            "epoch  11  loss  0.501\n",
            "epoch  12  loss  0.471\n",
            "epoch  13  loss  0.424\n",
            "epoch  14  loss  0.408\n",
            "epoch  15  loss  0.311\n",
            "epoch  16  loss  0.301\n",
            "epoch  17  loss  0.183\n",
            "epoch  18  loss  0.288\n",
            "epoch  19  loss  0.128\n",
            "epoch  20  loss  0.204\n",
            "epoch  21  loss  0.135\n",
            "epoch  22  loss  0.13\n",
            "epoch  23  loss  0.109\n",
            "epoch  24  loss  0.076\n",
            "epoch  25  loss  0.114\n",
            "epoch  26  loss  0.083\n",
            "epoch  27  loss  0.09\n",
            "epoch  28  loss  0.054\n",
            "epoch  29  loss  0.085\n",
            "epoch  30  loss  0.038\n",
            "epoch  31  loss  0.062\n",
            "epoch  32  loss  0.038\n",
            "epoch  33  loss  0.051\n",
            "epoch  34  loss  0.052\n",
            "epoch  35  loss  0.039\n",
            "epoch  36  loss  0.047\n",
            "epoch  37  loss  0.035\n",
            "epoch  38  loss  0.041\n",
            "epoch  39  loss  0.044\n",
            "epoch  40  loss  0.057\n",
            "epoch  41  loss  0.035\n",
            "epoch  42  loss  0.053\n",
            "epoch  43  loss  0.04\n",
            "epoch  44  loss  0.058\n",
            "epoch  45  loss  0.023\n",
            "epoch  46  loss  0.031\n",
            "epoch  47  loss  0.038\n",
            "epoch  48  loss  0.019\n",
            "epoch  49  loss  0.021\n"
          ],
          "name": "stdout"
        }
      ]
    },
    {
      "cell_type": "markdown",
      "metadata": {
        "id": "NNa6jF_dRmz8"
      },
      "source": [
        "# SCORES"
      ]
    },
    {
      "cell_type": "code",
      "metadata": {
        "id": "Qreu-uWStnTi",
        "colab": {
          "base_uri": "https://localhost:8080/"
        },
        "outputId": "7d1adb70-9dbb-477a-9530-a93de15f6dd9"
      },
      "source": [
        "print('Train ', round(score(model, dataset_train, labels_train, dataset_size=2025), 3))\n",
        "print('Devel ', round(score(model, dataset_dev, labels_dev, dataframe_dev.shape[0]), 3))\n",
        "print('Test ', round(score(model, dataset_test, labels_test, dataframe_test.shape[0]), 3))"
      ],
      "execution_count": 130,
      "outputs": [
        {
          "output_type": "stream",
          "text": [
            "Train  99.457\n",
            "Devel  77.333\n",
            "Test  78.716\n"
          ],
          "name": "stdout"
        }
      ]
    },
    {
      "cell_type": "markdown",
      "metadata": {
        "id": "7L0PFUDWRtUx"
      },
      "source": [
        "# Statistics"
      ]
    },
    {
      "cell_type": "code",
      "metadata": {
        "id": "9jCXCuh4s_it",
        "colab": {
          "base_uri": "https://localhost:8080/",
          "height": 971
        },
        "outputId": "69c97163-c19a-44f7-e3c1-62d5aa934030"
      },
      "source": [
        "%matplotlib inline\n",
        "\n",
        "fig, (ax1, ax2) = plt.subplots(2, 1, figsize=(20,15))\n",
        "\n",
        "fig.suptitle('Model Statistics')\n",
        "\n",
        "ax1.plot(accuracy)\n",
        "ax1.set_ylabel('accuracy')\n",
        "\n",
        "ax2.plot(losses)\n",
        "ax2.set_ylabel('loss')\n",
        "\n",
        "plt.show()"
      ],
      "execution_count": 131,
      "outputs": [
        {
          "output_type": "display_data",
          "data": {
            "image/png": "[encoded data removed]",
            "text/plain": [
              "<Figure size 1440x1080 with 2 Axes>"
            ]
          },
          "metadata": {
            "tags": [],
            "needs_background": "light"
          }
        }
      ]
    },
    {
      "cell_type": "code",
      "metadata": {
        "id": "hchtbeF9yYks"
      },
      "source": [
        ""
      ],
      "execution_count": null,
      "outputs": []
    }
  ]
}