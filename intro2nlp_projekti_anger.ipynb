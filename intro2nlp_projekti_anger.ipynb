{
  "nbformat": 4,
  "nbformat_minor": 0,
  "metadata": {
    "colab": {
      "name": "intro2nlp_projekti_anger.ipynb",
      "provenance": [],
      "collapsed_sections": []
    },
    "kernelspec": {
      "name": "python3",
      "display_name": "Python 3"
    },
    "language_info": {
      "name": "python"
    }
  },
  "cells": [
    {
      "cell_type": "code",
      "metadata": {
        "colab": {
          "base_uri": "https://localhost:8080/"
        },
        "id": "An-fbT9ceNRo",
        "outputId": "04628fe2-dc01-4298-f176-370d41cc4c33"
      },
      "source": [
        "import pandas as pd\n",
        "import sklearn\n",
        "from sklearn.feature_extraction.text import TfidfVectorizer\n",
        "import sklearn.svm\n",
        "import sklearn.metrics\n",
        "\n",
        "!wget -nc -O anger-train.tsv http://dl.turkunlp.org/TKO_8966_2021-projects/anger-annotation/train.tsv\n",
        "!wget -nc -O anger-dev.tsv http://dl.turkunlp.org/TKO_8966_2021-projects/anger-annotation/dev.tsv\n",
        "!wget -nc -O anger-test.tsv http://dl.turkunlp.org/TKO_8966_2021-projects/anger-annotation/test.tsv"
      ],
      "execution_count": 45,
      "outputs": [
        {
          "output_type": "stream",
          "text": [
            "File ‘anger-train.tsv’ already there; not retrieving.\n",
            "File ‘anger-dev.tsv’ already there; not retrieving.\n",
            "File ‘anger-test.tsv’ already there; not retrieving.\n"
          ],
          "name": "stdout"
        }
      ]
    },
    {
      "cell_type": "code",
      "metadata": {
        "id": "SmWkKdAvlsKi"
      },
      "source": [
        "with open(\"anger-train.tsv\", \"r\") as f:\n",
        "  anger_train = pd.read_csv((\"anger-train.tsv\"), header=0, names=['annotation','text'], sep='\\t')\n",
        "\n",
        "with open(\"anger-dev.tsv\", \"r\") as f:\n",
        "  anger_dev = pd.read_csv((\"anger-dev.tsv\"), header=0, names=['annotation','text'], sep='\\t')\n",
        "\n",
        "train_texts = []\n",
        "for i in anger_train[\"text\"]:\n",
        "  train_texts.append(i)\n",
        "train_labels = []\n",
        "for i in anger_train[\"annotation\"]:\n",
        "  train_labels.append(i)\n",
        "\n",
        "dev_texts = []\n",
        "for i in anger_dev[\"text\"]:\n",
        "  dev_texts.append(i)\n",
        "dev_labels = []\n",
        "for i in anger_dev[\"annotation\"]:\n",
        "  dev_labels.append(i)\n"
      ],
      "execution_count": 47,
      "outputs": []
    },
    {
      "cell_type": "code",
      "metadata": {
        "colab": {
          "base_uri": "https://localhost:8080/"
        },
        "id": "JP3Qw8MAtCaL",
        "outputId": "1ff55ba5-e0e8-4a80-9e0e-febf6e847fc3"
      },
      "source": [
        "vectorizer=TfidfVectorizer(max_features=100000,binary=True,ngram_range=(1,1))\n",
        "feature_matrix_train=vectorizer.fit_transform(train_texts)\n",
        "feature_matrix_dev=vectorizer.transform(dev_texts)\n",
        "\n",
        "classifier=sklearn.svm.LinearSVC(C=0.08,verbose=1)\n",
        "classifier.fit(feature_matrix_train, train_labels)\n",
        "\n",
        "print(\"DEV\",classifier.score(feature_matrix_dev, dev_labels))\n",
        "print(\"TRAIN\",classifier.score(feature_matrix_train, train_labels))\n",
        "\n",
        "predictions_dev=classifier.predict(feature_matrix_dev)\n",
        "print(predictions_dev)\n",
        "print(sklearn.metrics.confusion_matrix(dev_labels,predictions_dev))\n",
        "print(sklearn.metrics.accuracy_score(dev_labels,predictions_dev))"
      ],
      "execution_count": 48,
      "outputs": [
        {
          "output_type": "stream",
          "text": [
            "[LibLinear]DEV 0.8012820512820513\n",
            "TRAIN 0.802434456928839\n",
            "['not-anger' 'not-anger' 'not-anger' 'not-anger' 'not-anger' 'not-anger'\n",
            " 'not-anger' 'not-anger' 'not-anger' 'not-anger' 'not-anger' 'not-anger'\n",
            " 'not-anger' 'not-anger' 'not-anger' 'not-anger' 'not-anger' 'not-anger'\n",
            " 'not-anger' 'not-anger' 'not-anger' 'not-anger' 'not-anger' 'not-anger'\n",
            " 'not-anger' 'not-anger' 'not-anger' 'not-anger' 'not-anger' 'not-anger'\n",
            " 'not-anger' 'not-anger' 'not-anger' 'not-anger' 'not-anger' 'not-anger'\n",
            " 'not-anger' 'not-anger' 'not-anger' 'not-anger' 'not-anger' 'not-anger'\n",
            " 'not-anger' 'not-anger' 'not-anger' 'not-anger' 'not-anger' 'not-anger'\n",
            " 'not-anger' 'not-anger' 'not-anger' 'not-anger' 'not-anger' 'not-anger'\n",
            " 'not-anger' 'not-anger' 'not-anger' 'not-anger' 'not-anger' 'not-anger'\n",
            " 'not-anger' 'not-anger' 'not-anger' 'not-anger' 'not-anger' 'not-anger'\n",
            " 'not-anger' 'not-anger' 'not-anger' 'not-anger' 'not-anger' 'not-anger'\n",
            " 'not-anger' 'not-anger' 'not-anger' 'not-anger' 'not-anger' 'not-anger'\n",
            " 'not-anger' 'not-anger' 'not-anger' 'not-anger' 'not-anger' 'not-anger'\n",
            " 'not-anger' 'not-anger' 'not-anger' 'not-anger' 'not-anger' 'not-anger'\n",
            " 'not-anger' 'not-anger' 'not-anger' 'not-anger' 'not-anger' 'not-anger'\n",
            " 'anger' 'not-anger' 'not-anger' 'not-anger' 'not-anger' 'not-anger'\n",
            " 'not-anger' 'not-anger' 'not-anger' 'not-anger' 'not-anger' 'not-anger'\n",
            " 'not-anger' 'not-anger' 'not-anger' 'not-anger' 'not-anger' 'not-anger'\n",
            " 'not-anger' 'not-anger' 'not-anger' 'not-anger' 'not-anger' 'not-anger'\n",
            " 'not-anger' 'not-anger' 'not-anger' 'not-anger' 'not-anger' 'not-anger'\n",
            " 'not-anger' 'not-anger' 'not-anger' 'not-anger' 'not-anger' 'not-anger'\n",
            " 'not-anger' 'not-anger' 'not-anger' 'not-anger' 'not-anger' 'not-anger'\n",
            " 'not-anger' 'not-anger' 'not-anger' 'not-anger' 'not-anger' 'not-anger'\n",
            " 'not-anger' 'not-anger' 'not-anger' 'not-anger' 'not-anger' 'not-anger'\n",
            " 'not-anger' 'not-anger' 'not-anger' 'not-anger' 'not-anger' 'not-anger']\n",
            "[[  1  31]\n",
            " [  0 124]]\n",
            "0.8012820512820513\n"
          ],
          "name": "stdout"
        }
      ]
    },
    {
      "cell_type": "code",
      "metadata": {
        "id": "3gCUlM_7vImy"
      },
      "source": [
        "import tensorflow as tf\n",
        "import numpy as np\n",
        "\n",
        "def convert_sparse_matrix_to_sparse_tensor(X):\n",
        "    coo = X.tocoo()\n",
        "    indices = np.mat([coo.row, coo.col]).transpose()\n",
        "    return tf.sparse.reorder(tf.SparseTensor(indices, coo.data, coo.shape))\n",
        "\n",
        "feature_matrix_train_tf=convert_sparse_matrix_to_sparse_tensor(feature_matrix_train)\n",
        "feature_matrix_dev_tf=convert_sparse_matrix_to_sparse_tensor(feature_matrix_dev)"
      ],
      "execution_count": 49,
      "outputs": []
    },
    {
      "cell_type": "code",
      "metadata": {
        "colab": {
          "base_uri": "https://localhost:8080/"
        },
        "id": "2elhhBDPvRb0",
        "outputId": "361ef022-3080-4d85-9777-6780aac2c93e"
      },
      "source": [
        "from sklearn.preprocessing import LabelEncoder\n",
        "\n",
        "label_encoder=LabelEncoder() #Turns class labels into integers\n",
        "class_numbers_train=label_encoder.fit_transform(train_labels)\n",
        "class_numbers_dev=label_encoder.transform(dev_labels)\n",
        "\n",
        "print(\"class_numbers shape=\",class_numbers_train.shape)\n",
        "print(\"class labels\",label_encoder.classes_) #this will let us translate back from indices to labels"
      ],
      "execution_count": 50,
      "outputs": [
        {
          "output_type": "stream",
          "text": [
            "class_numbers shape= (1068,)\n",
            "class labels ['anger' 'not-anger']\n"
          ],
          "name": "stdout"
        }
      ]
    },
    {
      "cell_type": "code",
      "metadata": {
        "colab": {
          "base_uri": "https://localhost:8080/"
        },
        "id": "06B9ns0wvaQ0",
        "outputId": "2cd22728-f5c2-46d5-8746-4449124a32ec"
      },
      "source": [
        "from keras.models import Model\n",
        "from keras.layers import Input, Dense\n",
        "\n",
        "example_count,feature_count=feature_matrix_train.shape #how many examples and features we've got?\n",
        "example_count2=class_numbers_train.shape[0]\n",
        "assert example_count==example_count2 #sanity check\n",
        "class_count=len(label_encoder.classes_) #How many classes we've got?\n",
        "\n",
        "#Build the network:\n",
        "inp=Input(shape=(feature_count,)) #Input layer\n",
        "hidden=Dense(200,activation=\"tanh\")(inp) #Hidden layer\n",
        "outp=Dense(class_count,activation=\"softmax\")(hidden) #Output layer\n",
        "model=Model(inputs=[inp], outputs=[outp])\n",
        "\n",
        "model.compile(optimizer=\"sgd\",loss=\"sparse_categorical_crossentropy\",metrics=['accuracy'])\n",
        "\n",
        "\n",
        "hist=model.fit(feature_matrix_train_tf,class_numbers_train,\\\n",
        "               validation_data=(feature_matrix_dev_tf,class_numbers_dev),\\\n",
        "               batch_size=100,verbose=1,epochs=10)"
      ],
      "execution_count": 53,
      "outputs": [
        {
          "output_type": "stream",
          "text": [
            "Epoch 1/10\n",
            "11/11 [==============================] - 1s 39ms/step - loss: 0.6799 - accuracy: 0.6868 - val_loss: 0.6446 - val_accuracy: 0.7949\n",
            "Epoch 2/10\n",
            "11/11 [==============================] - 0s 7ms/step - loss: 0.6334 - accuracy: 0.8056 - val_loss: 0.6102 - val_accuracy: 0.7949\n",
            "Epoch 3/10\n",
            "11/11 [==============================] - 0s 7ms/step - loss: 0.5988 - accuracy: 0.8077 - val_loss: 0.5851 - val_accuracy: 0.7949\n",
            "Epoch 4/10\n",
            "11/11 [==============================] - 0s 7ms/step - loss: 0.5733 - accuracy: 0.8079 - val_loss: 0.5662 - val_accuracy: 0.7949\n",
            "Epoch 5/10\n",
            "11/11 [==============================] - 0s 7ms/step - loss: 0.5515 - accuracy: 0.8135 - val_loss: 0.5521 - val_accuracy: 0.7949\n",
            "Epoch 6/10\n",
            "11/11 [==============================] - 0s 8ms/step - loss: 0.5398 - accuracy: 0.8091 - val_loss: 0.5415 - val_accuracy: 0.7949\n",
            "Epoch 7/10\n",
            "11/11 [==============================] - 0s 7ms/step - loss: 0.5359 - accuracy: 0.7991 - val_loss: 0.5333 - val_accuracy: 0.7949\n",
            "Epoch 8/10\n",
            "11/11 [==============================] - 0s 7ms/step - loss: 0.5207 - accuracy: 0.8075 - val_loss: 0.5271 - val_accuracy: 0.7949\n",
            "Epoch 9/10\n",
            "11/11 [==============================] - 0s 7ms/step - loss: 0.5172 - accuracy: 0.8041 - val_loss: 0.5224 - val_accuracy: 0.7949\n",
            "Epoch 10/10\n",
            "11/11 [==============================] - 0s 7ms/step - loss: 0.5195 - accuracy: 0.7957 - val_loss: 0.5189 - val_accuracy: 0.7949\n"
          ],
          "name": "stdout"
        }
      ]
    },
    {
      "cell_type": "code",
      "metadata": {
        "colab": {
          "base_uri": "https://localhost:8080/"
        },
        "id": "G80jCATwv9N9",
        "outputId": "fe03e217-2cbe-4b6d-80a5-e66e7aaba115"
      },
      "source": [
        "print(hist.history[\"val_accuracy\"])\n",
        "# joku häikkä täällä koska kaikissa sama val_accuracy?"
      ],
      "execution_count": 54,
      "outputs": [
        {
          "output_type": "stream",
          "text": [
            "[0.7948718070983887, 0.7948718070983887, 0.7948718070983887, 0.7948718070983887, 0.7948718070983887, 0.7948718070983887, 0.7948718070983887, 0.7948718070983887, 0.7948718070983887, 0.7948718070983887]\n"
          ],
          "name": "stdout"
        }
      ]
    },
    {
      "cell_type": "code",
      "metadata": {
        "colab": {
          "base_uri": "https://localhost:8080/"
        },
        "id": "d03-eHAYwOo1",
        "outputId": "396bf3ba-625b-4c2e-c5d6-4c2c4ada4fa7"
      },
      "source": [
        "from keras.models import Model\n",
        "from keras.layers import Input, Dense\n",
        "from keras.callbacks import ModelCheckpoint, EarlyStopping\n",
        "from keras import optimizers\n",
        "import os\n",
        "import pickle\n",
        "\n",
        "def save_model(file_name,model,label_encoder,vectorizer):\n",
        "    \"\"\"Saves model structure and vocabularies\"\"\"\n",
        "    model_json = model.to_json()\n",
        "    with open(file_name+\".model.json\", \"w\") as f:\n",
        "        print(model_json,file=f)\n",
        "    with open(file_name+\".encoders.pickle\",\"wb\") as f:\n",
        "        pickle.dump((label_encoder,vectorizer),f)\n",
        "            \n",
        "example_count,feature_count=feature_matrix_train_tf.shape #how many examples and features we've got?\n",
        "example_count2=class_numbers_train.shape[0]\n",
        "assert example_count==example_count2 #sanity check\n",
        "class_count=len(label_encoder.classes_) #How many classes we've got?\n",
        "\n",
        "#Build the network:\n",
        "inp=Input(shape=(feature_count,)) #Input layer\n",
        "hidden=Dense(200,activation=\"tanh\")(inp) #Hidden layer\n",
        "outp=Dense(class_count,activation=\"softmax\")(hidden) #Output layer\n",
        "model=Model(inputs=[inp], outputs=[outp])\n",
        "\n",
        "# Let's try a different optimizer!\n",
        "opt=optimizers.Adam()\n",
        "model.compile(optimizer=opt,loss=\"sparse_categorical_crossentropy\",metrics=['accuracy'])\n",
        "\n",
        "# Save model and vocabularies, can be done before training\n",
        "os.makedirs(\"models\",exist_ok=True)\n",
        "save_model(\"models/imdb_bow\",model,label_encoder,vectorizer)\n",
        "# Callback function to save weights during training, if validation loss goes down\n",
        "save_cb=ModelCheckpoint(filepath=\"models/imdb_bow.weights.h5\", monitor='val_loss',\\\n",
        "                        verbose=1, save_best_only=True, mode='auto')\n",
        "stop_cb=EarlyStopping(patience=2,verbose=1,restore_best_weights=True)\n",
        "hist=model.fit(feature_matrix_train_tf,class_numbers_train,\\\n",
        "               validation_data=(feature_matrix_dev_tf,class_numbers_dev),\\\n",
        "               batch_size=100,verbose=1,epochs=20,\\\n",
        "               callbacks=[save_cb,stop_cb])"
      ],
      "execution_count": 55,
      "outputs": [
        {
          "output_type": "stream",
          "text": [
            "Epoch 1/20\n",
            "11/11 [==============================] - 1s 22ms/step - loss: 0.6640 - accuracy: 0.6821 - val_loss: 0.5583 - val_accuracy: 0.7949\n",
            "\n",
            "Epoch 00001: val_loss improved from inf to 0.55827, saving model to models/imdb_bow.weights.h5\n",
            "Epoch 2/20\n",
            "11/11 [==============================] - 0s 10ms/step - loss: 0.4927 - accuracy: 0.8058 - val_loss: 0.4726 - val_accuracy: 0.7949\n",
            "\n",
            "Epoch 00002: val_loss improved from 0.55827 to 0.47260, saving model to models/imdb_bow.weights.h5\n",
            "Epoch 3/20\n",
            "11/11 [==============================] - 0s 10ms/step - loss: 0.3801 - accuracy: 0.8010 - val_loss: 0.4435 - val_accuracy: 0.7949\n",
            "\n",
            "Epoch 00003: val_loss improved from 0.47260 to 0.44352, saving model to models/imdb_bow.weights.h5\n",
            "Epoch 4/20\n",
            "11/11 [==============================] - 0s 10ms/step - loss: 0.3193 - accuracy: 0.7995 - val_loss: 0.4297 - val_accuracy: 0.8077\n",
            "\n",
            "Epoch 00004: val_loss improved from 0.44352 to 0.42972, saving model to models/imdb_bow.weights.h5\n",
            "Epoch 5/20\n",
            "11/11 [==============================] - 0s 11ms/step - loss: 0.2550 - accuracy: 0.8530 - val_loss: 0.4199 - val_accuracy: 0.8397\n",
            "\n",
            "Epoch 00005: val_loss improved from 0.42972 to 0.41987, saving model to models/imdb_bow.weights.h5\n",
            "Epoch 6/20\n",
            "11/11 [==============================] - 0s 11ms/step - loss: 0.1956 - accuracy: 0.9384 - val_loss: 0.4167 - val_accuracy: 0.8397\n",
            "\n",
            "Epoch 00006: val_loss improved from 0.41987 to 0.41667, saving model to models/imdb_bow.weights.h5\n",
            "Epoch 7/20\n",
            "11/11 [==============================] - 0s 11ms/step - loss: 0.1402 - accuracy: 0.9831 - val_loss: 0.4221 - val_accuracy: 0.8590\n",
            "\n",
            "Epoch 00007: val_loss did not improve from 0.41667\n",
            "Epoch 8/20\n",
            "11/11 [==============================] - 0s 10ms/step - loss: 0.1034 - accuracy: 0.9923 - val_loss: 0.4297 - val_accuracy: 0.8590\n",
            "\n",
            "Epoch 00008: val_loss did not improve from 0.41667\n",
            "Restoring model weights from the end of the best epoch.\n",
            "Epoch 00008: early stopping\n"
          ],
          "name": "stdout"
        }
      ]
    },
    {
      "cell_type": "code",
      "metadata": {
        "colab": {
          "base_uri": "https://localhost:8080/"
        },
        "id": "IJFRYdHdwPzT",
        "outputId": "40ac0e23-63af-40c6-a4cb-45fc6401f6d5"
      },
      "source": [
        "\n",
        "import numpy\n",
        "from sklearn.metrics import classification_report, confusion_matrix\n",
        "\n",
        "#Validation data used during training:\n",
        "val_instances,val_labels=feature_matrix_dev_tf,class_numbers_dev\n",
        "\n",
        "print(\"Network output=\",model.predict(val_instances))\n",
        "predictions=numpy.argmax(model.predict(val_instances),axis=1)\n",
        "print(\"Maximum class for each example=\",predictions)\n",
        "gold=val_labels\n",
        "conf_matrix=confusion_matrix(list(gold),list(predictions))\n",
        "print(\"Confusion matrix=\\n\",conf_matrix)\n",
        "\n",
        "gold_labels=label_encoder.inverse_transform(list(gold))\n",
        "predicted_labels=label_encoder.inverse_transform(list(predictions))\n",
        "#print(\"Gold labels=\",gold_labels)\n",
        "#print(\"Predicted labels=\",predicted_labels)\n",
        "print(classification_report(gold_labels,predicted_labels))"
      ],
      "execution_count": 56,
      "outputs": [
        {
          "output_type": "stream",
          "text": [
            "Network output= [[0.12829205 0.871708  ]\n",
            " [0.14065439 0.8593456 ]\n",
            " [0.37152106 0.62847894]\n",
            " [0.74835783 0.2516422 ]\n",
            " [0.09626552 0.9037345 ]\n",
            " [0.29086107 0.70913893]\n",
            " [0.3201053  0.6798946 ]\n",
            " [0.06716896 0.93283105]\n",
            " [0.18236566 0.81763434]\n",
            " [0.12333383 0.8766661 ]\n",
            " [0.29675487 0.7032451 ]\n",
            " [0.05074961 0.94925034]\n",
            " [0.13296641 0.8670336 ]\n",
            " [0.22753415 0.7724658 ]\n",
            " [0.04392664 0.9560734 ]\n",
            " [0.14758247 0.85241747]\n",
            " [0.26292458 0.7370754 ]\n",
            " [0.02285994 0.97714007]\n",
            " [0.22646886 0.77353114]\n",
            " [0.11659402 0.88340604]\n",
            " [0.15437654 0.84562343]\n",
            " [0.06017316 0.93982685]\n",
            " [0.13962308 0.86037695]\n",
            " [0.05165907 0.9483409 ]\n",
            " [0.10382106 0.89617896]\n",
            " [0.19934137 0.80065864]\n",
            " [0.364313   0.635687  ]\n",
            " [0.05257065 0.94742936]\n",
            " [0.16832186 0.8316781 ]\n",
            " [0.10000757 0.8999924 ]\n",
            " [0.14064968 0.85935026]\n",
            " [0.10269503 0.89730495]\n",
            " [0.28696084 0.7130391 ]\n",
            " [0.44218165 0.55781835]\n",
            " [0.06841051 0.9315894 ]\n",
            " [0.29059806 0.70940197]\n",
            " [0.07120673 0.92879325]\n",
            " [0.03476283 0.9652372 ]\n",
            " [0.06994406 0.930056  ]\n",
            " [0.17273454 0.82726544]\n",
            " [0.39803153 0.6019685 ]\n",
            " [0.29218104 0.70781887]\n",
            " [0.24907306 0.750927  ]\n",
            " [0.12727667 0.87272334]\n",
            " [0.23598795 0.76401204]\n",
            " [0.16162482 0.8383752 ]\n",
            " [0.23375547 0.7662445 ]\n",
            " [0.16778669 0.83221334]\n",
            " [0.09984773 0.90015227]\n",
            " [0.29086107 0.70913893]\n",
            " [0.44655356 0.5534464 ]\n",
            " [0.07377251 0.9262275 ]\n",
            " [0.24922861 0.75077146]\n",
            " [0.245225   0.754775  ]\n",
            " [0.17396659 0.8260334 ]\n",
            " [0.16974068 0.8302593 ]\n",
            " [0.71237856 0.28762147]\n",
            " [0.74133044 0.2586695 ]\n",
            " [0.05496036 0.9450396 ]\n",
            " [0.1815357  0.8184643 ]\n",
            " [0.06322829 0.9367717 ]\n",
            " [0.11064739 0.8893526 ]\n",
            " [0.11609954 0.88390046]\n",
            " [0.12740982 0.8725902 ]\n",
            " [0.1616369  0.8383632 ]\n",
            " [0.09661399 0.90338606]\n",
            " [0.4703517  0.52964836]\n",
            " [0.20401135 0.7959887 ]\n",
            " [0.13308601 0.866914  ]\n",
            " [0.2675271  0.7324729 ]\n",
            " [0.22769965 0.7723004 ]\n",
            " [0.106529   0.893471  ]\n",
            " [0.19809489 0.8019051 ]\n",
            " [0.06352719 0.93647283]\n",
            " [0.09206284 0.9079372 ]\n",
            " [0.45984304 0.540157  ]\n",
            " [0.82340133 0.17659864]\n",
            " [0.16256897 0.83743095]\n",
            " [0.08549177 0.91450816]\n",
            " [0.19692636 0.80307364]\n",
            " [0.2143302  0.78566986]\n",
            " [0.23103663 0.7689634 ]\n",
            " [0.08843685 0.91156316]\n",
            " [0.1856096  0.8143904 ]\n",
            " [0.15133546 0.84866446]\n",
            " [0.11497127 0.8850288 ]\n",
            " [0.07133806 0.92866194]\n",
            " [0.5562995  0.44370046]\n",
            " [0.12831424 0.8716858 ]\n",
            " [0.29086107 0.70913893]\n",
            " [0.15418944 0.8458106 ]\n",
            " [0.22030036 0.7796997 ]\n",
            " [0.23587863 0.7641214 ]\n",
            " [0.20329696 0.79670304]\n",
            " [0.2888714  0.7111286 ]\n",
            " [0.27668232 0.72331774]\n",
            " [0.7962563  0.20374368]\n",
            " [0.24706846 0.7529316 ]\n",
            " [0.0736546  0.9263454 ]\n",
            " [0.08398762 0.9160124 ]\n",
            " [0.09977684 0.90022314]\n",
            " [0.30606484 0.69393516]\n",
            " [0.48633194 0.5136681 ]\n",
            " [0.13410382 0.86589617]\n",
            " [0.14376467 0.8562354 ]\n",
            " [0.18578053 0.81421953]\n",
            " [0.22835407 0.77164596]\n",
            " [0.1855568  0.81444323]\n",
            " [0.61338097 0.38661903]\n",
            " [0.2422771  0.7577229 ]\n",
            " [0.15964171 0.8403583 ]\n",
            " [0.12985145 0.87014854]\n",
            " [0.13974869 0.8602513 ]\n",
            " [0.26270175 0.73729825]\n",
            " [0.12495125 0.8750488 ]\n",
            " [0.30298114 0.69701886]\n",
            " [0.07303394 0.9269661 ]\n",
            " [0.0649075  0.93509245]\n",
            " [0.22559783 0.7744022 ]\n",
            " [0.67590183 0.32409814]\n",
            " [0.17402503 0.82597494]\n",
            " [0.29905626 0.7009438 ]\n",
            " [0.09482707 0.90517294]\n",
            " [0.755935   0.24406502]\n",
            " [0.3010612  0.6989388 ]\n",
            " [0.29086107 0.70913893]\n",
            " [0.01903457 0.98096544]\n",
            " [0.03747511 0.96252495]\n",
            " [0.2892695  0.71073043]\n",
            " [0.50307614 0.49692395]\n",
            " [0.10869692 0.8913031 ]\n",
            " [0.3640474  0.6359526 ]\n",
            " [0.15441582 0.8455842 ]\n",
            " [0.1500795  0.84992045]\n",
            " [0.05459434 0.94540566]\n",
            " [0.17527342 0.82472664]\n",
            " [0.16688175 0.83311826]\n",
            " [0.37156042 0.62843955]\n",
            " [0.11396506 0.8860349 ]\n",
            " [0.2315483  0.7684517 ]\n",
            " [0.06548187 0.93451816]\n",
            " [0.07846005 0.92153996]\n",
            " [0.6315166  0.36848345]\n",
            " [0.08627279 0.9137272 ]\n",
            " [0.13004863 0.86995137]\n",
            " [0.1064887  0.89351124]\n",
            " [0.09772574 0.90227425]\n",
            " [0.05810719 0.94189286]\n",
            " [0.13292605 0.867074  ]\n",
            " [0.69332814 0.30667177]\n",
            " [0.62703025 0.37296975]\n",
            " [0.04160093 0.95839906]\n",
            " [0.14082628 0.8591737 ]\n",
            " [0.04699844 0.9530016 ]\n",
            " [0.12482919 0.8751708 ]\n",
            " [0.13913068 0.86086935]]\n",
            "Maximum class for each example= [1 1 1 0 1 1 1 1 1 1 1 1 1 1 1 1 1 1 1 1 1 1 1 1 1 1 1 1 1 1 1 1 1 1 1 1 1\n",
            " 1 1 1 1 1 1 1 1 1 1 1 1 1 1 1 1 1 1 1 0 0 1 1 1 1 1 1 1 1 1 1 1 1 1 1 1 1\n",
            " 1 1 0 1 1 1 1 1 1 1 1 1 1 0 1 1 1 1 1 1 1 1 0 1 1 1 1 1 1 1 1 1 1 1 0 1 1\n",
            " 1 1 1 1 1 1 1 1 0 1 1 1 0 1 1 1 1 1 0 1 1 1 1 1 1 1 1 1 1 1 1 0 1 1 1 1 1\n",
            " 1 0 0 1 1 1 1 1]\n",
            "Confusion matrix=\n",
            " [[ 10  22]\n",
            " [  3 121]]\n",
            "              precision    recall  f1-score   support\n",
            "\n",
            "       anger       0.77      0.31      0.44        32\n",
            "   not-anger       0.85      0.98      0.91       124\n",
            "\n",
            "    accuracy                           0.84       156\n",
            "   macro avg       0.81      0.64      0.68       156\n",
            "weighted avg       0.83      0.84      0.81       156\n",
            "\n"
          ],
          "name": "stdout"
        }
      ]
    },
    {
      "cell_type": "code",
      "metadata": {
        "colab": {
          "base_uri": "https://localhost:8080/",
          "height": 269
        },
        "id": "T9fDU4_iwStx",
        "outputId": "bfcf082a-a60c-4451-866c-29654cbc0245"
      },
      "source": [
        "%matplotlib inline\n",
        "import matplotlib.pyplot as plt\n",
        "\n",
        "plt.ylim(0.55,1.0)\n",
        "plt.plot(hist.history[\"val_accuracy\"],label=\"Validation set accuracy\")\n",
        "plt.plot(hist.history[\"accuracy\"],label=\"Training set accuracy\")\n",
        "plt.legend()\n",
        "plt.show()"
      ],
      "execution_count": 57,
      "outputs": [
        {
          "output_type": "display_data",
          "data": {
            "image/png": "[encoded data removed]",
            "text/plain": [
              "<Figure size 432x288 with 1 Axes>"
            ]
          },
          "metadata": {
            "tags": [],
            "needs_background": "light"
          }
        }
      ]
    }
  ]
}