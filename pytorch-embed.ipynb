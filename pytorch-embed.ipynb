{
  "nbformat": 4,
  "nbformat_minor": 0,
  "metadata": {
    "colab": {
      "name": "Untitled0.ipynb",
      "provenance": [],
      "authorship_tag": "ABX9TyMhXwHUDooOooZsO3pvI79C",
      "include_colab_link": true
    },
    "kernelspec": {
      "name": "python3",
      "display_name": "Python 3"
    },
    "language_info": {
      "name": "python"
    }
  },
  "cells": [
    {
      "cell_type": "markdown",
      "metadata": {
        "id": "view-in-github",
        "colab_type": "text"
      },
      "source": [
        "<a href=\"https://colab.research.google.com/github/CoolCodeMan/intro2LT/blob/lauri/pytorch-embed.ipynb\" target=\"_parent\"><img src=\"https://colab.research.google.com/assets/colab-badge.svg\" alt=\"Open In Colab\"/></a>"
      ]
    },
    {
      "cell_type": "code",
      "metadata": {
        "id": "e5aIokor8rWI"
      },
      "source": [
        "import warnings\n",
        "warnings.filterwarnings('ignore')"
      ],
      "execution_count": 3,
      "outputs": []
    },
    {
      "cell_type": "markdown",
      "metadata": {
        "id": "v4ESgswqNAtz"
      },
      "source": [
        "# **Links**\n",
        "\n",
        "* https://github.com/CoolCodeMan/intro2LT/blob/lauri/tfidf-bow-ja-linearSVC.ipynb\n",
        "* https://github.com/graykode/nlp-tutorial\n",
        "* https://colab.research.google.com/github/graykode/nlp-tutorial/blob/master/1-1.NNLM/NNLM.ipynb\n",
        "* https://pytorch.org/tutorials/beginner/nlp/word_embeddings_tutorial.html#sphx-glr-beginner-nlp-word-embeddings-tutorial-py\n",
        "* https://pytorch.org/tutorials/intermediate/seq2seq_translation_tutorial.html\n",
        "* https://pytorch.org/docs/stable/generated/torch.nn.Embedding.html#torch.nn.Embedding\n",
        "* https://stackoverflow.com/questions/50747947/embedding-in-pytorch"
      ]
    },
    {
      "cell_type": "code",
      "metadata": {
        "id": "7aU7tKv6D7n0"
      },
      "source": [
        "!wget -q -O anger-train.tsv http://dl.turkunlp.org/TKO_8966_2021-projects/anger-annotation/train.tsv\n",
        "!wget -q -O anger-test.tsv http://dl.turkunlp.org/TKO_8966_2021-projects/anger-annotation/test.tsv\n",
        "!wget -q -O anger-dev.tsv http://dl.turkunlp.org/TKO_8966_2021-projects/anger-annotation/dev.tsv\n",
        "\n",
        "!wget -q -O joy-train.tsv http://dl.turkunlp.org/TKO_8966_2021-projects/joy-annotation/train.tsv\n",
        "!wget -q -O joy-test.tsv http://dl.turkunlp.org/TKO_8966_2021-projects/joy-annotation/test.tsv\n",
        "!wget -q -O joy-dev.tsv http://dl.turkunlp.org/TKO_8966_2021-projects/joy-annotation/dev.tsv"
      ],
      "execution_count": 4,
      "outputs": []
    },
    {
      "cell_type": "code",
      "metadata": {
        "id": "xSGf6jQeIH8j"
      },
      "source": [
        "import pandas as pd"
      ],
      "execution_count": 5,
      "outputs": []
    },
    {
      "cell_type": "code",
      "metadata": {
        "id": "FKAgpNSBJTi0"
      },
      "source": [
        "joy = pd.read_csv('/content/joy-train.tsv', error_bad_lines=False, header=0, names=['emotion','text'], sep='\\t')\n",
        "anger = pd.read_csv('/content/anger-train.tsv', error_bad_lines=False, header=0, names=['emotion','text'], sep='\\t')"
      ],
      "execution_count": 6,
      "outputs": []
    },
    {
      "cell_type": "code",
      "metadata": {
        "id": "4e-MlENsJtse"
      },
      "source": [
        "dataframe = pd.concat([joy, anger])\n",
        "dataframe['emotion'].replace({'not-joy':'neutral', 'not-anger':'neutral'}, inplace=True)\n",
        "# dataframe['emotion'].replace({'not-joy':0, 'not-anger':0, 'joy':1, 'anger':2}, inplace=True)"
      ],
      "execution_count": 7,
      "outputs": []
    },
    {
      "cell_type": "code",
      "metadata": {
        "id": "QZJxQOWjKFcl"
      },
      "source": [
        "import sklearn.utils\n",
        "\n",
        "def shuffle(data):\n",
        "  data = sklearn.utils.shuffle(data)\n",
        "  data.reset_index(inplace=True, drop=True)\n",
        "  return data"
      ],
      "execution_count": 8,
      "outputs": []
    },
    {
      "cell_type": "code",
      "metadata": {
        "colab": {
          "base_uri": "https://localhost:8080/",
          "height": 206
        },
        "id": "PLs3XAnLKZRQ",
        "outputId": "0ecabe39-0349-4df8-ca8d-cc14747c7a83"
      },
      "source": [
        "dataframe = shuffle(dataframe)\n",
        "dataframe.tail()"
      ],
      "execution_count": 9,
      "outputs": [
        {
          "output_type": "execute_result",
          "data": {
            "text/html": [
              "<div>\n",
              "<style scoped>\n",
              "    .dataframe tbody tr th:only-of-type {\n",
              "        vertical-align: middle;\n",
              "    }\n",
              "\n",
              "    .dataframe tbody tr th {\n",
              "        vertical-align: top;\n",
              "    }\n",
              "\n",
              "    .dataframe thead th {\n",
              "        text-align: right;\n",
              "    }\n",
              "</style>\n",
              "<table border=\"1\" class=\"dataframe\">\n",
              "  <thead>\n",
              "    <tr style=\"text-align: right;\">\n",
              "      <th></th>\n",
              "      <th>emotion</th>\n",
              "      <th>text</th>\n",
              "    </tr>\n",
              "  </thead>\n",
              "  <tbody>\n",
              "    <tr>\n",
              "      <th>2020</th>\n",
              "      <td>anger</td>\n",
              "      <td>Mitä vittua te idiootti viuhdotte .</td>\n",
              "    </tr>\n",
              "    <tr>\n",
              "      <th>2021</th>\n",
              "      <td>neutral</td>\n",
              "      <td>Jumiudumme tilanteisiin , joissa tiedostamme o...</td>\n",
              "    </tr>\n",
              "    <tr>\n",
              "      <th>2022</th>\n",
              "      <td>neutral</td>\n",
              "      <td>Hyvää huomenta , päivää ja iltaa .</td>\n",
              "    </tr>\n",
              "    <tr>\n",
              "      <th>2023</th>\n",
              "      <td>neutral</td>\n",
              "      <td>Täällä on niin hiljaista lähtösi jälkeen .</td>\n",
              "    </tr>\n",
              "    <tr>\n",
              "      <th>2024</th>\n",
              "      <td>neutral</td>\n",
              "      <td>Minusta olisi kauheaa, jos toinen olisi hoikka...</td>\n",
              "    </tr>\n",
              "  </tbody>\n",
              "</table>\n",
              "</div>"
            ],
            "text/plain": [
              "      emotion                                               text\n",
              "2020    anger                Mitä vittua te idiootti viuhdotte .\n",
              "2021  neutral  Jumiudumme tilanteisiin , joissa tiedostamme o...\n",
              "2022  neutral                 Hyvää huomenta , päivää ja iltaa .\n",
              "2023  neutral         Täällä on niin hiljaista lähtösi jälkeen .\n",
              "2024  neutral  Minusta olisi kauheaa, jos toinen olisi hoikka..."
            ]
          },
          "metadata": {
            "tags": []
          },
          "execution_count": 9
        }
      ]
    },
    {
      "cell_type": "code",
      "metadata": {
        "colab": {
          "base_uri": "https://localhost:8080/"
        },
        "id": "AREtOuhOKzEO",
        "outputId": "b2a8e81e-fa4f-48d6-f21d-3ed6e49bb35b"
      },
      "source": [
        "words = []\n",
        "for x in dataframe['text']:\n",
        "  l = x.split(' ')\n",
        "  for y in l:\n",
        "    words.append(y)\n",
        "\n",
        "len(words)"
      ],
      "execution_count": 10,
      "outputs": [
        {
          "output_type": "execute_result",
          "data": {
            "text/plain": [
              "19345"
            ]
          },
          "metadata": {
            "tags": []
          },
          "execution_count": 10
        }
      ]
    },
    {
      "cell_type": "code",
      "metadata": {
        "id": "QU3-speoLhBj"
      },
      "source": [
        "from collections import Counter"
      ],
      "execution_count": 11,
      "outputs": []
    },
    {
      "cell_type": "code",
      "metadata": {
        "colab": {
          "base_uri": "https://localhost:8080/"
        },
        "id": "Nu9Uloq7Njlz",
        "outputId": "d3b3907c-cf91-431f-9982-9dd7a02fa8e5"
      },
      "source": [
        "vocab = Counter(words)\n",
        "vocab = sorted(vocab, key=vocab.get, reverse=True)\n",
        "vocab_size = len(vocab)\n",
        "vocab_size"
      ],
      "execution_count": 12,
      "outputs": [
        {
          "output_type": "execute_result",
          "data": {
            "text/plain": [
              "9597"
            ]
          },
          "metadata": {
            "tags": []
          },
          "execution_count": 12
        }
      ]
    },
    {
      "cell_type": "code",
      "metadata": {
        "colab": {
          "base_uri": "https://localhost:8080/"
        },
        "id": "b5MwxoKQOSng",
        "outputId": "86c7cc03-00e6-43f8-dd03-0440f8121146"
      },
      "source": [
        "# word2vec = {word: ind for ind, word in enumerate(vocab)}\n",
        "word2vec = {word: ind + 1 for ind, word in enumerate(vocab)}\n",
        "list(word2vec)[:20]"
      ],
      "execution_count": 13,
      "outputs": [
        {
          "output_type": "execute_result",
          "data": {
            "text/plain": [
              "['on',\n",
              " ',',\n",
              " 'ja',\n",
              " '.',\n",
              " 'että',\n",
              " 'ei',\n",
              " 'se',\n",
              " 'oli',\n",
              " 'ole',\n",
              " 'mutta',\n",
              " 'kun',\n",
              " 'niin',\n",
              " 'kuin',\n",
              " 'En',\n",
              " '-',\n",
              " 'sen',\n",
              " 'jos',\n",
              " 'olla',\n",
              " 'ovat',\n",
              " 'Se']"
            ]
          },
          "metadata": {
            "tags": []
          },
          "execution_count": 13
        }
      ]
    },
    {
      "cell_type": "code",
      "metadata": {
        "colab": {
          "base_uri": "https://localhost:8080/"
        },
        "id": "RR4yt3wyOmqX",
        "outputId": "1dc6d9c5-d960-45ee-a651-ff15af425de6"
      },
      "source": [
        "encoded_sentences_example = [word2vec[word] for word in words]\n",
        "print(list(encoded_sentences_example)[:20])"
      ],
      "execution_count": 14,
      "outputs": [
        {
          "output_type": "stream",
          "text": [
            "[855, 554, 856, 857, 3, 555, 82, 556, 858, 859, 860, 1, 861, 136, 862, 222, 52, 1981, 1982, 863]\n"
          ],
          "name": "stdout"
        }
      ]
    },
    {
      "cell_type": "code",
      "metadata": {
        "id": "DfEJgpWHEl4e"
      },
      "source": [
        "import torch\n",
        "import torch.nn as nn\n",
        "import torch.nn.functional as functional\n",
        "import torch.optim as optim"
      ],
      "execution_count": 16,
      "outputs": []
    },
    {
      "cell_type": "code",
      "metadata": {
        "id": "m6423AxFRvyx"
      },
      "source": [
        "# [joy, anger, neutral]\n",
        "\n",
        "labels = dataframe['emotion']\n",
        "y = []\n",
        "for i in labels:\n",
        "  if i == 'joy':\n",
        "    y.append([1,0,0])\n",
        "  elif i == 'anger':\n",
        "    y.append([0,1,0])\n",
        "  elif i == 'neutral':\n",
        "    y.append([0,0,1])\n",
        "y = torch.tensor(y).float()"
      ],
      "execution_count": 17,
      "outputs": []
    },
    {
      "cell_type": "code",
      "metadata": {
        "id": "9AhC1h7ppXTB"
      },
      "source": [
        "import numpy as np"
      ],
      "execution_count": 18,
      "outputs": []
    },
    {
      "cell_type": "code",
      "metadata": {
        "id": "fcuRNS_LSh7n"
      },
      "source": [
        "def score(model, dataset, labels, dataset_size=2024):\n",
        "  total = 0\n",
        "  for i in range(dataset_size):\n",
        "    encoded_sentence = torch.tensor([word2vec[word] for word in dataset[i].split(' ')])\n",
        "    pred = model(encoded_sentence)\n",
        "    n1 = pred.detach().numpy().argmax()\n",
        "    n2 = y[i].detach().numpy().argmax()\n",
        "    if n2 == n1:\n",
        "      total += 1\n",
        "    \n",
        "  print(\"TRAIN {:.2f}\".format(total/dataset_size*100), '%')"
      ],
      "execution_count": 19,
      "outputs": []
    },
    {
      "cell_type": "code",
      "metadata": {
        "id": "RIkl71kcE13l"
      },
      "source": [
        "class Net(nn.Module):\n",
        "  def __init__(self, embed_size, vector_size, context_size):\n",
        "    super(Net, self).__init__()\n",
        "\n",
        "    # self.embed = nn.EmbeddingBag(embed_size, vector_size, sparse=True)\n",
        "    self.embed = nn.Embedding(embed_size, vector_size, padding_idx=0, sparse=True)\n",
        "    self.embed.weight.requires_grad = True\n",
        "\n",
        "    self.conv1 = nn.Conv1d(128, 50, kernel_size=1)\n",
        "    self.conv2 = nn.Conv1d(50, 1, kernel_size=1)\n",
        "    \n",
        "    self.fc1 = nn.Linear(vector_size, 50)\n",
        "    self.fc2 = nn.Linear(50, context_size)\n",
        "\n",
        "  def forward(self, X):\n",
        "\n",
        "    p = int((128-X.shape[0])/2)\n",
        "    if X.shape[0] % 2 == 0:\n",
        "      out = functional.pad(X, pad=(p,p))\n",
        "    else:\n",
        "      out = functional.pad(X, pad=(p,p+1))\n",
        "\n",
        "    out = self.embed(out)\n",
        "\n",
        "    out = out.clone().detach()\n",
        "    out = out.float()\n",
        "    out.requires_grad = True\n",
        "\n",
        "    out = out.view(out.shape[1],out.shape[0],1)\n",
        "    out = self.conv1(out)\n",
        "\n",
        "    out = self.conv2(out)\n",
        "\n",
        "    out = out.view(out.shape[0],out.shape[1])\n",
        "    out = torch.transpose(out,0,1)\n",
        "    \n",
        "    out = self.fc1(out)\n",
        "\n",
        "    out = torch.sigmoid(out)\n",
        "    out = self.fc2(out)\n",
        "\n",
        "    out = out.view(out.shape[1])\n",
        "\n",
        "    return out"
      ],
      "execution_count": 32,
      "outputs": []
    },
    {
      "cell_type": "code",
      "metadata": {
        "id": "60fZcI2hO6NA"
      },
      "source": [
        "vec_size = 50\n",
        "context_s = 3\n",
        "model = Net(vocab_size, vec_size, context_s)\n",
        "\n",
        "loss_function = nn.MSELoss(reduction='mean')\n",
        "optimizer = optim.SGD(model.parameters(), lr=0.05, momentum=0.9)"
      ],
      "execution_count": 33,
      "outputs": []
    },
    {
      "cell_type": "code",
      "metadata": {
        "id": "i81hENo5P79s",
        "colab": {
          "base_uri": "https://localhost:8080/"
        },
        "outputId": "17d31229-6cef-492b-e2ff-5d8487a01abd"
      },
      "source": [
        "sentences = dataframe['text']\n",
        "for i in range(2):\n",
        "  running_loss = 0.0\n",
        "  for epoch in range(2024):\n",
        "    encoded_sentence = torch.tensor([word2vec[word] for word in sentences[epoch].split(' ')])\n",
        "    model.zero_grad()\n",
        "\n",
        "    # out = model(encoded_sentence, torch.tensor([0]))\n",
        "    out = model(encoded_sentence)\n",
        "    loss = loss_function(out, y[epoch])\n",
        "\n",
        "    loss.backward()\n",
        "    optimizer.step()\n",
        "\n",
        "    running_loss += loss.item()\n",
        "    if epoch % 100 == 0:\n",
        "      print('[%d, %5d] loss: %.3f' % (epoch + 1, i + 1, running_loss / 2024))\n",
        "      # score(model, sentences[:50], y, dataset_size=50)\n",
        "      # running_loss = 0.0"
      ],
      "execution_count": 34,
      "outputs": [
        {
          "output_type": "stream",
          "text": [
            "[1,     1] loss: 0.000\n",
            "[101,     1] loss: 0.013\n",
            "[201,     1] loss: 0.022\n",
            "[301,     1] loss: 0.032\n",
            "[401,     1] loss: 0.041\n",
            "[501,     1] loss: 0.049\n",
            "[601,     1] loss: 0.058\n",
            "[701,     1] loss: 0.067\n",
            "[801,     1] loss: 0.076\n",
            "[901,     1] loss: 0.084\n",
            "[1001,     1] loss: 0.093\n",
            "[1101,     1] loss: 0.102\n",
            "[1201,     1] loss: 0.110\n",
            "[1301,     1] loss: 0.120\n",
            "[1401,     1] loss: 0.129\n",
            "[1501,     1] loss: 0.138\n",
            "[1601,     1] loss: 0.146\n",
            "[1701,     1] loss: 0.154\n",
            "[1801,     1] loss: 0.163\n",
            "[1901,     1] loss: 0.173\n",
            "[2001,     1] loss: 0.180\n",
            "[1,     2] loss: 0.000\n",
            "[101,     2] loss: 0.010\n",
            "[201,     2] loss: 0.019\n",
            "[301,     2] loss: 0.029\n",
            "[401,     2] loss: 0.038\n",
            "[501,     2] loss: 0.046\n",
            "[601,     2] loss: 0.054\n",
            "[701,     2] loss: 0.063\n",
            "[801,     2] loss: 0.072\n",
            "[901,     2] loss: 0.080\n",
            "[1001,     2] loss: 0.090\n",
            "[1101,     2] loss: 0.098\n",
            "[1201,     2] loss: 0.106\n",
            "[1301,     2] loss: 0.116\n",
            "[1401,     2] loss: 0.125\n",
            "[1501,     2] loss: 0.134\n",
            "[1601,     2] loss: 0.142\n",
            "[1701,     2] loss: 0.150\n",
            "[1801,     2] loss: 0.159\n",
            "[1901,     2] loss: 0.169\n",
            "[2001,     2] loss: 0.176\n"
          ],
          "name": "stdout"
        }
      ]
    },
    {
      "cell_type": "code",
      "metadata": {
        "id": "Qreu-uWStnTi",
        "colab": {
          "base_uri": "https://localhost:8080/"
        },
        "outputId": "78382676-6fae-4778-f9bf-9a3bacb3607e"
      },
      "source": [
        "score(model, sentences, y)"
      ],
      "execution_count": 35,
      "outputs": [
        {
          "output_type": "stream",
          "text": [
            "TRAIN 68.97 %\n"
          ],
          "name": "stdout"
        }
      ]
    },
    {
      "cell_type": "code",
      "metadata": {
        "id": "78omdB_iGWah"
      },
      "source": [
        ""
      ],
      "execution_count": null,
      "outputs": []
    }
  ]
}