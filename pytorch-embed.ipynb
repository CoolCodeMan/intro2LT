{
  "nbformat": 4,
  "nbformat_minor": 0,
  "metadata": {
    "colab": {
      "name": "Untitled0.ipynb",
      "provenance": [],
      "authorship_tag": "ABX9TyPrmwGvxs1nwI+TsEaRn3Mt",
      "include_colab_link": true
    },
    "kernelspec": {
      "name": "python3",
      "display_name": "Python 3"
    },
    "language_info": {
      "name": "python"
    }
  },
  "cells": [
    {
      "cell_type": "markdown",
      "metadata": {
        "id": "view-in-github",
        "colab_type": "text"
      },
      "source": [
        "<a href=\"https://colab.research.google.com/github/CoolCodeMan/intro2LT/blob/lauri/pytorch-embed.ipynb\" target=\"_parent\"><img src=\"https://colab.research.google.com/assets/colab-badge.svg\" alt=\"Open In Colab\"/></a>"
      ]
    },
    {
      "cell_type": "code",
      "metadata": {
        "id": "e5aIokor8rWI"
      },
      "source": [
        "import warnings\n",
        "warnings.filterwarnings('ignore')"
      ],
      "execution_count": 1,
      "outputs": []
    },
    {
      "cell_type": "markdown",
      "metadata": {
        "id": "v4ESgswqNAtz"
      },
      "source": [
        "# **Links**\n",
        "\n",
        "* https://github.com/CoolCodeMan/intro2LT/blob/lauri/tfidf-bow-ja-linearSVC.ipynb\n",
        "* https://github.com/graykode/nlp-tutorial\n",
        "* https://colab.research.google.com/github/graykode/nlp-tutorial/blob/master/1-1.NNLM/NNLM.ipynb\n",
        "* https://pytorch.org/tutorials/beginner/nlp/word_embeddings_tutorial.html#sphx-glr-beginner-nlp-word-embeddings-tutorial-py\n",
        "* https://pytorch.org/tutorials/intermediate/seq2seq_translation_tutorial.html\n",
        "* https://pytorch.org/docs/stable/generated/torch.nn.Embedding.html#torch.nn.Embedding\n",
        "* https://stackoverflow.com/questions/50747947/embedding-in-pytorch"
      ]
    },
    {
      "cell_type": "code",
      "metadata": {
        "id": "7aU7tKv6D7n0"
      },
      "source": [
        "!wget -q -O anger-train.tsv http://dl.turkunlp.org/TKO_8966_2021-projects/anger-annotation/train.tsv\n",
        "!wget -q -O anger-test.tsv http://dl.turkunlp.org/TKO_8966_2021-projects/anger-annotation/test.tsv\n",
        "!wget -q -O anger-dev.tsv http://dl.turkunlp.org/TKO_8966_2021-projects/anger-annotation/dev.tsv\n",
        "\n",
        "!wget -q -O joy-train.tsv http://dl.turkunlp.org/TKO_8966_2021-projects/joy-annotation/train.tsv\n",
        "!wget -q -O joy-test.tsv http://dl.turkunlp.org/TKO_8966_2021-projects/joy-annotation/test.tsv\n",
        "!wget -q -O joy-dev.tsv http://dl.turkunlp.org/TKO_8966_2021-projects/joy-annotation/dev.tsv"
      ],
      "execution_count": 2,
      "outputs": []
    },
    {
      "cell_type": "code",
      "metadata": {
        "id": "xSGf6jQeIH8j"
      },
      "source": [
        "import pandas as pd"
      ],
      "execution_count": 3,
      "outputs": []
    },
    {
      "cell_type": "code",
      "metadata": {
        "id": "FKAgpNSBJTi0"
      },
      "source": [
        "joy = pd.read_csv('/content/joy-train.tsv', error_bad_lines=False, header=0, names=['emotion','text'], sep='\\t')\n",
        "anger = pd.read_csv('/content/anger-train.tsv', error_bad_lines=False, header=0, names=['emotion','text'], sep='\\t')"
      ],
      "execution_count": 4,
      "outputs": []
    },
    {
      "cell_type": "code",
      "metadata": {
        "id": "4e-MlENsJtse"
      },
      "source": [
        "dataframe = pd.concat([joy, anger])\n",
        "dataframe['emotion'].replace({'not-joy':'neutral', 'not-anger':'neutral'}, inplace=True)\n",
        "# dataframe['emotion'].replace({'not-joy':0, 'not-anger':0, 'joy':1, 'anger':2}, inplace=True)"
      ],
      "execution_count": 5,
      "outputs": []
    },
    {
      "cell_type": "code",
      "metadata": {
        "id": "QZJxQOWjKFcl"
      },
      "source": [
        "import sklearn.utils\n",
        "\n",
        "def shuffle(data):\n",
        "  data = sklearn.utils.shuffle(data)\n",
        "  data.reset_index(inplace=True, drop=True)\n",
        "  return data"
      ],
      "execution_count": 6,
      "outputs": []
    },
    {
      "cell_type": "code",
      "metadata": {
        "colab": {
          "base_uri": "https://localhost:8080/",
          "height": 206
        },
        "id": "PLs3XAnLKZRQ",
        "outputId": "fd975ff2-1454-4649-e708-26d794b99df9"
      },
      "source": [
        "dataframe = shuffle(dataframe)\n",
        "dataframe.tail()"
      ],
      "execution_count": 7,
      "outputs": [
        {
          "output_type": "execute_result",
          "data": {
            "text/html": [
              "<div>\n",
              "<style scoped>\n",
              "    .dataframe tbody tr th:only-of-type {\n",
              "        vertical-align: middle;\n",
              "    }\n",
              "\n",
              "    .dataframe tbody tr th {\n",
              "        vertical-align: top;\n",
              "    }\n",
              "\n",
              "    .dataframe thead th {\n",
              "        text-align: right;\n",
              "    }\n",
              "</style>\n",
              "<table border=\"1\" class=\"dataframe\">\n",
              "  <thead>\n",
              "    <tr style=\"text-align: right;\">\n",
              "      <th></th>\n",
              "      <th>emotion</th>\n",
              "      <th>text</th>\n",
              "    </tr>\n",
              "  </thead>\n",
              "  <tbody>\n",
              "    <tr>\n",
              "      <th>2020</th>\n",
              "      <td>neutral</td>\n",
              "      <td>Sinä olisit parempi kuningas, kuin minä olen o...</td>\n",
              "    </tr>\n",
              "    <tr>\n",
              "      <th>2021</th>\n",
              "      <td>joy</td>\n",
              "      <td>Hyvä, että näin tämän, ennen kuin kuolen sukup...</td>\n",
              "    </tr>\n",
              "    <tr>\n",
              "      <th>2022</th>\n",
              "      <td>neutral</td>\n",
              "      <td>Myös esimerkkinä: Kävin Haaparannalla on vääri...</td>\n",
              "    </tr>\n",
              "    <tr>\n",
              "      <th>2023</th>\n",
              "      <td>neutral</td>\n",
              "      <td>Katsojan uinuvat kohdat Leo Tolstoin romaani s...</td>\n",
              "    </tr>\n",
              "    <tr>\n",
              "      <th>2024</th>\n",
              "      <td>neutral</td>\n",
              "      <td>Hän vaikutti mukavalta hepulta.</td>\n",
              "    </tr>\n",
              "  </tbody>\n",
              "</table>\n",
              "</div>"
            ],
            "text/plain": [
              "      emotion                                               text\n",
              "2020  neutral  Sinä olisit parempi kuningas, kuin minä olen o...\n",
              "2021      joy  Hyvä, että näin tämän, ennen kuin kuolen sukup...\n",
              "2022  neutral  Myös esimerkkinä: Kävin Haaparannalla on vääri...\n",
              "2023  neutral  Katsojan uinuvat kohdat Leo Tolstoin romaani s...\n",
              "2024  neutral                    Hän vaikutti mukavalta hepulta."
            ]
          },
          "metadata": {
            "tags": []
          },
          "execution_count": 7
        }
      ]
    },
    {
      "cell_type": "code",
      "metadata": {
        "colab": {
          "base_uri": "https://localhost:8080/"
        },
        "id": "AREtOuhOKzEO",
        "outputId": "7ff39302-e723-4dfd-a150-1fa458058e7b"
      },
      "source": [
        "words = []\n",
        "for x in dataframe['text']:\n",
        "  l = x.split(' ')\n",
        "  for y in l:\n",
        "    words.append(y)\n",
        "\n",
        "len(words)"
      ],
      "execution_count": 8,
      "outputs": [
        {
          "output_type": "execute_result",
          "data": {
            "text/plain": [
              "19345"
            ]
          },
          "metadata": {
            "tags": []
          },
          "execution_count": 8
        }
      ]
    },
    {
      "cell_type": "code",
      "metadata": {
        "id": "QU3-speoLhBj"
      },
      "source": [
        "from collections import Counter"
      ],
      "execution_count": 9,
      "outputs": []
    },
    {
      "cell_type": "code",
      "metadata": {
        "colab": {
          "base_uri": "https://localhost:8080/"
        },
        "id": "Nu9Uloq7Njlz",
        "outputId": "f92c1803-9a2d-429b-b1f9-7a30cdaa5c46"
      },
      "source": [
        "vocab = Counter(words)\n",
        "vocab = sorted(vocab, key=vocab.get, reverse=True)\n",
        "vocab_size = len(vocab)\n",
        "vocab_size"
      ],
      "execution_count": 10,
      "outputs": [
        {
          "output_type": "execute_result",
          "data": {
            "text/plain": [
              "9597"
            ]
          },
          "metadata": {
            "tags": []
          },
          "execution_count": 10
        }
      ]
    },
    {
      "cell_type": "code",
      "metadata": {
        "colab": {
          "base_uri": "https://localhost:8080/"
        },
        "id": "b5MwxoKQOSng",
        "outputId": "522ee510-f766-4f23-9a94-61c9209dbba9"
      },
      "source": [
        "# word2vec = {word: ind for ind, word in enumerate(vocab)}\n",
        "word2vec = {word: ind + 1 for ind, word in enumerate(vocab)}\n",
        "list(word2vec)[:20]"
      ],
      "execution_count": 11,
      "outputs": [
        {
          "output_type": "execute_result",
          "data": {
            "text/plain": [
              "['on',\n",
              " ',',\n",
              " 'ja',\n",
              " '.',\n",
              " 'että',\n",
              " 'ei',\n",
              " 'se',\n",
              " 'oli',\n",
              " 'ole',\n",
              " 'mutta',\n",
              " 'kun',\n",
              " 'niin',\n",
              " 'kuin',\n",
              " 'En',\n",
              " '-',\n",
              " 'sen',\n",
              " 'jos',\n",
              " 'ovat',\n",
              " 'olla',\n",
              " 'joka']"
            ]
          },
          "metadata": {
            "tags": []
          },
          "execution_count": 11
        }
      ]
    },
    {
      "cell_type": "code",
      "metadata": {
        "colab": {
          "base_uri": "https://localhost:8080/"
        },
        "id": "RR4yt3wyOmqX",
        "outputId": "d317954f-9a12-4492-9ec5-c7e2ede89d27"
      },
      "source": [
        "encoded_sentences_example = [word2vec[word] for word in words]\n",
        "print(list(encoded_sentences_example)[:20])"
      ],
      "execution_count": 12,
      "outputs": [
        {
          "output_type": "stream",
          "text": [
            "[30, 52, 222, 1981, 855, 1982, 1983, 68, 1984, 1985, 1986, 417, 2, 5, 1987, 1988, 554, 53, 332, 1989]\n"
          ],
          "name": "stdout"
        }
      ]
    },
    {
      "cell_type": "code",
      "metadata": {
        "id": "DfEJgpWHEl4e"
      },
      "source": [
        "import torch\n",
        "import torch.nn as nn\n",
        "import torch.nn.functional as functional\n",
        "import torch.optim as optim"
      ],
      "execution_count": 13,
      "outputs": []
    },
    {
      "cell_type": "code",
      "metadata": {
        "id": "m6423AxFRvyx"
      },
      "source": [
        "# [joy, anger, neutral]\n",
        "\n",
        "labels = dataframe['emotion']\n",
        "y = []\n",
        "for i in labels:\n",
        "  if i == 'joy':\n",
        "    y.append([1,0,0])\n",
        "  elif i == 'anger':\n",
        "    y.append([0,1,0])\n",
        "  elif i == 'neutral':\n",
        "    y.append([0,0,1])\n",
        "y = torch.tensor(y).float()"
      ],
      "execution_count": 14,
      "outputs": []
    },
    {
      "cell_type": "code",
      "metadata": {
        "id": "9AhC1h7ppXTB"
      },
      "source": [
        "import numpy as np"
      ],
      "execution_count": 15,
      "outputs": []
    },
    {
      "cell_type": "code",
      "metadata": {
        "id": "fcuRNS_LSh7n"
      },
      "source": [
        "def score(model, dataset, labels, dataset_size=2024):\n",
        "  total = 0\n",
        "  for i in range(dataset_size):\n",
        "    try:\n",
        "      encoded_sentence = torch.tensor([word2vec[word] for word in dataset[i].split(' ')])\n",
        "    except:\n",
        "      enc = []\n",
        "      for x in dataset[i].split(' '):\n",
        "        try:\n",
        "          enc.append(word2vec[x])\n",
        "        except:\n",
        "          enc.append(0)\n",
        "      # *print(enc)\n",
        "      encoded_sentence = torch.tensor(enc)\n",
        "    pred = model(encoded_sentence)\n",
        "    n1 = pred.detach().numpy().argmax()\n",
        "    n2 = labels[i].detach().numpy().argmax()\n",
        "    if n2 == n1:\n",
        "      total += 1\n",
        "    \n",
        "  # print(\"TRAIN {:.2f}\".format(total/dataset_size*100), '%')\n",
        "  return total/dataset_size*100"
      ],
      "execution_count": 182,
      "outputs": []
    },
    {
      "cell_type": "code",
      "metadata": {
        "id": "RIkl71kcE13l"
      },
      "source": [
        "class Net(nn.Module):\n",
        "  def __init__(self, embed_size, vector_size, context_size):\n",
        "    super(Net, self).__init__()\n",
        "\n",
        "    # self.embed = nn.EmbeddingBag(embed_size, vector_size, sparse=True)\n",
        "    self.embed = nn.Embedding(embed_size, vector_size, padding_idx=0)\n",
        "    self.fc1 = nn.Linear(vector_size, 100)\n",
        "    self.fc2 = nn.Linear(100, context_size)\n",
        "\n",
        "  def forward(self, X):\n",
        "    out = self.embed(X)\n",
        "\n",
        "    # out = torch.sigmoid(out)\n",
        "    # print(out.shape)\n",
        "    out = torch.mean(out, 0)\n",
        "    # print(out.shape)\n",
        "\n",
        "    out = self.fc1(out)\n",
        "    out = torch.relu(out)\n",
        "    out = self.fc2(out)\n",
        "\n",
        "    return out"
      ],
      "execution_count": 138,
      "outputs": []
    },
    {
      "cell_type": "code",
      "metadata": {
        "id": "unPX2HI9qdTW"
      },
      "source": [
        "device = torch.device('cuda' if torch.cuda.is_available() else 'cpu')\n",
        "\n",
        "losses = []\n",
        "accuracy = []"
      ],
      "execution_count": 139,
      "outputs": []
    },
    {
      "cell_type": "code",
      "metadata": {
        "id": "60fZcI2hO6NA"
      },
      "source": [
        "sentences = dataframe['text']\n",
        "vec_size = 512\n",
        "context_size = 3\n",
        "model = Net(vocab_size+1, vec_size, context_size)\n",
        "\n",
        "loss_function = nn.MSELoss()\n",
        "optimizer = optim.Adam(model.parameters())\n",
        "\n",
        "batch_size = 10"
      ],
      "execution_count": 140,
      "outputs": []
    },
    {
      "cell_type": "code",
      "metadata": {
        "id": "i81hENo5P79s",
        "colab": {
          "base_uri": "https://localhost:8080/"
        },
        "outputId": "e4bbd287-116c-4bde-d53f-1a5cc6441a2a"
      },
      "source": [
        "for epoch in range(10):\n",
        "  running_loss = 0.0\n",
        "  for i in range(len(sentences)):\n",
        "    # print(len(sentences[epoch].split(' ')))\n",
        "    encoded_sentence = torch.tensor([word2vec[word] for word in sentences[i].split(' ')])\n",
        "    model.zero_grad()\n",
        "\n",
        "    out = model(encoded_sentence)\n",
        "    loss = loss_function(out, y[i])\n",
        "\n",
        "    loss.backward()\n",
        "    optimizer.step()\n",
        "\n",
        "    running_loss += loss.item()\n",
        "    if i % 100 == 0:\n",
        "      losses.append((running_loss/9999))\n",
        "      accuracy.append(score(model,sentences[:100],y[:100],dataset_size=100))\n",
        "      running_loss = 0.0\n",
        "\n",
        "    if i % 1000 == 0:\n",
        "      print(f'{epoch:2d} | {i:5d} | {loss.item():.4f}')"
      ],
      "execution_count": 141,
      "outputs": [
        {
          "output_type": "stream",
          "text": [
            " 0 |     0 | 0.3766\n",
            " 0 |  1000 | 0.0057\n",
            " 0 |  2000 | 0.0182\n",
            " 1 |     0 | 0.0635\n",
            " 1 |  1000 | 0.0107\n",
            " 1 |  2000 | 0.0196\n",
            " 2 |     0 | 0.0429\n",
            " 2 |  1000 | 0.0126\n",
            " 2 |  2000 | 0.0219\n",
            " 3 |     0 | 0.0568\n",
            " 3 |  1000 | 0.0107\n",
            " 3 |  2000 | 0.0031\n",
            " 4 |     0 | 0.0045\n",
            " 4 |  1000 | 0.0057\n",
            " 4 |  2000 | 0.0011\n",
            " 5 |     0 | 0.0015\n",
            " 5 |  1000 | 0.0017\n",
            " 5 |  2000 | 0.0138\n",
            " 6 |     0 | 0.0004\n",
            " 6 |  1000 | 0.0018\n",
            " 6 |  2000 | 0.0109\n",
            " 7 |     0 | 0.0061\n",
            " 7 |  1000 | 0.0102\n",
            " 7 |  2000 | 0.0235\n",
            " 8 |     0 | 0.0018\n",
            " 8 |  1000 | 0.0034\n",
            " 8 |  2000 | 0.0202\n",
            " 9 |     0 | 0.0213\n",
            " 9 |  1000 | 0.0004\n",
            " 9 |  2000 | 0.0033\n"
          ],
          "name": "stdout"
        }
      ]
    },
    {
      "cell_type": "code",
      "metadata": {
        "id": "Qreu-uWStnTi",
        "colab": {
          "base_uri": "https://localhost:8080/"
        },
        "outputId": "ce8bf77c-3d84-46db-856a-777411647d98"
      },
      "source": [
        "\n",
        "print('TRAIN: ', score(model, sentences, y, dataset_size=len(sentences)))"
      ],
      "execution_count": 142,
      "outputs": [
        {
          "output_type": "stream",
          "text": [
            "TRAIN:  98.71604938271605\n"
          ],
          "name": "stdout"
        }
      ]
    },
    {
      "cell_type": "code",
      "metadata": {
        "id": "w-tubZy_s9Su"
      },
      "source": [
        "import matplotlib.pyplot as plt"
      ],
      "execution_count": 143,
      "outputs": []
    },
    {
      "cell_type": "code",
      "metadata": {
        "id": "78omdB_iGWah",
        "outputId": "fed05416-aac1-49ee-c02d-3b7e0c64abbf",
        "colab": {
          "base_uri": "https://localhost:8080/",
          "height": 971
        }
      },
      "source": [
        "%matplotlib inline\n",
        "\n",
        "fig, (ax1, ax2) = plt.subplots(2, 1, figsize=(20,15))\n",
        "\n",
        "fig.suptitle('Model Statistics')\n",
        "\n",
        "ax1.plot(accuracy)\n",
        "ax1.set_ylabel('accuracy')\n",
        "\n",
        "ax2.plot(losses)\n",
        "ax2.set_ylabel('loss')\n",
        "\n",
        "plt.show()"
      ],
      "execution_count": 144,
      "outputs": [
        {
          "output_type": "display_data",
          "data": {
            "image/png": "[encoded data removed]",
            "text/plain": [
              "<Figure size 1440x1080 with 2 Axes>"
            ]
          },
          "metadata": {
            "tags": [],
            "needs_background": "light"
          }
        }
      ]
    },
    {
      "cell_type": "code",
      "metadata": {
        "id": "1fYxh739tfgT",
        "outputId": "d7ddd19a-cc4d-4130-91af-586055cf146a",
        "colab": {
          "base_uri": "https://localhost:8080/",
          "height": 424
        }
      },
      "source": [
        "joy_dev = pd.read_csv('/content/joy-dev.tsv', error_bad_lines=False, header=0, names=['emotion','text'], sep='\\t')\n",
        "anger_dev = pd.read_csv('/content/anger-dev.tsv', error_bad_lines=False, header=0, names=['emotion','text'], sep='\\t')\n",
        "df_dev = pd.concat([joy_dev, anger_dev])\n",
        "df_dev['emotion'].replace({'not-joy':'neutral', 'not-anger':'neutral'}, inplace=True)\n",
        "df = shuffle(df_dev)\n",
        "df"
      ],
      "execution_count": 177,
      "outputs": [
        {
          "output_type": "execute_result",
          "data": {
            "text/html": [
              "<div>\n",
              "<style scoped>\n",
              "    .dataframe tbody tr th:only-of-type {\n",
              "        vertical-align: middle;\n",
              "    }\n",
              "\n",
              "    .dataframe tbody tr th {\n",
              "        vertical-align: top;\n",
              "    }\n",
              "\n",
              "    .dataframe thead th {\n",
              "        text-align: right;\n",
              "    }\n",
              "</style>\n",
              "<table border=\"1\" class=\"dataframe\">\n",
              "  <thead>\n",
              "    <tr style=\"text-align: right;\">\n",
              "      <th></th>\n",
              "      <th>emotion</th>\n",
              "      <th>text</th>\n",
              "    </tr>\n",
              "  </thead>\n",
              "  <tbody>\n",
              "    <tr>\n",
              "      <th>0</th>\n",
              "      <td>neutral</td>\n",
              "      <td>Elisa on tosin turhan kallis tällä hetkellä, m...</td>\n",
              "    </tr>\n",
              "    <tr>\n",
              "      <th>1</th>\n",
              "      <td>neutral</td>\n",
              "      <td>Tai täytyy olla kanttia lopettaa edellinen suhde.</td>\n",
              "    </tr>\n",
              "    <tr>\n",
              "      <th>2</th>\n",
              "      <td>joy</td>\n",
              "      <td>” Kumartakaa Mahtavaa Ahteria !</td>\n",
              "    </tr>\n",
              "    <tr>\n",
              "      <th>3</th>\n",
              "      <td>neutral</td>\n",
              "      <td>OT määrittelee sinut koneeksi jossa on hieman ...</td>\n",
              "    </tr>\n",
              "    <tr>\n",
              "      <th>4</th>\n",
              "      <td>neutral</td>\n",
              "      <td>Miehen ” kuolaan , koska osaan –katse ” näkyy ...</td>\n",
              "    </tr>\n",
              "    <tr>\n",
              "      <th>...</th>\n",
              "      <td>...</td>\n",
              "      <td>...</td>\n",
              "    </tr>\n",
              "    <tr>\n",
              "      <th>295</th>\n",
              "      <td>neutral</td>\n",
              "      <td>Jotenkin sille kaikelle kiltteydelle ja mielly...</td>\n",
              "    </tr>\n",
              "    <tr>\n",
              "      <th>296</th>\n",
              "      <td>neutral</td>\n",
              "      <td>No , mä olin tietty siinä ihan hoo-moilasena .</td>\n",
              "    </tr>\n",
              "    <tr>\n",
              "      <th>297</th>\n",
              "      <td>joy</td>\n",
              "      <td>Minulla on onnellinen olo.</td>\n",
              "    </tr>\n",
              "    <tr>\n",
              "      <th>298</th>\n",
              "      <td>joy</td>\n",
              "      <td>Vähän kallista, mutta hauskaa.</td>\n",
              "    </tr>\n",
              "    <tr>\n",
              "      <th>299</th>\n",
              "      <td>anger</td>\n",
              "      <td>Voi vittu kusipää sulla on joku toinen !</td>\n",
              "    </tr>\n",
              "  </tbody>\n",
              "</table>\n",
              "<p>300 rows × 2 columns</p>\n",
              "</div>"
            ],
            "text/plain": [
              "     emotion                                               text\n",
              "0    neutral  Elisa on tosin turhan kallis tällä hetkellä, m...\n",
              "1    neutral  Tai täytyy olla kanttia lopettaa edellinen suhde.\n",
              "2        joy                    ” Kumartakaa Mahtavaa Ahteria !\n",
              "3    neutral  OT määrittelee sinut koneeksi jossa on hieman ...\n",
              "4    neutral  Miehen ” kuolaan , koska osaan –katse ” näkyy ...\n",
              "..       ...                                                ...\n",
              "295  neutral  Jotenkin sille kaikelle kiltteydelle ja mielly...\n",
              "296  neutral     No , mä olin tietty siinä ihan hoo-moilasena .\n",
              "297      joy                         Minulla on onnellinen olo.\n",
              "298      joy                     Vähän kallista, mutta hauskaa.\n",
              "299    anger           Voi vittu kusipää sulla on joku toinen !\n",
              "\n",
              "[300 rows x 2 columns]"
            ]
          },
          "metadata": {
            "tags": []
          },
          "execution_count": 177
        }
      ]
    },
    {
      "cell_type": "code",
      "metadata": {
        "id": "6CQOGzKP8MaB"
      },
      "source": [
        "y_dev = []\n",
        "for i in df['emotion']:\n",
        "  if i == 'joy':\n",
        "    y_dev.append([1,0,0])\n",
        "  elif i == 'anger':\n",
        "    y_dev.append([0,1,0])\n",
        "  else:\n",
        "    y_dev.append([0,0,1])\n",
        "y_dev = torch.tensor(y_dev).float()"
      ],
      "execution_count": 180,
      "outputs": []
    },
    {
      "cell_type": "code",
      "metadata": {
        "id": "R4vFI3WA7D8i",
        "outputId": "4697716e-a8f5-489a-d4c6-9b30fc0fd475",
        "colab": {
          "base_uri": "https://localhost:8080/"
        }
      },
      "source": [
        "print('DEV  : ', score(model, df['text'], y_dev, dataset_size=len(df.index)))"
      ],
      "execution_count": 183,
      "outputs": [
        {
          "output_type": "stream",
          "text": [
            "DEV  :  74.66666666666667\n"
          ],
          "name": "stdout"
        }
      ]
    },
    {
      "cell_type": "code",
      "metadata": {
        "id": "iYuX2L-t7cDN"
      },
      "source": [
        ""
      ],
      "execution_count": null,
      "outputs": []
    }
  ]
}