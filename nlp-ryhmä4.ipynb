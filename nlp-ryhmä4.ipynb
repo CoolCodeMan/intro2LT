{
  "nbformat": 4,
  "nbformat_minor": 0,
  "metadata": {
    "colab": {
      "name": "nlp-ryhmä4.ipynb",
      "provenance": [],
      "collapsed_sections": []
    },
    "kernelspec": {
      "name": "python3",
      "display_name": "Python 3"
    }
  },
  "cells": [
    {
      "cell_type": "code",
      "metadata": {
        "colab": {
          "base_uri": "https://localhost:8080/"
        },
        "id": "-uHNyc4iglDJ",
        "outputId": "18f0ee6d-37c4-4445-dfc7-cb5c16364ebc"
      },
      "source": [
        "print(\"nlp4\")"
      ],
      "execution_count": null,
      "outputs": [
        {
          "output_type": "stream",
          "text": [
            "nlp4\n"
          ],
          "name": "stdout"
        }
      ]
    },
    {
      "cell_type": "markdown",
      "metadata": {
        "id": "IVHHv62gHXYY"
      },
      "source": [
        ""
      ]
    },
    {
      "cell_type": "markdown",
      "metadata": {
        "id": "Dr8S-FgGGJ5U"
      },
      "source": [
        "[![Open In Colab](https://colab.research.google.com/assets/colab-badge.svg)](https://colab.research.google.com/github/CoolCodeMan/intro2LT/blob/lauri/nlp-ryhmä4.ipynb)"
      ]
    },
    {
      "cell_type": "code",
      "metadata": {
        "colab": {
          "base_uri": "https://localhost:8080/"
        },
        "id": "9nGR9zYIg2xb",
        "outputId": "5d0c1522-5de3-4561-b542-b0a4fcc006aa"
      },
      "source": [
        "print(\"lauri oli täällä\")"
      ],
      "execution_count": null,
      "outputs": [
        {
          "output_type": "stream",
          "text": [
            "lauri oli täällä\n"
          ],
          "name": "stdout"
        }
      ]
    },
    {
      "cell_type": "code",
      "metadata": {
        "id": "LOUj2xp5hgz2",
        "colab": {
          "base_uri": "https://localhost:8080/"
        },
        "outputId": "c25ade6c-6a17-42af-baab-a286c1a4d32f"
      },
      "source": [
        "print(\"Jennyllä toimii myös!\")"
      ],
      "execution_count": null,
      "outputs": [
        {
          "output_type": "stream",
          "text": [
            "Jennyllä toimii myös!\n"
          ],
          "name": "stdout"
        }
      ]
    },
    {
      "cell_type": "code",
      "metadata": {
        "id": "1hHPWoTPP_Du"
      },
      "source": [
        "print(\"Hyv\")"
      ],
      "execution_count": null,
      "outputs": []
    },
    {
      "cell_type": "code",
      "metadata": {
        "id": "VrdLFSMx_4pN"
      },
      "source": [
        ""
      ],
      "execution_count": null,
      "outputs": []
    }
  ]
}