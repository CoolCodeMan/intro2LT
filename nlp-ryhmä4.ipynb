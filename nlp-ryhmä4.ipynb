{
  "nbformat": 4,
  "nbformat_minor": 0,
  "metadata": {
    "colab": {
      "name": "nlp-ryhmä4.ipynb",
      "provenance": [],
      "collapsed_sections": [],
      "include_colab_link": true
    },
    "kernelspec": {
      "name": "python3",
      "display_name": "Python 3"
    }
  },
  "cells": [
    {
      "cell_type": "markdown",
      "metadata": {
        "id": "view-in-github",
        "colab_type": "text"
      },
      "source": [
        "<a href=\"https://colab.research.google.com/github/CoolCodeMan/intro2LT/blob/lauri/nlp-ryhm%C3%A44.ipynb\" target=\"_parent\"><img src=\"https://colab.research.google.com/assets/colab-badge.svg\" alt=\"Open In Colab\"/></a>"
      ]
    },
    {
      "cell_type": "code",
      "metadata": {
        "colab": {
          "base_uri": "https://localhost:8080/"
        },
        "id": "-uHNyc4iglDJ",
        "outputId": "18f0ee6d-37c4-4445-dfc7-cb5c16364ebc"
      },
      "source": [
        "print(\"nlp4\")"
      ],
      "execution_count": null,
      "outputs": [
        {
          "output_type": "stream",
          "text": [
            "nlp4\n"
          ],
          "name": "stdout"
        }
      ]
    },
    {
      "cell_type": "code",
      "metadata": {
        "id": "JEhZUFFYKBCe"
      },
      "source": [
        "import pandas as pd"
      ],
      "execution_count": 1,
      "outputs": []
    },
    {
      "cell_type": "code",
      "metadata": {
        "id": "u_eHo6ctLX77",
        "outputId": "a2e5db52-6ee9-4ee5-f9dd-473636cff149",
        "colab": {
          "base_uri": "https://localhost:8080/"
        }
      },
      "source": [
        "# !wget https://github.com/CoolCodeMan/intro2LT/blob/lauri/anger-dev.tsv\n",
        "!wget -O anger-dev.tsv http://dl.turkunlp.org/TKO_8966_2021-projects/anger-annotation/dev.tsv"
      ],
      "execution_count": 11,
      "outputs": [
        {
          "output_type": "stream",
          "text": [
            "--2021-03-23 13:10:31--  http://dl.turkunlp.org/TKO_8966_2021-projects/anger-annotation/dev.tsv\n",
            "Resolving dl.turkunlp.org (dl.turkunlp.org)... 195.148.30.23\n",
            "Connecting to dl.turkunlp.org (dl.turkunlp.org)|195.148.30.23|:80... connected.\n",
            "HTTP request sent, awaiting response... 200 OK\n",
            "Length: 11672 (11K) [application/octet-stream]\n",
            "Saving to: ‘anger-dev.tsv’\n",
            "\n",
            "\ranger-dev.tsv         0%[                    ]       0  --.-KB/s               \ranger-dev.tsv       100%[===================>]  11.40K  --.-KB/s    in 0s      \n",
            "\n",
            "2021-03-23 13:10:31 (145 MB/s) - ‘anger-dev.tsv’ saved [11672/11672]\n",
            "\n"
          ],
          "name": "stdout"
        }
      ]
    },
    {
      "cell_type": "code",
      "metadata": {
        "id": "FGXgkrnNKDXU",
        "outputId": "d57ab6ad-d4e4-49da-f797-28a86fd416ab",
        "colab": {
          "base_uri": "https://localhost:8080/",
          "height": 206
        }
      },
      "source": [
        "# path = '/content/anger-dev.tsv'\n",
        "path = '/content/anger-dev.tsv'\n",
        "df_anger = pd.read_csv(path, error_bad_lines=False, sep='\\t')\n",
        "df_anger.head()"
      ],
      "execution_count": 16,
      "outputs": [
        {
          "output_type": "execute_result",
          "data": {
            "text/html": [
              "<div>\n",
              "<style scoped>\n",
              "    .dataframe tbody tr th:only-of-type {\n",
              "        vertical-align: middle;\n",
              "    }\n",
              "\n",
              "    .dataframe tbody tr th {\n",
              "        vertical-align: top;\n",
              "    }\n",
              "\n",
              "    .dataframe thead th {\n",
              "        text-align: right;\n",
              "    }\n",
              "</style>\n",
              "<table border=\"1\" class=\"dataframe\">\n",
              "  <thead>\n",
              "    <tr style=\"text-align: right;\">\n",
              "      <th></th>\n",
              "      <th>not-anger</th>\n",
              "      <th>Mies oli rehellinen ja vastasi , että ” helvetin hyvä perse ja sääret ” .</th>\n",
              "    </tr>\n",
              "  </thead>\n",
              "  <tbody>\n",
              "    <tr>\n",
              "      <th>0</th>\n",
              "      <td>not-anger</td>\n",
              "      <td>Ois kiva tietää mitä mieltä olitte.</td>\n",
              "    </tr>\n",
              "    <tr>\n",
              "      <th>1</th>\n",
              "      <td>not-anger</td>\n",
              "      <td>Kohentaminen vaatii mielikuvitusta : mitä tehd...</td>\n",
              "    </tr>\n",
              "    <tr>\n",
              "      <th>2</th>\n",
              "      <td>not-anger</td>\n",
              "      <td>Siellä oli jäätä , ja minä onneton valitsin vä...</td>\n",
              "    </tr>\n",
              "    <tr>\n",
              "      <th>3</th>\n",
              "      <td>anger</td>\n",
              "      <td>Mutta mikä olet sinä tai kukaan muukaan nimitt...</td>\n",
              "    </tr>\n",
              "    <tr>\n",
              "      <th>4</th>\n",
              "      <td>not-anger</td>\n",
              "      <td>Se lienee tuskin ministerille juolahtanut miel...</td>\n",
              "    </tr>\n",
              "  </tbody>\n",
              "</table>\n",
              "</div>"
            ],
            "text/plain": [
              "   not-anger Mies oli rehellinen ja vastasi , että ” helvetin hyvä perse ja sääret ” .\n",
              "0  not-anger                Ois kiva tietää mitä mieltä olitte.                       \n",
              "1  not-anger  Kohentaminen vaatii mielikuvitusta : mitä tehd...                       \n",
              "2  not-anger  Siellä oli jäätä , ja minä onneton valitsin vä...                       \n",
              "3      anger  Mutta mikä olet sinä tai kukaan muukaan nimitt...                       \n",
              "4  not-anger  Se lienee tuskin ministerille juolahtanut miel...                       "
            ]
          },
          "metadata": {
            "tags": []
          },
          "execution_count": 16
        }
      ]
    },
    {
      "cell_type": "code",
      "metadata": {
        "id": "VkNlp3lvKStp",
        "outputId": "6d2037cc-e6bd-41b5-fdfe-166083530f6b",
        "colab": {
          "base_uri": "https://localhost:8080/"
        }
      },
      "source": [
        "!wget -O joy-dev.tsv http://dl.turkunlp.org/TKO_8966_2021-projects/joy-annotation/dev.tsv"
      ],
      "execution_count": 17,
      "outputs": [
        {
          "output_type": "stream",
          "text": [
            "--2021-03-23 13:12:06--  http://dl.turkunlp.org/TKO_8966_2021-projects/joy-annotation/dev.tsv\n",
            "Resolving dl.turkunlp.org (dl.turkunlp.org)... 195.148.30.23\n",
            "Connecting to dl.turkunlp.org (dl.turkunlp.org)|195.148.30.23|:80... connected.\n",
            "HTTP request sent, awaiting response... 200 OK\n",
            "Length: 9697 (9.5K) [application/octet-stream]\n",
            "Saving to: ‘joy-dev.tsv’\n",
            "\n",
            "\rjoy-dev.tsv           0%[                    ]       0  --.-KB/s               \rjoy-dev.tsv         100%[===================>]   9.47K  --.-KB/s    in 0s      \n",
            "\n",
            "2021-03-23 13:12:06 (134 MB/s) - ‘joy-dev.tsv’ saved [9697/9697]\n",
            "\n"
          ],
          "name": "stdout"
        }
      ]
    },
    {
      "cell_type": "code",
      "metadata": {
        "id": "N6ZYT5qeNuAn",
        "outputId": "14f057b6-f97a-4824-f76b-f9b700172430",
        "colab": {
          "base_uri": "https://localhost:8080/",
          "height": 206
        }
      },
      "source": [
        "path = '/content/joy-dev.tsv'\n",
        "df_joy = pd.read_csv(path, error_bad_lines=False, sep='\\t')\n",
        "df_joy.head()"
      ],
      "execution_count": 18,
      "outputs": [
        {
          "output_type": "execute_result",
          "data": {
            "text/html": [
              "<div>\n",
              "<style scoped>\n",
              "    .dataframe tbody tr th:only-of-type {\n",
              "        vertical-align: middle;\n",
              "    }\n",
              "\n",
              "    .dataframe tbody tr th {\n",
              "        vertical-align: top;\n",
              "    }\n",
              "\n",
              "    .dataframe thead th {\n",
              "        text-align: right;\n",
              "    }\n",
              "</style>\n",
              "<table border=\"1\" class=\"dataframe\">\n",
              "  <thead>\n",
              "    <tr style=\"text-align: right;\">\n",
              "      <th></th>\n",
              "      <th>joy</th>\n",
              "      <th>Perjantaina pääsin unicafeeseen ja näin kavereita :)</th>\n",
              "    </tr>\n",
              "  </thead>\n",
              "  <tbody>\n",
              "    <tr>\n",
              "      <th>0</th>\n",
              "      <td>joy</td>\n",
              "      <td>Haluan kiittää sekä puheenjohtajavaltio Belgia...</td>\n",
              "    </tr>\n",
              "    <tr>\n",
              "      <th>1</th>\n",
              "      <td>joy</td>\n",
              "      <td>Hiekkaranta näyttää upealta kesäisen auringonl...</td>\n",
              "    </tr>\n",
              "    <tr>\n",
              "      <th>2</th>\n",
              "      <td>joy</td>\n",
              "      <td>Te pelastitte minut taas!</td>\n",
              "    </tr>\n",
              "    <tr>\n",
              "      <th>3</th>\n",
              "      <td>joy</td>\n",
              "      <td>Vähän kallista, mutta hauskaa.</td>\n",
              "    </tr>\n",
              "    <tr>\n",
              "      <th>4</th>\n",
              "      <td>joy</td>\n",
              "      <td>Minulla on onnellinen olo.</td>\n",
              "    </tr>\n",
              "  </tbody>\n",
              "</table>\n",
              "</div>"
            ],
            "text/plain": [
              "   joy Perjantaina pääsin unicafeeseen ja näin kavereita :)\n",
              "0  joy  Haluan kiittää sekä puheenjohtajavaltio Belgia...  \n",
              "1  joy  Hiekkaranta näyttää upealta kesäisen auringonl...  \n",
              "2  joy                          Te pelastitte minut taas!  \n",
              "3  joy                     Vähän kallista, mutta hauskaa.  \n",
              "4  joy                         Minulla on onnellinen olo.  "
            ]
          },
          "metadata": {
            "tags": []
          },
          "execution_count": 18
        }
      ]
    },
    {
      "cell_type": "code",
      "metadata": {
        "id": "bAALXUcpN16h"
      },
      "source": [
        ""
      ],
      "execution_count": null,
      "outputs": []
    },
    {
      "cell_type": "markdown",
      "metadata": {
        "id": "CbGr1oYDLjEJ"
      },
      "source": [
        "# New section"
      ]
    }
  ]
}