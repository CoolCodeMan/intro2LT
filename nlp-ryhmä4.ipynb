{
  "nbformat": 4,
  "nbformat_minor": 0,
  "metadata": {
    "colab": {
      "name": "nlp-ryhmä4.ipynb",
      "provenance": [],
      "collapsed_sections": [],
      "include_colab_link": true
    },
    "kernelspec": {
      "name": "python3",
      "display_name": "Python 3"
    }
  },
  "cells": [
    {
      "cell_type": "markdown",
      "metadata": {
        "id": "view-in-github",
        "colab_type": "text"
      },
      "source": [
        "<a href=\"https://colab.research.google.com/github/CoolCodeMan/intro2LT/blob/lauri/nlp-ryhm%C3%A44.ipynb\" target=\"_parent\"><img src=\"https://colab.research.google.com/assets/colab-badge.svg\" alt=\"Open In Colab\"/></a>"
      ]
    },
    {
      "cell_type": "code",
      "metadata": {
        "colab": {
          "base_uri": "https://localhost:8080/"
        },
        "id": "-uHNyc4iglDJ",
        "outputId": "18f0ee6d-37c4-4445-dfc7-cb5c16364ebc"
      },
      "source": [
        "print(\"nlp4\")"
      ],
      "execution_count": null,
      "outputs": [
        {
          "output_type": "stream",
          "text": [
            "nlp4\n"
          ],
          "name": "stdout"
        }
      ]
    },
    {
      "cell_type": "code",
      "metadata": {
        "id": "JEhZUFFYKBCe"
      },
      "source": [
        "import pandas as pd"
      ],
      "execution_count": null,
      "outputs": []
    },
    {
      "cell_type": "code",
      "metadata": {
        "id": "u_eHo6ctLX77",
        "colab": {
          "base_uri": "https://localhost:8080/"
        },
        "outputId": "a2e5db52-6ee9-4ee5-f9dd-473636cff149"
      },
      "source": [
        "# !wget https://github.com/CoolCodeMan/intro2LT/blob/lauri/anger-dev.tsv\n",
        "!wget -O anger-dev.tsv http://dl.turkunlp.org/TKO_8966_2021-projects/anger-annotation/dev.tsv"
      ],
      "execution_count": null,
      "outputs": [
        {
          "output_type": "stream",
          "text": [
            "--2021-03-23 13:10:31--  http://dl.turkunlp.org/TKO_8966_2021-projects/anger-annotation/dev.tsv\n",
            "Resolving dl.turkunlp.org (dl.turkunlp.org)... 195.148.30.23\n",
            "Connecting to dl.turkunlp.org (dl.turkunlp.org)|195.148.30.23|:80... connected.\n",
            "HTTP request sent, awaiting response... 200 OK\n",
            "Length: 11672 (11K) [application/octet-stream]\n",
            "Saving to: ‘anger-dev.tsv’\n",
            "\n",
            "\ranger-dev.tsv         0%[                    ]       0  --.-KB/s               \ranger-dev.tsv       100%[===================>]  11.40K  --.-KB/s    in 0s      \n",
            "\n",
            "2021-03-23 13:10:31 (145 MB/s) - ‘anger-dev.tsv’ saved [11672/11672]\n",
            "\n"
          ],
          "name": "stdout"
        }
      ]
    },
    {
      "cell_type": "code",
      "metadata": {
        "id": "FGXgkrnNKDXU",
        "colab": {
          "base_uri": "https://localhost:8080/",
          "height": 206
        },
        "outputId": "771a18b1-b608-40b6-fa54-3a7c30a27d9b"
      },
      "source": [
        "# path = '/content/anger-dev.tsv'\n",
        "path = '/content/anger-dev.tsv'\n",
        "df_anger = pd.read_csv(path, error_bad_lines=False, header=0, names=['emotion','text'], sep='\\t')\n",
        "df_anger.head()"
      ],
      "execution_count": 28,
      "outputs": [
        {
          "output_type": "execute_result",
          "data": {
            "text/html": [
              "<div>\n",
              "<style scoped>\n",
              "    .dataframe tbody tr th:only-of-type {\n",
              "        vertical-align: middle;\n",
              "    }\n",
              "\n",
              "    .dataframe tbody tr th {\n",
              "        vertical-align: top;\n",
              "    }\n",
              "\n",
              "    .dataframe thead th {\n",
              "        text-align: right;\n",
              "    }\n",
              "</style>\n",
              "<table border=\"1\" class=\"dataframe\">\n",
              "  <thead>\n",
              "    <tr style=\"text-align: right;\">\n",
              "      <th></th>\n",
              "      <th>emotion</th>\n",
              "      <th>text</th>\n",
              "    </tr>\n",
              "  </thead>\n",
              "  <tbody>\n",
              "    <tr>\n",
              "      <th>0</th>\n",
              "      <td>not-anger</td>\n",
              "      <td>Ois kiva tietää mitä mieltä olitte.</td>\n",
              "    </tr>\n",
              "    <tr>\n",
              "      <th>1</th>\n",
              "      <td>not-anger</td>\n",
              "      <td>Kohentaminen vaatii mielikuvitusta : mitä tehd...</td>\n",
              "    </tr>\n",
              "    <tr>\n",
              "      <th>2</th>\n",
              "      <td>not-anger</td>\n",
              "      <td>Siellä oli jäätä , ja minä onneton valitsin vä...</td>\n",
              "    </tr>\n",
              "    <tr>\n",
              "      <th>3</th>\n",
              "      <td>anger</td>\n",
              "      <td>Mutta mikä olet sinä tai kukaan muukaan nimitt...</td>\n",
              "    </tr>\n",
              "    <tr>\n",
              "      <th>4</th>\n",
              "      <td>not-anger</td>\n",
              "      <td>Se lienee tuskin ministerille juolahtanut miel...</td>\n",
              "    </tr>\n",
              "  </tbody>\n",
              "</table>\n",
              "</div>"
            ],
            "text/plain": [
              "     emotion                                               text\n",
              "0  not-anger                Ois kiva tietää mitä mieltä olitte.\n",
              "1  not-anger  Kohentaminen vaatii mielikuvitusta : mitä tehd...\n",
              "2  not-anger  Siellä oli jäätä , ja minä onneton valitsin vä...\n",
              "3      anger  Mutta mikä olet sinä tai kukaan muukaan nimitt...\n",
              "4  not-anger  Se lienee tuskin ministerille juolahtanut miel..."
            ]
          },
          "metadata": {
            "tags": []
          },
          "execution_count": 28
        }
      ]
    },
    {
      "cell_type": "code",
      "metadata": {
        "id": "VkNlp3lvKStp",
        "colab": {
          "base_uri": "https://localhost:8080/"
        },
        "outputId": "6d2037cc-e6bd-41b5-fdfe-166083530f6b"
      },
      "source": [
        "!wget -O joy-dev.tsv http://dl.turkunlp.org/TKO_8966_2021-projects/joy-annotation/dev.tsv"
      ],
      "execution_count": null,
      "outputs": [
        {
          "output_type": "stream",
          "text": [
            "--2021-03-23 13:12:06--  http://dl.turkunlp.org/TKO_8966_2021-projects/joy-annotation/dev.tsv\n",
            "Resolving dl.turkunlp.org (dl.turkunlp.org)... 195.148.30.23\n",
            "Connecting to dl.turkunlp.org (dl.turkunlp.org)|195.148.30.23|:80... connected.\n",
            "HTTP request sent, awaiting response... 200 OK\n",
            "Length: 9697 (9.5K) [application/octet-stream]\n",
            "Saving to: ‘joy-dev.tsv’\n",
            "\n",
            "\rjoy-dev.tsv           0%[                    ]       0  --.-KB/s               \rjoy-dev.tsv         100%[===================>]   9.47K  --.-KB/s    in 0s      \n",
            "\n",
            "2021-03-23 13:12:06 (134 MB/s) - ‘joy-dev.tsv’ saved [9697/9697]\n",
            "\n"
          ],
          "name": "stdout"
        }
      ]
    },
    {
      "cell_type": "code",
      "metadata": {
        "id": "N6ZYT5qeNuAn",
        "colab": {
          "base_uri": "https://localhost:8080/",
          "height": 206
        },
        "outputId": "3fcec7a6-fb77-4b1d-ed78-3a979304df6a"
      },
      "source": [
        "path = '/content/joy-dev.tsv'\n",
        "df_joy = pd.read_csv(path, error_bad_lines=False, header=0, names=['emotion','text'], sep='\\t')\n",
        "df_joy.head()"
      ],
      "execution_count": 27,
      "outputs": [
        {
          "output_type": "execute_result",
          "data": {
            "text/html": [
              "<div>\n",
              "<style scoped>\n",
              "    .dataframe tbody tr th:only-of-type {\n",
              "        vertical-align: middle;\n",
              "    }\n",
              "\n",
              "    .dataframe tbody tr th {\n",
              "        vertical-align: top;\n",
              "    }\n",
              "\n",
              "    .dataframe thead th {\n",
              "        text-align: right;\n",
              "    }\n",
              "</style>\n",
              "<table border=\"1\" class=\"dataframe\">\n",
              "  <thead>\n",
              "    <tr style=\"text-align: right;\">\n",
              "      <th></th>\n",
              "      <th>emotion</th>\n",
              "      <th>text</th>\n",
              "    </tr>\n",
              "  </thead>\n",
              "  <tbody>\n",
              "    <tr>\n",
              "      <th>0</th>\n",
              "      <td>joy</td>\n",
              "      <td>Haluan kiittää sekä puheenjohtajavaltio Belgia...</td>\n",
              "    </tr>\n",
              "    <tr>\n",
              "      <th>1</th>\n",
              "      <td>joy</td>\n",
              "      <td>Hiekkaranta näyttää upealta kesäisen auringonl...</td>\n",
              "    </tr>\n",
              "    <tr>\n",
              "      <th>2</th>\n",
              "      <td>joy</td>\n",
              "      <td>Te pelastitte minut taas!</td>\n",
              "    </tr>\n",
              "    <tr>\n",
              "      <th>3</th>\n",
              "      <td>joy</td>\n",
              "      <td>Vähän kallista, mutta hauskaa.</td>\n",
              "    </tr>\n",
              "    <tr>\n",
              "      <th>4</th>\n",
              "      <td>joy</td>\n",
              "      <td>Minulla on onnellinen olo.</td>\n",
              "    </tr>\n",
              "  </tbody>\n",
              "</table>\n",
              "</div>"
            ],
            "text/plain": [
              "  emotion                                               text\n",
              "0     joy  Haluan kiittää sekä puheenjohtajavaltio Belgia...\n",
              "1     joy  Hiekkaranta näyttää upealta kesäisen auringonl...\n",
              "2     joy                          Te pelastitte minut taas!\n",
              "3     joy                     Vähän kallista, mutta hauskaa.\n",
              "4     joy                         Minulla on onnellinen olo."
            ]
          },
          "metadata": {
            "tags": []
          },
          "execution_count": 27
        }
      ]
    },
    {
      "cell_type": "code",
      "metadata": {
        "id": "GNDwpVd0PrXY"
      },
      "source": [
        "from sklearn.utils import shuffle"
      ],
      "execution_count": 31,
      "outputs": []
    },
    {
      "cell_type": "code",
      "metadata": {
        "id": "9nOt-d9JOvLU",
        "outputId": "1b6e25be-fed7-4441-c414-f81c31d4c5bb",
        "colab": {
          "base_uri": "https://localhost:8080/",
          "height": 206
        }
      },
      "source": [
        "df = pd.concat([df_joy, df_anger])\n",
        "df = shuffle(df)\n",
        "df.reset_index(inplace=True, drop=True) \n",
        "df.head()"
      ],
      "execution_count": 33,
      "outputs": [
        {
          "output_type": "execute_result",
          "data": {
            "text/html": [
              "<div>\n",
              "<style scoped>\n",
              "    .dataframe tbody tr th:only-of-type {\n",
              "        vertical-align: middle;\n",
              "    }\n",
              "\n",
              "    .dataframe tbody tr th {\n",
              "        vertical-align: top;\n",
              "    }\n",
              "\n",
              "    .dataframe thead th {\n",
              "        text-align: right;\n",
              "    }\n",
              "</style>\n",
              "<table border=\"1\" class=\"dataframe\">\n",
              "  <thead>\n",
              "    <tr style=\"text-align: right;\">\n",
              "      <th></th>\n",
              "      <th>emotion</th>\n",
              "      <th>text</th>\n",
              "    </tr>\n",
              "  </thead>\n",
              "  <tbody>\n",
              "    <tr>\n",
              "      <th>0</th>\n",
              "      <td>not-anger</td>\n",
              "      <td>- luuston terveydestä ei ole pienintäkään enna...</td>\n",
              "    </tr>\n",
              "    <tr>\n",
              "      <th>1</th>\n",
              "      <td>not-joy</td>\n",
              "      <td>Rakkaassa vanhassa pahuksen koulussa.</td>\n",
              "    </tr>\n",
              "    <tr>\n",
              "      <th>2</th>\n",
              "      <td>not-anger</td>\n",
              "      <td>@KaisaNyberg Toivottavasti allergian aiheuttaj...</td>\n",
              "    </tr>\n",
              "    <tr>\n",
              "      <th>3</th>\n",
              "      <td>anger</td>\n",
              "      <td>ÄIä koske häneen, senkin piru!</td>\n",
              "    </tr>\n",
              "    <tr>\n",
              "      <th>4</th>\n",
              "      <td>anger</td>\n",
              "      <td>Minua ei solvata sillä tavalla.</td>\n",
              "    </tr>\n",
              "  </tbody>\n",
              "</table>\n",
              "</div>"
            ],
            "text/plain": [
              "     emotion                                               text\n",
              "0  not-anger  - luuston terveydestä ei ole pienintäkään enna...\n",
              "1    not-joy              Rakkaassa vanhassa pahuksen koulussa.\n",
              "2  not-anger  @KaisaNyberg Toivottavasti allergian aiheuttaj...\n",
              "3      anger                     ÄIä koske häneen, senkin piru!\n",
              "4      anger                    Minua ei solvata sillä tavalla."
            ]
          },
          "metadata": {
            "tags": []
          },
          "execution_count": 33
        }
      ]
    },
    {
      "cell_type": "code",
      "metadata": {
        "id": "ypGdKd1ARTud"
      },
      "source": [
        "labels = df['emotion']\n",
        "dataset = df['text']"
      ],
      "execution_count": 35,
      "outputs": []
    },
    {
      "cell_type": "code",
      "metadata": {
        "id": "bAALXUcpN16h"
      },
      "source": [
        "import sklearn\n",
        "from sklearn.feature_extraction.text import CountVectorizer"
      ],
      "execution_count": 36,
      "outputs": []
    },
    {
      "cell_type": "code",
      "metadata": {
        "id": "GUC62D42RoqW",
        "outputId": "247595ac-5005-4708-a285-3747c98c625d",
        "colab": {
          "base_uri": "https://localhost:8080/"
        }
      },
      "source": [
        "vectorizer=CountVectorizer(max_features=100000,binary=True,ngram_range=(1,4))\n",
        "feature_matrix=vectorizer.fit_transform(dataset)\n",
        "print(\"shape=\",feature_matrix.shape)\n",
        "print(feature_matrix)"
      ],
      "execution_count": 38,
      "outputs": [
        {
          "output_type": "stream",
          "text": [
            "shape= (300, 6736)\n",
            "  (0, 2752)\t1\n",
            "  (0, 5657)\t1\n",
            "  (0, 408)\t1\n",
            "  (0, 3706)\t1\n",
            "  (0, 4450)\t1\n",
            "  (0, 658)\t1\n",
            "  (0, 2753)\t1\n",
            "  (0, 5658)\t1\n",
            "  (0, 449)\t1\n",
            "  (0, 3725)\t1\n",
            "  (0, 4451)\t1\n",
            "  (0, 2754)\t1\n",
            "  (0, 5659)\t1\n",
            "  (0, 462)\t1\n",
            "  (0, 3726)\t1\n",
            "  (0, 2755)\t1\n",
            "  (0, 5660)\t1\n",
            "  (0, 463)\t1\n",
            "  (1, 4726)\t1\n",
            "  (1, 6308)\t1\n",
            "  (1, 4271)\t1\n",
            "  (1, 2303)\t1\n",
            "  (1, 4727)\t1\n",
            "  (1, 6309)\t1\n",
            "  (1, 4272)\t1\n",
            "  :\t:\n",
            "  (298, 274)\t1\n",
            "  (298, 2842)\t1\n",
            "  (298, 5173)\t1\n",
            "  (298, 5726)\t1\n",
            "  (298, 923)\t1\n",
            "  (298, 4955)\t1\n",
            "  (298, 317)\t1\n",
            "  (299, 6717)\t1\n",
            "  (299, 703)\t1\n",
            "  (299, 6220)\t1\n",
            "  (299, 2004)\t1\n",
            "  (299, 5442)\t1\n",
            "  (299, 2267)\t1\n",
            "  (299, 6718)\t1\n",
            "  (299, 704)\t1\n",
            "  (299, 6221)\t1\n",
            "  (299, 2005)\t1\n",
            "  (299, 5443)\t1\n",
            "  (299, 6719)\t1\n",
            "  (299, 705)\t1\n",
            "  (299, 6222)\t1\n",
            "  (299, 2006)\t1\n",
            "  (299, 6720)\t1\n",
            "  (299, 706)\t1\n",
            "  (299, 6223)\t1\n"
          ],
          "name": "stdout"
        }
      ]
    },
    {
      "cell_type": "code",
      "metadata": {
        "id": "lPjnf279SEz7",
        "outputId": "b7f03b9d-e670-4c30-a208-f3c642410dae",
        "colab": {
          "base_uri": "https://localhost:8080/"
        }
      },
      "source": [
        "for i in vectorizer.get_feature_names()[:100]:\n",
        "  print(i)"
      ],
      "execution_count": 41,
      "outputs": [
        {
          "output_type": "stream",
          "text": [
            "000\n",
            "000 dollaria\n",
            "000 dollaria ei\n",
            "000 dollaria ei voi\n",
            "04\n",
            "04 33028\n",
            "04 33028 sort\n",
            "04 33028 sort false\n",
            "10\n",
            "10 11\n",
            "10 11 1953\n",
            "10 11 1953 totesi\n",
            "10 13\n",
            "10 13 hintojen\n",
            "10 13 hintojen korotusta\n",
            "11\n",
            "11 1953\n",
            "11 1953 totesi\n",
            "11 1953 totesi nykyaikaistamisen\n",
            "13\n",
            "13 hintojen\n",
            "13 hintojen korotusta\n",
            "13 hintojen korotusta vuodessa\n",
            "155ieumdul\n",
            "17\n",
            "17 mrd\n",
            "17 mrd euroa\n",
            "17 mrd euroa josta\n",
            "1953\n",
            "1953 totesi\n",
            "1953 totesi nykyaikaistamisen\n",
            "1953 totesi nykyaikaistamisen rajoittuneen\n",
            "2010\n",
            "2010 04\n",
            "2010 04 33028\n",
            "2010 04 33028 sort\n",
            "2vko\n",
            "2vko ja\n",
            "2vko ja muutama\n",
            "2vko ja muutama päivä\n",
            "33028\n",
            "33028 sort\n",
            "33028 sort false\n",
            "33028 sort false miten\n",
            "aamiaisen\n",
            "aamiaisen pariin\n",
            "aamiaisen pariin keittiöön\n",
            "aamiaisen pariin keittiöön mutta\n",
            "aamuinen\n",
            "aamuinen kahvi\n",
            "aamuinen kahvi oli\n",
            "aamuinen kahvi oli kofeiiniriippuvaiselle\n",
            "adam\n",
            "ahteria\n",
            "aiheuttaja\n",
            "aiheuttaja ei\n",
            "aiheuttaja ei ole\n",
            "aiheuttaja ei ole koira\n",
            "aiheuttanut\n",
            "aiheuttanut pahaa\n",
            "aiheuttanut pahaa oloa\n",
            "aika\n",
            "aika vain\n",
            "aika vain suhahtaa\n",
            "aika vain suhahtaa ohi\n",
            "aikaa\n",
            "aikaan\n",
            "aikaani\n",
            "aikaani sitten\n",
            "aikaani sitten muistat\n",
            "aikaani sitten muistat nimeni\n",
            "aikaisemminkin\n",
            "aikaisin\n",
            "aikamoinen\n",
            "aikamoinen mustelma\n",
            "aikamoinen mustelma siin\n",
            "aikamoinen mustelma siin on\n",
            "aikana\n",
            "aikana aikaisemminkin\n",
            "aikuisen\n",
            "aikuisen nimilappua\n",
            "aina\n",
            "aina japsirautojen\n",
            "aina japsirautojen ohi\n",
            "aina japsirautojen ohi että\n",
            "aina mene\n",
            "aina mene perille\n",
            "aina mene perille vaikka\n",
            "aina ollut\n",
            "aina ollut se\n",
            "aina ollut se että\n",
            "aina se\n",
            "aina se auto\n",
            "aina se auto pysäkillä\n",
            "aina sotkuinen\n",
            "aina sotkuinen ihminen\n",
            "aina sotkuinen ihminen kukaan\n",
            "aina suuren\n",
            "aina suuren vaikutuksen\n",
            "ainakaan\n"
          ],
          "name": "stdout"
        }
      ]
    },
    {
      "cell_type": "code",
      "metadata": {
        "id": "PPvl7qciSM1v"
      },
      "source": [
        "import sklearn.svm"
      ],
      "execution_count": 42,
      "outputs": []
    },
    {
      "cell_type": "code",
      "metadata": {
        "id": "gNTBg_DMSXkf",
        "outputId": "bd865d38-ab44-4d1d-e6ea-bc72c9d8ea84",
        "colab": {
          "base_uri": "https://localhost:8080/"
        }
      },
      "source": [
        "classifier=sklearn.svm.LinearSVC(C=0.005,verbose=1)\n",
        "classifier.fit(feature_matrix, labels)"
      ],
      "execution_count": 45,
      "outputs": [
        {
          "output_type": "stream",
          "text": [
            "[LibLinear]"
          ],
          "name": "stdout"
        },
        {
          "output_type": "execute_result",
          "data": {
            "text/plain": [
              "LinearSVC(C=0.005, class_weight=None, dual=True, fit_intercept=True,\n",
              "          intercept_scaling=1, loss='squared_hinge', max_iter=1000,\n",
              "          multi_class='ovr', penalty='l2', random_state=None, tol=0.0001,\n",
              "          verbose=1)"
            ]
          },
          "metadata": {
            "tags": []
          },
          "execution_count": 45
        }
      ]
    },
    {
      "cell_type": "code",
      "metadata": {
        "id": "k08OMVTKSuMY",
        "outputId": "fb3f8caf-13d1-4ebb-bf29-289bfa8916bc",
        "colab": {
          "base_uri": "https://localhost:8080/"
        }
      },
      "source": [
        "print(\"DEV\", classifier.score(feature_matrix, labels))"
      ],
      "execution_count": 46,
      "outputs": [
        {
          "output_type": "stream",
          "text": [
            "DEV 0.81\n"
          ],
          "name": "stdout"
        }
      ]
    },
    {
      "cell_type": "code",
      "metadata": {
        "id": "dkKjfTnbS0GG"
      },
      "source": [
        ""
      ],
      "execution_count": null,
      "outputs": []
    }
  ]
}