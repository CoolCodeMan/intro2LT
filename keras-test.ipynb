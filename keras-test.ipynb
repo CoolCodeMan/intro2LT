{
  "nbformat": 4,
  "nbformat_minor": 0,
  "metadata": {
    "colab": {
      "name": "Untitled1.ipynb",
      "provenance": [],
      "include_colab_link": true
    },
    "kernelspec": {
      "name": "python3",
      "display_name": "Python 3"
    },
    "language_info": {
      "name": "python"
    }
  },
  "cells": [
    {
      "cell_type": "markdown",
      "metadata": {
        "id": "view-in-github",
        "colab_type": "text"
      },
      "source": [
        "<a href=\"https://colab.research.google.com/github/CoolCodeMan/intro2LT/blob/Jenny/keras-test.ipynb\" target=\"_parent\"><img src=\"https://colab.research.google.com/assets/colab-badge.svg\" alt=\"Open In Colab\"/></a>"
      ]
    },
    {
      "cell_type": "code",
      "metadata": {
        "colab": {
          "base_uri": "https://localhost:8080/"
        },
        "id": "D195n37DW_4S",
        "outputId": "c8009f33-975c-4db6-ed49-00439edf4f21"
      },
      "source": [
        "import pandas as pd\n",
        "import sklearn\n",
        "from sklearn.feature_extraction.text import CountVectorizer\n",
        "from sklearn.preprocessing import LabelEncoder\n",
        "import sklearn.svm\n",
        "import sklearn.metrics\n",
        "from sklearn.metrics import classification_report, confusion_matrix\n",
        "import tensorflow as tf\n",
        "import numpy as np\n",
        "from keras.models import Model\n",
        "from keras.layers import Input, Dense\n",
        "from keras.callbacks import ModelCheckpoint, EarlyStopping\n",
        "from keras import optimizers\n",
        "import os\n",
        "import pickle\n",
        "\n",
        "!wget -nc -O joy-train.tsv http://dl.turkunlp.org/TKO_8966_2021-projects/joy-annotation/train.tsv\n",
        "!wget -nc -O joy-dev.tsv http://dl.turkunlp.org/TKO_8966_2021-projects/joy-annotation/dev.tsv\n",
        "!wget -nc -O joy-test.tsv http://dl.turkunlp.org/TKO_8966_2021-projects/joy-annotation/test.tsv"
      ],
      "execution_count": 27,
      "outputs": [
        {
          "output_type": "stream",
          "text": [
            "File ‘joy-train.tsv’ already there; not retrieving.\n",
            "File ‘joy-dev.tsv’ already there; not retrieving.\n",
            "File ‘joy-test.tsv’ already there; not retrieving.\n"
          ],
          "name": "stdout"
        }
      ]
    },
    {
      "cell_type": "code",
      "metadata": {
        "id": "K-v4iks8XKFM"
      },
      "source": [
        "with open(\"joy-train.tsv\", \"r\") as f:\n",
        "  joy_train = pd.read_csv((\"joy-train.tsv\"), header=0, names=['annotation','text'], sep='\\t') # eli tässä luen .tsv-filun ja tallennan sen tuonne joy_trainiin, käyttäen pandas-kirjastoa (importattu as pd)\n",
        "\n",
        "# tässä voi kattoa miltä nyt näyttää toi joy_train\n",
        "# print(joy_train[:10])\n",
        "# print(type(joy_train))\n",
        "\n",
        "with open(\"joy-dev.tsv\", \"r\") as f:\n",
        "  joy_dev = pd.read_csv((\"joy-dev.tsv\"), header=0, names=['annotation','text'], sep='\\t') # sama dev-teksteille\n",
        "\n",
        "with open(\"joy-test.tsv\", \"r\") as f:\n",
        "  joy_test = pd.read_csv((\"joy-dev.tsv\"), header=0, names=['annotation','text'], sep='\\t') # sama dev-teksteille\n",
        "\n",
        "# seuraavaksi luen tekstit ja niiden annotationit omiin listoihinsa molempien (train ja dev) osalta. Tässä vois käyttää tietysti list comprehensionia mut hlökoht pidän tätä \"auki kirjoitettua\" for-loopia\n",
        "# helpompana ymmärtää!\n",
        "\n",
        "train_texts = []\n",
        "for i in joy_train[\"text\"]:\n",
        "  train_texts.append(i)\n",
        "train_labels = []\n",
        "for i in joy_train[\"annotation\"]:\n",
        "  train_labels.append(i)\n",
        "\n",
        "dev_texts = []\n",
        "for i in joy_dev[\"text\"]:\n",
        "  dev_texts.append(i)\n",
        "dev_labels = []\n",
        "for i in joy_dev[\"annotation\"]:\n",
        "  dev_labels.append(i)\n",
        "\n",
        "\n",
        "test_texts = []\n",
        "for i in joy_test[\"text\"]:\n",
        "  test_texts.append(i)\n",
        "test_labels = []\n",
        "for i in joy_test[\"annotation\"]:\n",
        "  test_labels.append(i)\n",
        "# tarkistetaan että molemmissa on tekstejä yhtä paljon kuin labeleitä\n",
        "# assert on nopeampi/lyhyempi tapa tehdä käytännössä if True, continue / if False, raise exception -tyyppinen tarkastus\n",
        "\n",
        "\n",
        "assert len(train_texts) == len(train_labels)\n",
        "assert len(dev_texts) == len(dev_labels)\n",
        "assert len(test_texts) == len(test_labels)\n",
        "\n",
        "#tässä voi kattella mitä nyt nuo listat pitää sisällään\n",
        "\n",
        "#for label, text in list(zip(train_labels, train_texts))[:20]:\n",
        "  #print(label,text)\n",
        "#for label, text in list(zip(dev_labels, dev_texts))[:20]:\n",
        "  #print(label,text)\n",
        "\n",
        "# en näitä nyt shufflaa missään välissä, pitäisikö? luentovideolla perusteltiin datan shufflausta silloin, kun siitä datasta aiotaan erottaa train/dev/test -data (jotta ei käy niin et esim kun ottaa ekat\n",
        "# 30 % trainiin niin ne on kaikki yhtä luokkaa jne) mutta meillä on tässä valmiiksi erotellut train/dev/test, joten onko tarpeen shufflata?"
      ],
      "execution_count": 36,
      "outputs": []
    },
    {
      "cell_type": "code",
      "metadata": {
        "colab": {
          "base_uri": "https://localhost:8080/"
        },
        "id": "9DvKwyTlXOOz",
        "outputId": "0ce76b21-6da0-46c4-af47-792b50acf1d2"
      },
      "source": [
        "# laskeskelen tässä, minkä verran train datassa on kumpaakin labelia\n",
        "not_joys = train_labels.count(\"not-joy\")\n",
        "joys = len(train_labels)-not_joys\n",
        "percent_joy = (joys/len(train_labels))*100\n",
        "percent_not = 100-percent_joy\n",
        "\n",
        "print(not_joys,joys)\n",
        "print(percent_not, percent_joy)"
      ],
      "execution_count": 29,
      "outputs": [
        {
          "output_type": "stream",
          "text": [
            "543 414\n",
            "56.739811912225704 43.260188087774296\n"
          ],
          "name": "stdout"
        }
      ]
    },
    {
      "cell_type": "code",
      "metadata": {
        "id": "l_vwd5tFXdfF"
      },
      "source": [
        "vectorizer=CountVectorizer(binary=True) # määritellään vectorizeriksi sklearnin TfidVectorizer näillä parametreillä. binary=True tekee sen, että kaikki term frequencyt jotka on yli 0 on 1, eli\n",
        "                                        # ei oteta huomioon sitä, kuinka monta kertaa termi on dokumentissa, vaan sillä on väliä, onko se vai eikö se ole -> eli binäärinen systeemi.\n",
        "\n",
        "# sitten tehdään sekä train että dev teksteistä omat feature matrixit käyttäen tätä vectorizeria (featureiden ollessa nyt siis käytännössä sanoja).\n",
        "# train-teksteihin käytetään fit_transformia, jonka avulla vectorizer oppii sanaston ja idf:t ja palauttaa document-term matriisin.\n",
        "# koska train-tekstien avulla on tehty jo fit eli opetus, deviin riittää pelkkä transform (joka palauttaa document-term matriisin)\n",
        "\n",
        "feature_matrix_train=vectorizer.fit_transform(train_texts)\n",
        "feature_matrix_dev=vectorizer.transform(dev_texts)\n",
        "feature_matrix_test=vectorizer.transform(test_texts)"
      ],
      "execution_count": 38,
      "outputs": []
    },
    {
      "cell_type": "code",
      "metadata": {
        "id": "h2U2IGDbXWqq"
      },
      "source": [
        "# sitten ois vuorossa NN-based BoW classifier\n",
        "\n",
        "# keras ei hyväksy numpy matriiseja, joten ne pitää muuttaa tensor-matriiseiksi, luennolla opet selitti löytäneensä\n",
        "# ja kopioineensa tän stack overflowsta ja hyvin näyttää toimivan\n",
        "\n",
        "def convert_sparse_matrix_to_sparse_tensor(X):\n",
        "    coo = X.tocoo()\n",
        "    indices = np.mat([coo.row, coo.col]).transpose()\n",
        "    return tf.sparse.reorder(tf.SparseTensor(indices, coo.data, coo.shape))\n",
        "\n",
        "feature_matrix_train_tf=convert_sparse_matrix_to_sparse_tensor(feature_matrix_train)\n",
        "feature_matrix_dev_tf=convert_sparse_matrix_to_sparse_tensor(feature_matrix_dev)\n",
        "feature_matrix_test_tf=convert_sparse_matrix_to_sparse_tensor(feature_matrix_test)"
      ],
      "execution_count": 39,
      "outputs": []
    },
    {
      "cell_type": "code",
      "metadata": {
        "colab": {
          "base_uri": "https://localhost:8080/"
        },
        "id": "kftrgHc_Xj-q",
        "outputId": "833d2335-19d0-4096-e390-56141de6858e"
      },
      "source": [
        "# sitten muutetaan labelit numeroiksi label_encoderin avulla. Ensin train labeleihin fit_transform joka sovittaa labelit numeoriksi ja palauttaa muutetut,\n",
        "# dev-labeleille ei tarvitse taas fittiä enää tehdä vaan transform riittää\n",
        "\n",
        "label_encoder=LabelEncoder() \n",
        "class_numbers_train=label_encoder.fit_transform(train_labels)\n",
        "class_numbers_dev=label_encoder.transform(dev_labels)\n",
        "class_numbers_test=label_encoder.transform(test_labels)\n",
        "\n",
        "print(\"class_numbers shape=\",class_numbers_train.shape)\n",
        "print(\"class labels\",label_encoder.classes_) #this will let us translate back from indices to labels"
      ],
      "execution_count": 40,
      "outputs": [
        {
          "output_type": "stream",
          "text": [
            "class_numbers shape= (957,)\n",
            "class labels ['joy' 'not-joy']\n"
          ],
          "name": "stdout"
        }
      ]
    },
    {
      "cell_type": "code",
      "metadata": {
        "colab": {
          "base_uri": "https://localhost:8080/"
        },
        "id": "rEueOvl6Xp48",
        "outputId": "90fe08e5-481e-4fa4-9410-b1a5678320ed"
      },
      "source": [
        "example_count,feature_count=feature_matrix_train.shape\n",
        "example_count2=class_numbers_train.shape[0]\n",
        "assert example_count==example_count2  # sanity check\n",
        "\n",
        "class_count=len(label_encoder.classes_) # luokkien määrä, tässä vois olla kaksi, mutta näin voidaan käyttää samaa koodia muuallakin\n",
        "\n",
        "# rakennetaan neuraaliverkko:\n",
        "\n",
        "inp=Input(shape=(feature_count,)) # Input layer\n",
        "hidden=Dense(200,activation=\"tanh\")(inp) # Hidden layer\n",
        "outp=Dense(class_count,activation=\"softmax\")(hidden) # Output layer\n",
        "model=Model(inputs=[inp], outputs=[outp])\n",
        "\n",
        "model.compile(optimizer=\"adam\",loss=\"sparse_categorical_crossentropy\",metrics=[\"accuracy\"])\n",
        "\n",
        "hist=model.fit(feature_matrix_train_tf,class_numbers_train,\\\n",
        "               validation_data=(feature_matrix_dev_tf,class_numbers_dev),\\\n",
        "               batch_size=128,verbose=1,epochs=10)\n",
        "\n"
      ],
      "execution_count": 41,
      "outputs": [
        {
          "output_type": "stream",
          "text": [
            "Epoch 1/10\n",
            "8/8 [==============================] - 1s 26ms/step - loss: 0.6780 - accuracy: 0.5472 - val_loss: 0.6255 - val_accuracy: 0.6667\n",
            "Epoch 2/10\n",
            "8/8 [==============================] - 0s 9ms/step - loss: 0.5024 - accuracy: 0.8461 - val_loss: 0.5758 - val_accuracy: 0.7361\n",
            "Epoch 3/10\n",
            "8/8 [==============================] - 0s 10ms/step - loss: 0.3593 - accuracy: 0.9606 - val_loss: 0.5389 - val_accuracy: 0.7639\n",
            "Epoch 4/10\n",
            "8/8 [==============================] - 0s 9ms/step - loss: 0.2607 - accuracy: 0.9756 - val_loss: 0.5202 - val_accuracy: 0.7500\n",
            "Epoch 5/10\n",
            "8/8 [==============================] - 0s 9ms/step - loss: 0.1853 - accuracy: 0.9806 - val_loss: 0.5054 - val_accuracy: 0.7361\n",
            "Epoch 6/10\n",
            "8/8 [==============================] - 0s 9ms/step - loss: 0.1364 - accuracy: 0.9850 - val_loss: 0.4912 - val_accuracy: 0.7639\n",
            "Epoch 7/10\n",
            "8/8 [==============================] - 0s 9ms/step - loss: 0.0989 - accuracy: 0.9932 - val_loss: 0.4844 - val_accuracy: 0.7708\n",
            "Epoch 8/10\n",
            "8/8 [==============================] - 0s 8ms/step - loss: 0.0774 - accuracy: 0.9917 - val_loss: 0.4835 - val_accuracy: 0.7847\n",
            "Epoch 9/10\n",
            "8/8 [==============================] - 0s 10ms/step - loss: 0.0571 - accuracy: 0.9990 - val_loss: 0.4872 - val_accuracy: 0.7639\n",
            "Epoch 10/10\n",
            "8/8 [==============================] - 0s 10ms/step - loss: 0.0459 - accuracy: 0.9988 - val_loss: 0.4928 - val_accuracy: 0.7639\n"
          ],
          "name": "stdout"
        }
      ]
    },
    {
      "cell_type": "code",
      "metadata": {
        "colab": {
          "base_uri": "https://localhost:8080/"
        },
        "id": "FOwqiN9dXw0D",
        "outputId": "49eefc5d-c537-42ef-d2ab-d831d64cf210"
      },
      "source": [
        "print(hist.history[\"val_accuracy\"])"
      ],
      "execution_count": 34,
      "outputs": [
        {
          "output_type": "stream",
          "text": [
            "[0.6736111044883728, 0.7083333134651184, 0.7291666865348816, 0.7361111044883728, 0.7291666865348816, 0.7430555820465088, 0.7430555820465088, 0.7430555820465088, 0.7569444179534912, 0.7569444179534912]\n"
          ],
          "name": "stdout"
        }
      ]
    },
    {
      "cell_type": "code",
      "metadata": {
        "colab": {
          "base_uri": "https://localhost:8080/",
          "height": 269
        },
        "id": "LAkS2YcNXyVM",
        "outputId": "f5eb5b11-7cd0-4d8d-b87d-121a1d4569d0"
      },
      "source": [
        "%matplotlib inline\n",
        "import matplotlib.pyplot as plt\n",
        "\n",
        "plt.ylim(0.55,1.0)\n",
        "plt.plot(hist.history[\"val_accuracy\"],label=\"Validation set accuracy\")\n",
        "plt.plot(hist.history[\"accuracy\"],label=\"Training set accuracy\")\n",
        "plt.legend()\n",
        "plt.show()"
      ],
      "execution_count": 35,
      "outputs": [
        {
          "output_type": "display_data",
          "data": {
            "image/png": "[encoded data removed]",
            "text/plain": [
              "<Figure size 432x288 with 1 Axes>"
            ]
          },
          "metadata": {
            "tags": [],
            "needs_background": "light"
          }
        }
      ]
    },
    {
      "cell_type": "code",
      "metadata": {
        "id": "OSHxpb56MTHn",
        "outputId": "f5ab8448-aa0d-4125-9068-9f8b8223f041",
        "colab": {
          "base_uri": "https://localhost:8080/"
        }
      },
      "source": [
        "model.fit(feature_matrix_test_tf,class_numbers_test)"
      ],
      "execution_count": 42,
      "outputs": [
        {
          "output_type": "stream",
          "text": [
            "5/5 [==============================] - 0s 4ms/step - loss: 0.4897 - accuracy: 0.7639\n"
          ],
          "name": "stdout"
        },
        {
          "output_type": "execute_result",
          "data": {
            "text/plain": [
              "<tensorflow.python.keras.callbacks.History at 0x7f4cdbf14c50>"
            ]
          },
          "metadata": {
            "tags": []
          },
          "execution_count": 42
        }
      ]
    },
    {
      "cell_type": "code",
      "metadata": {
        "id": "twW_WDP2SIUz"
      },
      "source": [
        ""
      ],
      "execution_count": null,
      "outputs": []
    }
  ]
}