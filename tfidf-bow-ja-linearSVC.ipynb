{
  "nbformat": 4,
  "nbformat_minor": 0,
  "metadata": {
    "colab": {
      "name": "nlp-ryhmä4.ipynb",
      "provenance": [],
      "collapsed_sections": [],
      "include_colab_link": true
    },
    "kernelspec": {
      "name": "python3",
      "display_name": "Python 3"
    }
  },
  "cells": [
    {
      "cell_type": "markdown",
      "metadata": {
        "id": "view-in-github",
        "colab_type": "text"
      },
      "source": [
        "<a href=\"https://colab.research.google.com/github/CoolCodeMan/intro2LT/blob/lauri/tfidf-bow-ja-linearSVC.ipynb\" target=\"_parent\"><img src=\"https://colab.research.google.com/assets/colab-badge.svg\" alt=\"Open In Colab\"/></a>"
      ]
    },
    {
      "cell_type": "code",
      "metadata": {
        "id": "JEhZUFFYKBCe"
      },
      "source": [
        "import pandas as pd"
      ],
      "execution_count": 5,
      "outputs": []
    },
    {
      "cell_type": "code",
      "metadata": {
        "id": "u_eHo6ctLX77",
        "colab": {
          "base_uri": "https://localhost:8080/"
        },
        "outputId": "1181758c-555b-4f63-f535-6db52c66e4b1"
      },
      "source": [
        "!wget -O anger-train.tsv http://dl.turkunlp.org/TKO_8966_2021-projects/anger-annotation/train.tsv\n",
        "!wget -O anger-test.tsv http://dl.turkunlp.org/TKO_8966_2021-projects/anger-annotation/test.tsv\n",
        "!wget -O anger-dev.tsv http://dl.turkunlp.org/TKO_8966_2021-projects/anger-annotation/dev.tsv\n",
        "\n",
        "!wget -O joy-train.tsv http://dl.turkunlp.org/TKO_8966_2021-projects/joy-annotation/train.tsv\n",
        "!wget -O joy-test.tsv http://dl.turkunlp.org/TKO_8966_2021-projects/joy-annotation/test.tsv\n",
        "!wget -O joy-dev.tsv http://dl.turkunlp.org/TKO_8966_2021-projects/joy-annotation/dev.tsv"
      ],
      "execution_count": 1,
      "outputs": [
        {
          "output_type": "stream",
          "text": [
            "--2021-03-27 07:02:37--  http://dl.turkunlp.org/TKO_8966_2021-projects/anger-annotation/train.tsv\n",
            "Resolving dl.turkunlp.org (dl.turkunlp.org)... 195.148.30.23\n",
            "Connecting to dl.turkunlp.org (dl.turkunlp.org)|195.148.30.23|:80... connected.\n",
            "HTTP request sent, awaiting response... 200 OK\n",
            "Length: 94016 (92K) [application/octet-stream]\n",
            "Saving to: ‘anger-train.tsv’\n",
            "\n",
            "anger-train.tsv     100%[===================>]  91.81K   242KB/s    in 0.4s    \n",
            "\n",
            "2021-03-27 07:02:38 (242 KB/s) - ‘anger-train.tsv’ saved [94016/94016]\n",
            "\n",
            "--2021-03-27 07:02:38--  http://dl.turkunlp.org/TKO_8966_2021-projects/anger-annotation/test.tsv\n",
            "Resolving dl.turkunlp.org (dl.turkunlp.org)... 195.148.30.23\n",
            "Connecting to dl.turkunlp.org (dl.turkunlp.org)|195.148.30.23|:80... connected.\n",
            "HTTP request sent, awaiting response... 200 OK\n",
            "Length: 25667 (25K) [application/octet-stream]\n",
            "Saving to: ‘anger-test.tsv’\n",
            "\n",
            "anger-test.tsv      100%[===================>]  25.07K  --.-KB/s    in 0.1s    \n",
            "\n",
            "2021-03-27 07:02:38 (203 KB/s) - ‘anger-test.tsv’ saved [25667/25667]\n",
            "\n",
            "--2021-03-27 07:02:38--  http://dl.turkunlp.org/TKO_8966_2021-projects/anger-annotation/dev.tsv\n",
            "Resolving dl.turkunlp.org (dl.turkunlp.org)... 195.148.30.23\n",
            "Connecting to dl.turkunlp.org (dl.turkunlp.org)|195.148.30.23|:80... connected.\n",
            "HTTP request sent, awaiting response... 200 OK\n",
            "Length: 11672 (11K) [application/octet-stream]\n",
            "Saving to: ‘anger-dev.tsv’\n",
            "\n",
            "anger-dev.tsv       100%[===================>]  11.40K  --.-KB/s    in 0s      \n",
            "\n",
            "2021-03-27 07:02:38 (184 MB/s) - ‘anger-dev.tsv’ saved [11672/11672]\n",
            "\n",
            "--2021-03-27 07:02:39--  http://dl.turkunlp.org/TKO_8966_2021-projects/joy-annotation/train.tsv\n",
            "Resolving dl.turkunlp.org (dl.turkunlp.org)... 195.148.30.23\n",
            "Connecting to dl.turkunlp.org (dl.turkunlp.org)|195.148.30.23|:80... connected.\n",
            "HTTP request sent, awaiting response... 200 OK\n",
            "Length: 71887 (70K) [application/octet-stream]\n",
            "Saving to: ‘joy-train.tsv’\n",
            "\n",
            "joy-train.tsv       100%[===================>]  70.20K   280KB/s    in 0.3s    \n",
            "\n",
            "2021-03-27 07:02:39 (280 KB/s) - ‘joy-train.tsv’ saved [71887/71887]\n",
            "\n",
            "--2021-03-27 07:02:39--  http://dl.turkunlp.org/TKO_8966_2021-projects/joy-annotation/test.tsv\n",
            "Resolving dl.turkunlp.org (dl.turkunlp.org)... 195.148.30.23\n",
            "Connecting to dl.turkunlp.org (dl.turkunlp.org)|195.148.30.23|:80... connected.\n",
            "HTTP request sent, awaiting response... 200 OK\n",
            "Length: 19663 (19K) [application/octet-stream]\n",
            "Saving to: ‘joy-test.tsv’\n",
            "\n",
            "joy-test.tsv        100%[===================>]  19.20K  --.-KB/s    in 0.1s    \n",
            "\n",
            "2021-03-27 07:02:40 (154 KB/s) - ‘joy-test.tsv’ saved [19663/19663]\n",
            "\n",
            "--2021-03-27 07:02:40--  http://dl.turkunlp.org/TKO_8966_2021-projects/joy-annotation/dev.tsv\n",
            "Resolving dl.turkunlp.org (dl.turkunlp.org)... 195.148.30.23\n",
            "Connecting to dl.turkunlp.org (dl.turkunlp.org)|195.148.30.23|:80... connected.\n",
            "HTTP request sent, awaiting response... 200 OK\n",
            "Length: 9697 (9.5K) [application/octet-stream]\n",
            "Saving to: ‘joy-dev.tsv’\n",
            "\n",
            "joy-dev.tsv         100%[===================>]   9.47K  --.-KB/s    in 0s      \n",
            "\n",
            "2021-03-27 07:02:40 (158 MB/s) - ‘joy-dev.tsv’ saved [9697/9697]\n",
            "\n"
          ],
          "name": "stdout"
        }
      ]
    },
    {
      "cell_type": "code",
      "metadata": {
        "id": "ceAxRPFLfuHQ"
      },
      "source": [
        "def open_tsv(path):\n",
        "  dataset = pd.read_csv(path, error_bad_lines=False, header=0, names=['emotion','text'], sep='\\t')\n",
        "  return dataset"
      ],
      "execution_count": 8,
      "outputs": []
    },
    {
      "cell_type": "code",
      "metadata": {
        "id": "qw9zGC80gECr"
      },
      "source": [
        "df_anger_train = open_tsv('/content/anger-train.tsv')\n",
        "df_anger_test = open_tsv('/content/anger-test.tsv')\n",
        "df_anger_dev = open_tsv('/content/anger-dev.tsv')\n",
        "\n",
        "df_joy_train = open_tsv('/content/joy-train.tsv')\n",
        "df_joy_test = open_tsv('/content/joy-test.tsv')\n",
        "df_joy_dev = open_tsv('/content/joy-dev.tsv')"
      ],
      "execution_count": 10,
      "outputs": []
    },
    {
      "cell_type": "code",
      "metadata": {
        "id": "Gz1ESdRIgwpT",
        "outputId": "061fc37b-de4a-4d54-b849-fd5e11b3817e",
        "colab": {
          "base_uri": "https://localhost:8080/"
        }
      },
      "source": [
        "print('anger train : ', df_anger_train.shape)\n",
        "print('anger test  : ', df_anger_test.shape)\n",
        "print('anger dev   : ', df_anger_dev.shape)\n",
        " \n",
        "print('joy train   : ', df_joy_train.shape)\n",
        "print('joy test    : ', df_joy_test.shape)\n",
        "print('joy dev     : ', df_joy_dev.shape)"
      ],
      "execution_count": 15,
      "outputs": [
        {
          "output_type": "stream",
          "text": [
            "anger train :  (1068, 2)\n",
            "anger test  :  (315, 2)\n",
            "anger dev   :  (156, 2)\n",
            "joy train   :  (957, 2)\n",
            "joy test    :  (277, 2)\n",
            "joy dev     :  (144, 2)\n"
          ],
          "name": "stdout"
        }
      ]
    },
    {
      "cell_type": "code",
      "metadata": {
        "id": "9nOt-d9JOvLU"
      },
      "source": [
        "df_train = pd.concat([df_joy_train, df_anger_train])\n",
        "df_dev = pd.concat([df_joy_test, df_anger_test])\n",
        "df_test = pd.concat([df_joy_dev, df_anger_dev])\n",
        "\n",
        "# test\n",
        "df_train['emotion'].replace({'not-joy':'neutral', 'not-anger':'neutral'}, inplace=True)\n",
        "df_test['emotion'].replace({'not-joy':'neutral', 'not-anger':'neutral'}, inplace=True)\n",
        "df_dev['emotion'].replace({'not-joy':'neutral', 'not-anger':'neutral'}, inplace=True)"
      ],
      "execution_count": 52,
      "outputs": []
    },
    {
      "cell_type": "markdown",
      "metadata": {
        "id": "glmNFgDTot9t"
      },
      "source": [
        "toimii paremmin, jos not-joy ja not-anger vaihdetaan neutral"
      ]
    },
    {
      "cell_type": "code",
      "metadata": {
        "id": "ypGdKd1ARTud"
      },
      "source": [
        "labels_train = df_train['emotion']\n",
        "dataset_train = df_train['text']\n",
        "\n",
        "labels_test = df_test['emotion']\n",
        "dataset_test = df_test['text']\n",
        "\n",
        "labels_dev = df_dev['emotion']\n",
        "dataset_dev = df_dev['text']"
      ],
      "execution_count": 53,
      "outputs": []
    },
    {
      "cell_type": "code",
      "metadata": {
        "id": "bAALXUcpN16h"
      },
      "source": [
        "from sklearn.feature_extraction.text import CountVectorizer\n",
        "from sklearn.feature_extraction.text import TfidfVectorizer"
      ],
      "execution_count": 54,
      "outputs": []
    },
    {
      "cell_type": "code",
      "metadata": {
        "id": "GUC62D42RoqW",
        "colab": {
          "base_uri": "https://localhost:8080/"
        },
        "outputId": "3cce0248-aa52-4972-8f7b-d974558963d4"
      },
      "source": [
        "tfidf_vectorizer=TfidfVectorizer(analyzer='word', ngram_range=(1,3))\n",
        "\n",
        "tfidf_vectorizer.fit(dataset_train)\n",
        "\n",
        "feature_matrix_train_tfidf = tfidf_vectorizer.transform(dataset_train)\n",
        "feature_matrix_dev_tfidf = tfidf_vectorizer.transform(dataset_dev)\n",
        "\n",
        "print(\"shape=\",feature_matrix_train_tfidf.shape)\n",
        "print(feature_matrix_train_tfidf)"
      ],
      "execution_count": 55,
      "outputs": [
        {
          "output_type": "stream",
          "text": [
            "shape= (2025, 36389)\n",
            "  (0, 31748)\t0.2728747870574039\n",
            "  (0, 31747)\t0.2728747870574039\n",
            "  (0, 31741)\t0.22971589224927985\n",
            "  (0, 29250)\t0.2728747870574039\n",
            "  (0, 29249)\t0.2728747870574039\n",
            "  (0, 29244)\t0.1845098031851518\n",
            "  (0, 25149)\t0.2728747870574039\n",
            "  (0, 25148)\t0.2728747870574039\n",
            "  (0, 25136)\t0.21114694196732156\n",
            "  (0, 23381)\t0.24899519689976662\n",
            "  (0, 17857)\t0.2728747870574039\n",
            "  (0, 17856)\t0.2728747870574039\n",
            "  (0, 17854)\t0.24899519689976662\n",
            "  (0, 5764)\t0.2728747870574039\n",
            "  (0, 5763)\t0.2728747870574039\n",
            "  (1, 24679)\t0.35614610975909977\n",
            "  (1, 20814)\t0.37536112705655356\n",
            "  (1, 20813)\t0.37536112705655356\n",
            "  (1, 20714)\t0.1909275152577589\n",
            "  (1, 17002)\t0.35614610975909977\n",
            "  (1, 16965)\t0.23838622536111356\n",
            "  (1, 7209)\t0.37536112705655356\n",
            "  (1, 7208)\t0.37536112705655356\n",
            "  (1, 7202)\t0.2990897618806644\n",
            "  (2, 32713)\t0.11401630620310174\n",
            "  :\t:\n",
            "  (2022, 12960)\t0.2676404311328434\n",
            "  (2022, 12959)\t0.2676404311328434\n",
            "  (2022, 12958)\t0.2676404311328434\n",
            "  (2022, 5623)\t0.25393971695915446\n",
            "  (2022, 2430)\t0.2676404311328434\n",
            "  (2022, 2429)\t0.2676404311328434\n",
            "  (2022, 2335)\t0.10701605383173697\n",
            "  (2023, 20284)\t0.42996747490602083\n",
            "  (2023, 20263)\t0.21600178070065285\n",
            "  (2023, 6471)\t0.38022734718422474\n",
            "  (2023, 6468)\t0.33270320959597816\n",
            "  (2023, 6461)\t0.21547729140258537\n",
            "  (2023, 5898)\t0.42996747490602083\n",
            "  (2023, 2483)\t0.42996747490602083\n",
            "  (2023, 2478)\t0.25975961691287835\n",
            "  (2023, 2335)\t0.17192253892910506\n",
            "  (2024, 15313)\t0.3351962610420661\n",
            "  (2024, 15312)\t0.3351962610420661\n",
            "  (2024, 15311)\t0.3351962610420661\n",
            "  (2024, 14421)\t0.3351962610420661\n",
            "  (2024, 14420)\t0.3351962610420661\n",
            "  (2024, 7436)\t0.31803731332557883\n",
            "  (2024, 5920)\t0.3351962610420661\n",
            "  (2024, 5919)\t0.3351962610420661\n",
            "  (2024, 5918)\t0.3351962610420661\n"
          ],
          "name": "stdout"
        }
      ]
    },
    {
      "cell_type": "code",
      "metadata": {
        "id": "nASRMIEWllxp"
      },
      "source": [
        "vectorizer=CountVectorizer(analyzer='word', ngram_range=(1,3))\n",
        "\n",
        "vectorizer.fit(dataset_train)\n",
        "\n",
        "feature_matrix_train = vectorizer.transform(dataset_train)\n",
        "feature_matrix_dev = vectorizer.transform(dataset_dev)"
      ],
      "execution_count": 56,
      "outputs": []
    },
    {
      "cell_type": "markdown",
      "metadata": {
        "id": "zXvgdaszoKf5"
      },
      "source": [
        "# **Classifier**"
      ]
    },
    {
      "cell_type": "code",
      "metadata": {
        "id": "PPvl7qciSM1v"
      },
      "source": [
        "import sklearn.svm"
      ],
      "execution_count": 57,
      "outputs": []
    },
    {
      "cell_type": "code",
      "metadata": {
        "id": "gNTBg_DMSXkf",
        "colab": {
          "base_uri": "https://localhost:8080/"
        },
        "outputId": "2b6b533d-e6d8-4e7f-89fe-58eb2c04e5d4"
      },
      "source": [
        "tfidf_classifier=sklearn.svm.LinearSVC(C=0.5)\n",
        "tfidf_classifier.fit(feature_matrix_train_tfidf, labels_train)"
      ],
      "execution_count": 58,
      "outputs": [
        {
          "output_type": "execute_result",
          "data": {
            "text/plain": [
              "LinearSVC(C=0.5, class_weight=None, dual=True, fit_intercept=True,\n",
              "          intercept_scaling=1, loss='squared_hinge', max_iter=1000,\n",
              "          multi_class='ovr', penalty='l2', random_state=None, tol=0.0001,\n",
              "          verbose=0)"
            ]
          },
          "metadata": {
            "tags": []
          },
          "execution_count": 58
        }
      ]
    },
    {
      "cell_type": "code",
      "metadata": {
        "id": "k08OMVTKSuMY",
        "colab": {
          "base_uri": "https://localhost:8080/"
        },
        "outputId": "cfcf7023-152f-4e6b-f8dc-1bc0840257fc"
      },
      "source": [
        "print(\"TRAIN TFIDF \", tfidf_classifier.score(feature_matrix_train_tfidf, labels_train))\n",
        "print(\"DEV   TFIDF \", tfidf_classifier.score(feature_matrix_dev_tfidf, labels_dev))"
      ],
      "execution_count": 63,
      "outputs": [
        {
          "output_type": "stream",
          "text": [
            "TRAIN TFIDF  0.9930864197530864\n",
            "DEV   TFIDF  0.7804054054054054\n"
          ],
          "name": "stdout"
        }
      ]
    },
    {
      "cell_type": "code",
      "metadata": {
        "id": "XAt92zxhrCoc",
        "outputId": "1bca668e-745e-4b4b-c526-f1f1b3bb5c85",
        "colab": {
          "base_uri": "https://localhost:8080/"
        }
      },
      "source": [
        "classifier=sklearn.svm.LinearSVC(C=0.5)\n",
        "classifier.fit(feature_matrix_train, labels_train)"
      ],
      "execution_count": 60,
      "outputs": [
        {
          "output_type": "execute_result",
          "data": {
            "text/plain": [
              "LinearSVC(C=0.5, class_weight=None, dual=True, fit_intercept=True,\n",
              "          intercept_scaling=1, loss='squared_hinge', max_iter=1000,\n",
              "          multi_class='ovr', penalty='l2', random_state=None, tol=0.0001,\n",
              "          verbose=0)"
            ]
          },
          "metadata": {
            "tags": []
          },
          "execution_count": 60
        }
      ]
    },
    {
      "cell_type": "code",
      "metadata": {
        "id": "Iedu0wGumTUM",
        "outputId": "e5267ab8-1d6a-447c-d626-61a22baa51c9",
        "colab": {
          "base_uri": "https://localhost:8080/"
        }
      },
      "source": [
        "print(\"TRAIN BOW \", classifier.score(feature_matrix_train, labels_train))\n",
        "print(\"DEV   BOW \", classifier.score(feature_matrix_dev, labels_dev))"
      ],
      "execution_count": 64,
      "outputs": [
        {
          "output_type": "stream",
          "text": [
            "TRAIN BOW  0.994567901234568\n",
            "DEV   BOW  0.7922297297297297\n"
          ],
          "name": "stdout"
        }
      ]
    },
    {
      "cell_type": "markdown",
      "metadata": {
        "id": "ZMoGVgB3nUSK"
      },
      "source": [
        "# **TESTI DATA**"
      ]
    },
    {
      "cell_type": "code",
      "metadata": {
        "id": "EDrWIhegmYmB",
        "outputId": "aeaffb09-e44c-4ed7-908e-5cfceab34c80",
        "colab": {
          "base_uri": "https://localhost:8080/"
        }
      },
      "source": [
        "feature_matrix_test_tfidf = tfidf_vectorizer.transform(dataset_test)\n",
        "print(\"TEST TFIDF \", tfidf_classifier.score(feature_matrix_test_tfidf, labels_test))\n",
        "\n",
        "feature_matrix_test = vectorizer.transform(dataset_test)\n",
        "print(\"TEST BOW   \", classifier.score(feature_matrix_test, labels_test))"
      ],
      "execution_count": 65,
      "outputs": [
        {
          "output_type": "stream",
          "text": [
            "TEST TFIDF  0.7533333333333333\n",
            "TEST BOW    0.77\n"
          ],
          "name": "stdout"
        }
      ]
    },
    {
      "cell_type": "code",
      "metadata": {
        "id": "YL5QMAxFoHTr"
      },
      "source": [
        ""
      ],
      "execution_count": null,
      "outputs": []
    }
  ]
}