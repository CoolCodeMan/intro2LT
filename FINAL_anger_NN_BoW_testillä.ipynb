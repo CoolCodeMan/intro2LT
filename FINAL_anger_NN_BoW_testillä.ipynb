{
  "nbformat": 4,
  "nbformat_minor": 0,
  "metadata": {
    "colab": {
      "name": "FINAL_anger_NN_BoW_testillä",
      "provenance": [],
      "collapsed_sections": [],
      "authorship_tag": "ABX9TyPBhO4kEPgiKnC5L1c9I93z",
      "include_colab_link": true
    },
    "kernelspec": {
      "name": "python3",
      "display_name": "Python 3"
    },
    "language_info": {
      "name": "python"
    }
  },
  "cells": [
    {
      "cell_type": "markdown",
      "metadata": {
        "id": "view-in-github",
        "colab_type": "text"
      },
      "source": [
        "<a href=\"https://colab.research.google.com/github/CoolCodeMan/intro2LT/blob/iidaliisa/FINAL_anger_NN_BoW_testill%C3%A4.ipynb\" target=\"_parent\"><img src=\"https://colab.research.google.com/assets/colab-badge.svg\" alt=\"Open In Colab\"/></a>"
      ]
    },
    {
      "cell_type": "code",
      "metadata": {
        "colab": {
          "base_uri": "https://localhost:8080/"
        },
        "id": "oWFd2BoQoYTD",
        "outputId": "bf5b059f-e3d6-49b1-aff5-1234818b27b0"
      },
      "source": [
        "import pandas as pd\n",
        "import sklearn\n",
        "from sklearn.feature_extraction.text import TfidfVectorizer\n",
        "from sklearn.preprocessing import LabelEncoder\n",
        "import sklearn.svm\n",
        "import sklearn.metrics\n",
        "from sklearn.metrics import classification_report, confusion_matrix\n",
        "import tensorflow as tf\n",
        "import numpy as np\n",
        "from keras.models import Model\n",
        "from keras.layers import Input, Dense\n",
        "from keras.callbacks import ModelCheckpoint, EarlyStopping\n",
        "from keras import optimizers\n",
        "import os\n",
        "import pickle\n",
        "\n",
        "!wget -nc -O anger-train.tsv http://dl.turkunlp.org/TKO_8966_2021-projects/anger-annotation/train.tsv\n",
        "!wget -nc -O anger-dev.tsv http://dl.turkunlp.org/TKO_8966_2021-projects/anger-annotation/dev.tsv"
      ],
      "execution_count": 49,
      "outputs": [
        {
          "output_type": "stream",
          "text": [
            "File ‘anger-train.tsv’ already there; not retrieving.\n",
            "File ‘anger-dev.tsv’ already there; not retrieving.\n"
          ],
          "name": "stdout"
        }
      ]
    },
    {
      "cell_type": "code",
      "metadata": {
        "id": "keOGCrkBohVj"
      },
      "source": [
        "with open(\"anger-train.tsv\", \"r\") as f:\n",
        "  anger_train = pd.read_csv((\"anger-train.tsv\"), header=0, names=['annotation','text'], sep='\\t') # luetaan .tsv-tiedosto ja tallennetaan sen anger_trainiin, käyttäen pandas-kirjastoa\n",
        "\n",
        "# Datan katsomista varten:\n",
        "# print(anger_train[:10])\n",
        "# print(type(anger_train))\n",
        "\n",
        "with open(\"anger-dev.tsv\", \"r\") as f:\n",
        "  anger_dev = pd.read_csv((\"anger-dev.tsv\"), header=0, names=['annotation','text'], sep='\\t') # sama dev-teksteille\n",
        "\n",
        "# Seuraavaksi luetaan tekstit ja niiden annotationit omiin listoihinsa molempien (train ja dev) osalta.\n",
        "\n",
        "train_texts = []\n",
        "for i in anger_train[\"text\"]:\n",
        "  train_texts.append(i)\n",
        "train_labels = []\n",
        "for i in anger_train[\"annotation\"]:\n",
        "  train_labels.append(i)\n",
        "\n",
        "dev_texts = []\n",
        "for i in anger_dev[\"text\"]:\n",
        "  dev_texts.append(i)\n",
        "dev_labels = []\n",
        "for i in anger_dev[\"annotation\"]:\n",
        "  dev_labels.append(i)\n",
        "\n",
        "# sanity check\n",
        "\n",
        "assert len(train_texts) == len(train_labels)\n",
        "assert len(dev_texts) == len(dev_labels)\n",
        "\n",
        "# Listojen sisällön katsomista varten:\n",
        "#for label, text in list(zip(train_labels, train_texts))[:20]:\n",
        "  #print(label,text)\n",
        "#for label, text in list(zip(dev_labels, dev_texts))[:20]:\n",
        "  #print(label,text)"
      ],
      "execution_count": 50,
      "outputs": []
    },
    {
      "cell_type": "code",
      "metadata": {
        "colab": {
          "base_uri": "https://localhost:8080/"
        },
        "id": "OdV42BWtqDf7",
        "outputId": "41b65b36-7f5a-4559-dfb0-28c06417a189"
      },
      "source": [
        "# Tarkastellaan, mikä osuus datasta on kumpaakin labelia\n",
        "not_angers = train_labels.count(\"not-anger\")\n",
        "angers = len(train_labels)-not_angers\n",
        "percent_anger = (angers/len(train_labels))*100\n",
        "percent_not = 100-percent_anger\n",
        "\n",
        "print(f\"Not-anger: {not_angers}, {percent_not:.2f}% \\nAnger: {angers}, {percent_anger:.2f}%\")"
      ],
      "execution_count": 51,
      "outputs": [
        {
          "output_type": "stream",
          "text": [
            "Not-anger: 854, 79.96% \n",
            "Anger: 214, 20.04%\n"
          ],
          "name": "stdout"
        }
      ]
    },
    {
      "cell_type": "code",
      "metadata": {
        "id": "wAeOgRkMq_pc"
      },
      "source": [
        "vectorizer=TfidfVectorizer(binary=True)\n",
        "\n",
        "# Tehdään sekä train- että dev-teksteistä omat feature matrixit käyttäen tätä vectorizeria (featureiden ollessa nyt siis käytännössä sanoja).\n",
        "# Train-teksteihin käytetään fit_transformia, jonka avulla vectorizer oppii sanaston ja idf:t ja palauttaa document-term matriisin.\n",
        "# Koska train-tekstien avulla on tehty jo fit eli opetus, deviin riittää pelkkä transform (joka palauttaa document-term matriisin)\n",
        "\n",
        "feature_matrix_train=vectorizer.fit_transform(train_texts)\n",
        "feature_matrix_dev=vectorizer.transform(dev_texts)\n",
        "\n",
        "# keras ei hyväksy numpy-matriiseja, joten ne pitää muuttaa tensor-matriiseiksi luentoesimerkin tapaan.\n",
        "\n",
        "def convert_sparse_matrix_to_sparse_tensor(X):\n",
        "    coo = X.tocoo()\n",
        "    indices = np.mat([coo.row, coo.col]).transpose()\n",
        "    return tf.sparse.reorder(tf.SparseTensor(indices, coo.data, coo.shape))\n",
        "\n",
        "feature_matrix_train_tf=convert_sparse_matrix_to_sparse_tensor(feature_matrix_train)\n",
        "feature_matrix_dev_tf=convert_sparse_matrix_to_sparse_tensor(feature_matrix_dev)"
      ],
      "execution_count": 52,
      "outputs": []
    },
    {
      "cell_type": "code",
      "metadata": {
        "id": "Ko9wLiLDrSac"
      },
      "source": [
        "# Muutetaan labelit numeroiksi label_encoderin avulla. Ensin train labeleihin fit_transform joka sovittaa labelit numeoriksi ja palauttaa muutetut.\n",
        "# Dev-labeleille ei tarvitse taas fittiä enää tehdä, vaan transform riittää.\n",
        "\n",
        "label_encoder=LabelEncoder() \n",
        "class_numbers_train=label_encoder.fit_transform(train_labels)\n",
        "class_numbers_dev=label_encoder.transform(dev_labels)"
      ],
      "execution_count": 54,
      "outputs": []
    },
    {
      "cell_type": "code",
      "metadata": {
        "colab": {
          "base_uri": "https://localhost:8080/"
        },
        "id": "v8VlA5X0rzTe",
        "outputId": "6d536fc3-193b-4de0-bc02-3f82bc3d6163"
      },
      "source": [
        "example_count,feature_count=feature_matrix_train.shape\n",
        "example_count2=class_numbers_train.shape[0]\n",
        "assert example_count==example_count2  # sanity check\n",
        "\n",
        "class_count=len(label_encoder.classes_) # luokkien määrä, tässä vois olla kaksi, mutta näin voidaan käyttää samaa koodia helpommin muuallakin\n",
        "\n",
        "# rakennetaan neuraaliverkko:\n",
        "\n",
        "inp=Input(shape=(feature_count,)) # Input layer\n",
        "hidden=Dense(150,activation=\"tanh\")(inp) # Hidden layer\n",
        "outp=Dense(class_count,activation=\"softmax\")(hidden) # Output layer\n",
        "model=Model(inputs=[inp], outputs=[outp])\n",
        "\n",
        "model.compile(optimizer=\"adam\",loss=\"sparse_categorical_crossentropy\",metrics=[\"accuracy\"])\n",
        "\n",
        "hist=model.fit(feature_matrix_train_tf,class_numbers_train,\\\n",
        "               validation_data=(feature_matrix_dev_tf,class_numbers_dev),\\\n",
        "               batch_size=100,verbose=1,epochs=10)"
      ],
      "execution_count": 55,
      "outputs": [
        {
          "output_type": "stream",
          "text": [
            "Epoch 1/10\n",
            "11/11 [==============================] - 1s 27ms/step - loss: 0.6690 - accuracy: 0.7110 - val_loss: 0.5749 - val_accuracy: 0.7949\n",
            "Epoch 2/10\n",
            "11/11 [==============================] - 0s 10ms/step - loss: 0.5244 - accuracy: 0.8024 - val_loss: 0.4881 - val_accuracy: 0.7949\n",
            "Epoch 3/10\n",
            "11/11 [==============================] - 0s 11ms/step - loss: 0.3994 - accuracy: 0.8208 - val_loss: 0.4475 - val_accuracy: 0.7949\n",
            "Epoch 4/10\n",
            "11/11 [==============================] - 0s 11ms/step - loss: 0.3405 - accuracy: 0.8045 - val_loss: 0.4325 - val_accuracy: 0.7949\n",
            "Epoch 5/10\n",
            "11/11 [==============================] - 0s 10ms/step - loss: 0.2986 - accuracy: 0.8020 - val_loss: 0.4209 - val_accuracy: 0.8205\n",
            "Epoch 6/10\n",
            "11/11 [==============================] - 0s 11ms/step - loss: 0.2281 - accuracy: 0.8961 - val_loss: 0.4118 - val_accuracy: 0.8397\n",
            "Epoch 7/10\n",
            "11/11 [==============================] - 0s 10ms/step - loss: 0.1775 - accuracy: 0.9573 - val_loss: 0.4116 - val_accuracy: 0.8590\n",
            "Epoch 8/10\n",
            "11/11 [==============================] - 0s 11ms/step - loss: 0.1413 - accuracy: 0.9824 - val_loss: 0.4150 - val_accuracy: 0.8590\n",
            "Epoch 9/10\n",
            "11/11 [==============================] - 0s 12ms/step - loss: 0.1050 - accuracy: 0.9920 - val_loss: 0.4207 - val_accuracy: 0.8590\n",
            "Epoch 10/10\n",
            "11/11 [==============================] - 0s 11ms/step - loss: 0.0861 - accuracy: 0.9887 - val_loss: 0.4291 - val_accuracy: 0.8590\n"
          ],
          "name": "stdout"
        }
      ]
    },
    {
      "cell_type": "code",
      "metadata": {
        "colab": {
          "base_uri": "https://localhost:8080/",
          "height": 269
        },
        "id": "0Ytxu6pAsyXQ",
        "outputId": "bfafa354-8559-445c-eaa7-815f5cf1f6a5"
      },
      "source": [
        "%matplotlib inline\n",
        "import matplotlib.pyplot as plt\n",
        "\n",
        "plt.ylim(0.55,1.0)\n",
        "plt.plot(hist.history[\"val_accuracy\"],label=\"Validation set accuracy\")\n",
        "plt.plot(hist.history[\"accuracy\"],label=\"Training set accuracy\")\n",
        "plt.legend()\n",
        "plt.show()"
      ],
      "execution_count": 56,
      "outputs": [
        {
          "output_type": "display_data",
          "data": {
            "image/png": "[encoded data removed]",
            "text/plain": [
              "<Figure size 432x288 with 1 Axes>"
            ]
          },
          "metadata": {
            "tags": [],
            "needs_background": "light"
          }
        }
      ]
    },
    {
      "cell_type": "markdown",
      "metadata": {
        "id": "tVkoUgHWpLdK"
      },
      "source": [
        "**Testaus**"
      ]
    },
    {
      "cell_type": "code",
      "metadata": {
        "colab": {
          "base_uri": "https://localhost:8080/"
        },
        "id": "eGmIsTGPo-Vp",
        "outputId": "431933cb-081d-4879-a4f8-5a413efa6ca3"
      },
      "source": [
        "!wget -nc -O anger-test.tsv http://dl.turkunlp.org/TKO_8966_2021-projects/anger-annotation/test.tsv"
      ],
      "execution_count": 57,
      "outputs": [
        {
          "output_type": "stream",
          "text": [
            "File ‘anger-test.tsv’ already there; not retrieving.\n"
          ],
          "name": "stdout"
        }
      ]
    },
    {
      "cell_type": "code",
      "metadata": {
        "colab": {
          "base_uri": "https://localhost:8080/"
        },
        "id": "cMMGpDBno6qO",
        "outputId": "98fd8ab3-c1a2-4e06-d941-2a061b78e773"
      },
      "source": [
        "with open(\"anger-test.tsv\", \"r\") as f:\n",
        "  anger_test = pd.read_csv((\"anger-test.tsv\"), header=0, names=['annotation','text'], sep='\\t')\n",
        "\n",
        "test_texts = []\n",
        "for i in anger_test[\"text\"]:\n",
        "  test_texts.append(i)\n",
        "test_labels = []\n",
        "for i in anger_test[\"annotation\"]:\n",
        "  test_labels.append(i)\n",
        "\n",
        "not_angers = test_labels.count(\"not-anger\")\n",
        "angers = len(test_labels)-not_angers\n",
        "percent_anger = (angers/len(test_labels))*100\n",
        "percent_not = 100-percent_anger\n",
        "\n",
        "print(f\"Not-anger: {not_angers}, {percent_not:.2f}% \\nAnger: {angers}, {percent_anger:.2f}%\\n\")\n",
        "\n",
        "assert len(test_texts) == len(test_labels)\n",
        "feature_matrix_test=vectorizer.transform(test_texts)\n",
        "feature_matrix_test_tf=convert_sparse_matrix_to_sparse_tensor(feature_matrix_test)\n",
        "class_numbers_test=label_encoder.transform(test_labels)\n",
        "model.evaluate(feature_matrix_test_tf,class_numbers_test)\n"
      ],
      "execution_count": 61,
      "outputs": [
        {
          "output_type": "stream",
          "text": [
            "Not-anger: 251, 79.68% \n",
            "Anger: 64, 20.32%\n",
            "\n",
            "10/10 [==============================] - 0s 2ms/step - loss: 0.3556 - accuracy: 0.8571\n"
          ],
          "name": "stdout"
        },
        {
          "output_type": "execute_result",
          "data": {
            "text/plain": [
              "[0.35557830333709717, 0.8571428656578064]"
            ]
          },
          "metadata": {
            "tags": []
          },
          "execution_count": 61
        }
      ]
    }
  ]
}