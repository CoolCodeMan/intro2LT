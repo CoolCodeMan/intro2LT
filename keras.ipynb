{
  "nbformat": 4,
  "nbformat_minor": 0,
  "metadata": {
    "colab": {
      "name": "Untitled1.ipynb",
      "provenance": [],
      "include_colab_link": true
    },
    "kernelspec": {
      "name": "python3",
      "display_name": "Python 3"
    },
    "language_info": {
      "name": "python"
    }
  },
  "cells": [
    {
      "cell_type": "markdown",
      "metadata": {
        "id": "view-in-github",
        "colab_type": "text"
      },
      "source": [
        "<a href=\"https://colab.research.google.com/github/CoolCodeMan/intro2LT/blob/Jenny/keras.ipynb\" target=\"_parent\"><img src=\"https://colab.research.google.com/assets/colab-badge.svg\" alt=\"Open In Colab\"/></a>"
      ]
    },
    {
      "cell_type": "code",
      "metadata": {
        "colab": {
          "base_uri": "https://localhost:8080/"
        },
        "id": "D195n37DW_4S",
        "outputId": "8a4fe38d-458b-4db3-b8db-1ff2e639c318"
      },
      "source": [
        "# importataan koodissa tarvittavat asiat\n",
        "import pandas as pd\n",
        "\n",
        "import sklearn\n",
        "from sklearn.feature_extraction.text import TfidfVectorizer\n",
        "from sklearn.preprocessing import LabelEncoder\n",
        "import sklearn.svm\n",
        "import sklearn.metrics\n",
        "from sklearn.metrics import classification_report, confusion_matrix\n",
        "\n",
        "import tensorflow as tf\n",
        "from tensorflow import keras\n",
        "from tensorflow.keras import layers\n",
        "from tensorflow.keras import initializers\n",
        "\n",
        "import numpy as np\n",
        "\n",
        "from keras.models import Model\n",
        "from keras.models import Sequential\n",
        "from keras.layers import Input, Dense\n",
        "from keras.layers.convolutional import Convolution2D, MaxPooling2D\n",
        "from keras.layers.core import Dense, Activation, Dropout, Flatten\n",
        "from keras.callbacks import ModelCheckpoint, EarlyStopping\n",
        "from keras.utils import np_utils\n",
        "from keras.regularizers import l2\n",
        "from keras.optimizers import Adam\n",
        "from keras.activations import softmax\n",
        "from keras import optimizers\n",
        "from keras import callbacks\n",
        "\n",
        "import os\n",
        "import pickle\n",
        "\n",
        "%matplotlib inline\n",
        "import matplotlib.pyplot as plt\n",
        "\n",
        "\n",
        "\n",
        "\n",
        "\n",
        "# haetaan aineistot\n",
        "!wget -nc -O joy-train.tsv http://dl.turkunlp.org/TKO_8966_2021-projects/joy-annotation/train.tsv\n",
        "!wget -nc -O joy-dev.tsv http://dl.turkunlp.org/TKO_8966_2021-projects/joy-annotation/dev.tsv\n",
        "!wget -nc -O joy-test.tsv http://dl.turkunlp.org/TKO_8966_2021-projects/joy-annotation/test.tsv"
      ],
      "execution_count": 118,
      "outputs": [
        {
          "output_type": "stream",
          "text": [
            "File ‘joy-train.tsv’ already there; not retrieving.\n",
            "File ‘joy-dev.tsv’ already there; not retrieving.\n",
            "File ‘joy-test.tsv’ already there; not retrieving.\n"
          ],
          "name": "stdout"
        }
      ]
    },
    {
      "cell_type": "code",
      "metadata": {
        "id": "K-v4iks8XKFM",
        "outputId": "eda1e24a-f8d8-4576-fc6d-c721b43656dd",
        "colab": {
          "base_uri": "https://localhost:8080/"
        }
      },
      "source": [
        "# Luetaan train-tiedosto ja tallennetaan se joy_trainiin käyttäen pandas-kirjastoa (importattu as pd).\n",
        "with open(\"joy-train.tsv\", \"r\") as f:\n",
        "  joy_train = pd.read_csv((\"joy-train.tsv\"), header=0, names=['annotation','text'], sep='\\t') \n",
        "\n",
        "# Katsotaan, miltä data näyttää.\n",
        "print(joy_train[:10])\n",
        "print(type(joy_train))\n",
        "\n",
        "# Luetaan dev-tiedosto ja atallennetaan se joy_deviin.\n",
        "with open(\"joy-dev.tsv\", \"r\") as f:\n",
        "  joy_dev = pd.read_csv((\"joy-dev.tsv\"), header=0, names=['annotation','text'], sep='\\t') \n",
        "\n",
        "# Seuraavaksi luetaan tekstit ja niiden annotationit omiin listoihinsa molempien (train ja dev) osalta. \n",
        "# Tässä voisi käyttää myös list comprehensionia, mutta \"auki kirjoitettu\" for-loop helpompi ymmärtää!\n",
        "\n",
        "train_texts = []\n",
        "for i in joy_train[\"text\"]:\n",
        "  train_texts.append(i)\n",
        "train_labels = []\n",
        "for i in joy_train[\"annotation\"]:\n",
        "  train_labels.append(i)\n",
        "\n",
        "dev_texts = []\n",
        "for i in joy_dev[\"text\"]:\n",
        "  dev_texts.append(i)\n",
        "dev_labels = []\n",
        "for i in joy_dev[\"annotation\"]:\n",
        "  dev_labels.append(i)\n",
        "\n",
        "# Tarkistetaan että molemmissa on tekstejä yhtä paljon kuin labeleitä\n",
        "\n",
        "assert len(train_texts) == len(train_labels)\n",
        "assert len(dev_texts) == len(dev_labels)\n",
        "\n",
        "# Katsotaan, mitä listat pitävät sisällään.\n",
        "\n",
        "for label, text in list(zip(train_labels, train_texts))[:20]:\n",
        "  print(label,text)\n",
        "for label, text in list(zip(dev_labels, dev_texts))[:20]:\n",
        "  print(label,text)\n",
        "\n",
        "# Emme sekoita aineistoa, koska meillä on valmiiksi jaetut datasetit."
      ],
      "execution_count": 119,
      "outputs": [
        {
          "output_type": "stream",
          "text": [
            "  annotation                                               text\n",
            "0        joy  Tuntuu mukavalta päästä taas hoitotyön pariin ...\n",
            "1        joy                          Ilo oli minun puolellani.\n",
            "2    not-joy  Turkkilaiset kollegani suuresta Turkin kansall...\n",
            "3        joy    Haluan sanoa, että olet tehnyt loistavaa työtä.\n",
            "4        joy  Hyvä kun muistutit, että Noin viikon uutiset i...\n",
            "5    not-joy  Orpo ja Soini twiittaavat, että hallitusyhteis...\n",
            "6        joy                        Moskova on kaunis keväällä.\n",
            "7    not-joy  Musta ja Valkoinen haihtuvat keltaiseksi jauhe...\n",
            "8        joy        Itsetehdyt croissantit maistuvat ihanilta .\n",
            "9    not-joy  Jos sinusta tulee joskus sankari, lupaan olla ...\n",
            "<class 'pandas.core.frame.DataFrame'>\n",
            "joy Tuntuu mukavalta päästä taas hoitotyön pariin . :)\n",
            "joy Ilo oli minun puolellani.\n",
            "not-joy Turkkilaiset kollegani suuresta Turkin kansalliskokouksesta harmittelevat samoin tätä epäkohtaa , nimittäin että kukaan ei halua ilmeisesti puhua heidän kanssaan , ei kansallisista hallituksista tai parlamenteista eikä myöskään lähes kaikista eurooppalaisista instituutioista .\n",
            "joy Haluan sanoa, että olet tehnyt loistavaa työtä.\n",
            "joy Hyvä kun muistutit, että Noin viikon uutiset ilmaantuu taas kuvioihin😊\n",
            "not-joy Orpo ja Soini twiittaavat, että hallitusyhteistyötä ei voida jatkaa.\n",
            "joy Moskova on kaunis keväällä.\n",
            "not-joy Musta ja Valkoinen haihtuvat keltaiseksi jauheeksi ja painuvat lattian alle .\n",
            "joy Itsetehdyt croissantit maistuvat ihanilta .\n",
            "not-joy Jos sinusta tulee joskus sankari, lupaan olla kunnollinen ihminen.\n",
            "not-joy Miksi te juotte kylmää kahvia?\n",
            "not-joy Minun pitäisi käyttää sitä.\n",
            "joy Meille riittää, että pelastuit. Hyvä voittaa aina pahan.\n",
            "not-joy * 19. elokuuta 2009 : Demokraattien tappouhkauksia USA:ssa\n",
            "joy Kiitos, että olet syntynyt.\n",
            "not-joy Selviän minäkin jollei pääni lätsähdä asfalttiin tai jollei pääni muuten selviä tästä emansipatorisesta pikku huppelistani .\n",
            "not-joy Valo-Filmin yritteliäisyys ei saanut lehdistössä huomiota eikä kannustusta.\n",
            "not-joy Eihän tämä mitään haittaa.\n",
            "not-joy Näillä minä ainakin saattaisin puuttua peliin ja olisihan se silloin kiva nähdä tuollainen valtakirja.\n",
            "not-joy Nassau ja Suffolk ovat purkissa.\n",
            "joy Haluan kiittää sekä puheenjohtajavaltio Belgiaa että komissiota siitä erinomaisesta ja rakentavasta yhteistyöstä , jota ne tekivät sekä minun että muiden esittelijöiden kanssa tässä asiassa .\n",
            "joy Hiekkaranta näyttää upealta kesäisen auringonlaskun aikaan.\n",
            "joy Te pelastitte minut taas!\n",
            "joy Vähän kallista, mutta hauskaa.\n",
            "joy Minulla on onnellinen olo.\n",
            "not-joy Miehen ” kuolaan , koska osaan –katse ” näkyy selvästi .\n",
            "joy Hauska nähdä teidät täällä.\n",
            "joy Sain ihania ripsitupsuja silmiini ja pitihän ne sitten kuvata .\n",
            "joy Runosihan polkee suohon =) Mahtava\n",
            "not-joy Jos semmosen näyn joskus näette hiukan ennen kolaria, ni se olen sitten minä.\n",
            "joy Mukava nähdä sinua, äiti.\n",
            "joy Tiesin, että kaikki menisi hyvin.\n",
            "joy Se on kunniatehtävä, joka osoittaa, että kuningas luottaa minuun.\n",
            "not-joy Joku teini?\n",
            "not-joy lsoisäni antoi tämän minulle juuri ennen kuolemaansa.\n",
            "not-joy Olen Tod, äitinne työkaveri. Jamie.\n",
            "joy Tykkään olla lihava, koska se on mukavaa.\n",
            "joy Siksi kiitän tästä hetkestä ; perheestä , kodista ja työstä .\n",
            "not-joy Tämä on kuin koulussa.\n",
            "joy Public Domain sinä olit hyvä.\n"
          ],
          "name": "stdout"
        }
      ]
    },
    {
      "cell_type": "code",
      "metadata": {
        "colab": {
          "base_uri": "https://localhost:8080/"
        },
        "id": "9DvKwyTlXOOz",
        "outputId": "fbac476c-0871-4b4d-e598-243bc8a8df9d"
      },
      "source": [
        "# Lasketaan, minkä verran train datassa on kumpaakin labelia.\n",
        "not_joys = train_labels.count(\"not-joy\")\n",
        "joys = len(train_labels)-not_joys\n",
        "percent_joy = (joys/len(train_labels))*100\n",
        "percent_not = 100-percent_joy\n",
        "\n",
        "print(not_joys,joys)\n",
        "print(percent_not, percent_joy)"
      ],
      "execution_count": 120,
      "outputs": [
        {
          "output_type": "stream",
          "text": [
            "543 414\n",
            "56.739811912225704 43.260188087774296\n"
          ],
          "name": "stdout"
        }
      ]
    },
    {
      "cell_type": "code",
      "metadata": {
        "id": "l_vwd5tFXdfF"
      },
      "source": [
        "# Määritellään vectorizeriksi sklearnin TfidVectorizer näillä parametreillä: binary=True tekee sen, että kaikki term frequencyt jotka on yli 0 on 1, eli\n",
        "# ei oteta huomioon sitä, kuinka monta kertaa termi on dokumentissa, vaan sillä on väliä, onko se vai eikö se ole ->  binäärinen systeemi.\n",
        "vectorizer=TfidfVectorizer(binary=True) \n",
        "                                        \n",
        "\n",
        "# Tehdään sekä train- että dev-teksteistä omat feature matrixit käyttäen tätä vectorizeria (featureiden ollessa nyt siis käytännössä sanoja).\n",
        "# Train-teksteihin käytetään fit_transformia, jonka avulla vectorizer oppii sanaston ja idf:t ja palauttaa document-term matriisin.\n",
        "# Koska train-tekstien avulla on tehty jo fit eli opetus, deviin riittää pelkkä transform (joka palauttaa document-term matriisin)\n",
        "\n",
        "feature_matrix_train=vectorizer.fit_transform(train_texts)\n",
        "feature_matrix_dev=vectorizer.transform(dev_texts)"
      ],
      "execution_count": 121,
      "outputs": []
    },
    {
      "cell_type": "code",
      "metadata": {
        "id": "h2U2IGDbXWqq"
      },
      "source": [
        "# Tehdään seuraavaksi NN-based BoW classifier\n",
        "\n",
        "# Keras ei hyväksy numpy-matriiseja, joten ne pitää muuttaa tensor-matriiseiksi. luennolla opet selitti löytäneensä\n",
        "# Käytämme kurssilla esiteltyä Stack Overflow'sta kopioitua koodia.\n",
        "\n",
        "def convert_sparse_matrix_to_sparse_tensor(X):\n",
        "    coo = X.tocoo()\n",
        "    indices = np.mat([coo.row, coo.col]).transpose()\n",
        "    return tf.sparse.reorder(tf.SparseTensor(indices, coo.data, coo.shape))\n",
        "\n",
        "feature_matrix_train_tf=convert_sparse_matrix_to_sparse_tensor(feature_matrix_train)\n",
        "feature_matrix_dev_tf=convert_sparse_matrix_to_sparse_tensor(feature_matrix_dev)"
      ],
      "execution_count": 122,
      "outputs": []
    },
    {
      "cell_type": "code",
      "metadata": {
        "colab": {
          "base_uri": "https://localhost:8080/"
        },
        "id": "kftrgHc_Xj-q",
        "outputId": "ad4255b7-0f0e-4247-d72c-9e254f44aa32"
      },
      "source": [
        "# Mutetaan labelit numeroiksi label_encoderin avulla. \n",
        "# Ensin train labeleihin fit_transform, joka sovittaa labelit numeoriksi ja palauttaa muutetut.\n",
        "# Dev-labeleille ei tarvitse fittiä enää tehdä, vaan transform riittää.\n",
        "\n",
        "label_encoder=LabelEncoder() \n",
        "class_numbers_train=label_encoder.fit_transform(train_labels)\n",
        "class_numbers_dev=label_encoder.transform(dev_labels)\n",
        "\n",
        "print(\"class_numbers shape=\",class_numbers_train.shape)\n",
        "print(\"class labels\",label_encoder.classes_) "
      ],
      "execution_count": 123,
      "outputs": [
        {
          "output_type": "stream",
          "text": [
            "class_numbers shape= (957,)\n",
            "class labels ['joy' 'not-joy']\n"
          ],
          "name": "stdout"
        }
      ]
    },
    {
      "cell_type": "code",
      "metadata": {
        "colab": {
          "base_uri": "https://localhost:8080/"
        },
        "id": "rEueOvl6Xp48",
        "outputId": "19e36746-0a0f-47ef-c4c6-b88c1e7ed1ac"
      },
      "source": [
        "# Neuroverkko\n",
        "# Earlystopping pysäyttää ohjelman, kun val_accuracy ei enää nouse.\n",
        "\n",
        "earlystopping = callbacks.EarlyStopping(monitor =\"val_loss\", \\\n",
        "                                        mode =\"min\", patience = 5, \\\n",
        "                                        restore_best_weights = True)\n",
        "\n",
        "example_count,feature_count=feature_matrix_train.shape\n",
        "example_count2=class_numbers_train.shape[0]\n",
        "assert example_count==example_count2  # sanity check\n",
        "\n",
        "# Luokkien määrä\n",
        "class_count=len(label_encoder.classes_) \n",
        "\n",
        "# Rakennetaan neuroverkko:\n",
        "\n",
        "inp=Input(shape=(feature_count,)) # Input-layer\n",
        "hidden=Dense(1500, bias_regularizer=l2(0.00001), activation=\"tanh\")(inp) # 1. hidden layer\n",
        "hidden2=Dropout(0.8)(hidden) # 1. dropout-layer (tällä pyritään ehkäisemään over fit -ongelmaa)\n",
        "hidden3=Dense(1500, bias_regularizer=l2(0.00001), activation=\"relu\")(hidden2) # 2. hidden layer\n",
        "hidden4=Dropout(0.5)(hidden3) # 2. dropout-layer\n",
        "outp=Dense(class_count,activation='sigmoid')(hidden4) # Output-layer\n",
        "\n",
        "model=Model(inputs=[inp], outputs=[outp])\n",
        "model.compile(optimizer=keras.optimizers.Adam(learning_rate=0.0001), loss=\"sparse_categorical_crossentropy\", metrics=\"accuracy\")\n",
        "\n",
        "hist=model.fit(feature_matrix_train_tf,class_numbers_train,\\\n",
        "               validation_data=(feature_matrix_dev_tf,class_numbers_dev), callbacks = [earlystopping], \\\n",
        "               batch_size=8,verbose=1,epochs=1000)\n",
        "\n"
      ],
      "execution_count": 124,
      "outputs": [
        {
          "output_type": "stream",
          "text": [
            "Epoch 1/1000\n",
            "120/120 [==============================] - 6s 44ms/step - loss: 0.6906 - accuracy: 0.5479 - val_loss: 0.6753 - val_accuracy: 0.5694\n",
            "Epoch 2/1000\n",
            "120/120 [==============================] - 5s 43ms/step - loss: 0.6729 - accuracy: 0.5803 - val_loss: 0.6540 - val_accuracy: 0.5833\n",
            "Epoch 3/1000\n",
            "120/120 [==============================] - 5s 43ms/step - loss: 0.6405 - accuracy: 0.6098 - val_loss: 0.6192 - val_accuracy: 0.6736\n",
            "Epoch 4/1000\n",
            "120/120 [==============================] - 5s 43ms/step - loss: 0.5922 - accuracy: 0.7046 - val_loss: 0.5708 - val_accuracy: 0.7153\n",
            "Epoch 5/1000\n",
            "120/120 [==============================] - 5s 43ms/step - loss: 0.4897 - accuracy: 0.8396 - val_loss: 0.5314 - val_accuracy: 0.7153\n",
            "Epoch 6/1000\n",
            "120/120 [==============================] - 5s 43ms/step - loss: 0.3406 - accuracy: 0.9158 - val_loss: 0.5419 - val_accuracy: 0.7361\n",
            "Epoch 7/1000\n",
            "120/120 [==============================] - 5s 44ms/step - loss: 0.2077 - accuracy: 0.9565 - val_loss: 0.5750 - val_accuracy: 0.7431\n",
            "Epoch 8/1000\n",
            "120/120 [==============================] - 5s 44ms/step - loss: 0.1318 - accuracy: 0.9681 - val_loss: 0.6236 - val_accuracy: 0.7500\n",
            "Epoch 9/1000\n",
            "120/120 [==============================] - 5s 43ms/step - loss: 0.0793 - accuracy: 0.9875 - val_loss: 0.6493 - val_accuracy: 0.7500\n",
            "Epoch 10/1000\n",
            "120/120 [==============================] - 5s 43ms/step - loss: 0.0514 - accuracy: 0.9879 - val_loss: 0.6904 - val_accuracy: 0.7639\n"
          ],
          "name": "stdout"
        }
      ]
    },
    {
      "cell_type": "code",
      "metadata": {
        "colab": {
          "base_uri": "https://localhost:8080/",
          "height": 269
        },
        "id": "LAkS2YcNXyVM",
        "outputId": "c0dbeb40-f245-426a-fbb3-ff0204989bdf"
      },
      "source": [
        "# Kaavio training- ja validation-accuracysta.\n",
        "\n",
        "plt.ylim(0.55,1.0)\n",
        "plt.plot(hist.history[\"val_accuracy\"],label=\"Validation set accuracy\")\n",
        "plt.plot(hist.history[\"accuracy\"],label=\"Training set accuracy\")\n",
        "plt.legend()\n",
        "plt.show()"
      ],
      "execution_count": 125,
      "outputs": [
        {
          "output_type": "display_data",
          "data": {
            "image/png": "[encoded data removed]",
            "text/plain": [
              "<Figure size 432x288 with 1 Axes>"
            ]
          },
          "metadata": {
            "tags": [],
            "needs_background": "light"
          }
        }
      ]
    },
    {
      "cell_type": "code",
      "metadata": {
        "id": "w1_vG3V8l17G",
        "outputId": "70ced0cc-a4f7-4373-8954-13cc9842bac9",
        "colab": {
          "base_uri": "https://localhost:8080/"
        }
      },
      "source": [
        "# Testaus\n",
        "\n",
        "with open(\"joy-test.tsv\", \"r\") as f:\n",
        "  joy_test = pd.read_csv((\"joy-test.tsv\"), header=0, names=['annotation','text'], sep='\\t')\n",
        "\n",
        "test_texts = []\n",
        "for i in joy_test[\"text\"]:\n",
        "  test_texts.append(i)\n",
        "test_labels = []\n",
        "for i in joy_test[\"annotation\"]:\n",
        "  test_labels.append(i)\n",
        "\n",
        "not_joys = test_labels.count(\"not-joy\")\n",
        "joys = len(test_labels)-not_joys\n",
        "percent_joy = (joys/len(test_labels))*100\n",
        "percent_not = 100-percent_joy\n",
        "\n",
        "print(f\"Not-joy: {not_joys}, {percent_not:.2f}% \\nJoy: {joys}, {percent_joy:.2f}%\\n\")\n",
        "\n",
        "assert len(test_texts) == len(test_labels)\n",
        "feature_matrix_test=vectorizer.transform(test_texts)\n",
        "feature_matrix_test_tf=convert_sparse_matrix_to_sparse_tensor(feature_matrix_test)\n",
        "class_numbers_test=label_encoder.transform(test_labels)\n",
        "model.evaluate(feature_matrix_test_tf,class_numbers_test)"
      ],
      "execution_count": 126,
      "outputs": [
        {
          "output_type": "stream",
          "text": [
            "Not-joy: 157, 56.68% \n",
            "Joy: 120, 43.32%\n",
            "\n",
            "9/9 [==============================] - 0s 7ms/step - loss: 0.4839 - accuracy: 0.7834\n"
          ],
          "name": "stdout"
        },
        {
          "output_type": "execute_result",
          "data": {
            "text/plain": [
              "[0.48385852575302124, 0.7833935022354126]"
            ]
          },
          "metadata": {
            "tags": []
          },
          "execution_count": 126
        }
      ]
    }
  ]
}